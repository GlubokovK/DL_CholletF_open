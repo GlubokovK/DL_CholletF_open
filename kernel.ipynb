{
  "cells": [
    {
      "metadata": {
        "_uuid": "8f2839f25d086af736a60e9eeb907d3b93b6e0e5",
        "_cell_guid": "b1076dfc-b9ad-4769-8c92-a6c4dae69d19",
        "trusted": true
      },
      "cell_type": "code",
      "source": "import numpy as np # linear algebra\nimport pandas as pd # data processing, CSV file I/O (e.g. pd.read_csv)\nimport matplotlib.pyplot as plt\nimport os\nprint(os.listdir(\"../input/santander-test1\"))\n",
      "execution_count": null,
      "outputs": []
    },
    {
      "metadata": {
        "_cell_guid": "79c7e3d0-c299-4dcb-8224-4455121ee9b0",
        "_uuid": "d629ff2d2480ee46fbb7e2d37f6b5fab8052498a",
        "trusted": true
      },
      "cell_type": "code",
      "source": "import tensorflow as tf\ndevice_name = tf. test.gpu_device_name()\nif device_name != '/device:GPU:0':\n    raise SystemError('GPU device not found')\nprint('Found GPU at: {}'.format(device_name))",
      "execution_count": null,
      "outputs": []
    },
    {
      "metadata": {
        "trusted": true,
        "_uuid": "d586fd829677844bb713c82ba31480cf2b035f92"
      },
      "cell_type": "code",
      "source": "%%time\nbase_dir = '../input/santander-customer-transaction-prediction/'\nbase_train_df = pd.read_csv(base_dir + \"train.csv\")\ntest_df = pd.read_csv(base_dir + \"test.csv\")\nsmple_df = pd.read_csv(base_dir + \"sample_submission.csv\")",
      "execution_count": null,
      "outputs": []
    },
    {
      "metadata": {
        "trusted": true,
        "_uuid": "0c2e7c390698e52cc105c04dfe26a5ef1ae44188"
      },
      "cell_type": "code",
      "source": "test2_df = pd.read_csv(\"../input/santander-test1/\" + \"submission2.csv\")\ntest2_df_all = pd.merge(test2_df,test_df,on=['ID_code'])\n#all_df=pd.concat([base_train_df,test2_df_all])\n#all_df.shape",
      "execution_count": null,
      "outputs": []
    },
    {
      "metadata": {
        "trusted": true,
        "_uuid": "9d39900737fe47a9cf3133dddc68959f6af99fd8"
      },
      "cell_type": "code",
      "source": "print('train_df.shape = {}'.format(base_train_df.shape))\nprint('test_df.shape = {}'.format(test_df.shape))",
      "execution_count": null,
      "outputs": []
    },
    {
      "metadata": {
        "trusted": true,
        "_uuid": "0e7a86bcd02845e4a8dd40a94c023800804aabc6"
      },
      "cell_type": "code",
      "source": "#Сформируем отложенную выборку\nbase_train_df=base_train_df.sample(frac=1)\ntrain_df_train=base_train_df.iloc[:180000]\ntrain_df_test=base_train_df.iloc[180000:]\nprint(train_df_train.shape)\nprint(train_df_test.shape)",
      "execution_count": null,
      "outputs": []
    },
    {
      "metadata": {
        "trusted": true,
        "_uuid": "58ee17f172849714eb6e68691e103edead9e217b"
      },
      "cell_type": "code",
      "source": "#дополнение выборки до сбалансированной, \nif 1:\n    train_df_target = train_df_train\n    for i in range(7):\n        train_df_target=pd.concat([train_df_target,train_df_train[train_df_train['target']==1]])\n    train_df_target = train_df_target.sample(frac=1)\n    print(train_df_target.shape)\n    \n# или использование читерской выборки, без отложенной части\nif 0:\n    train_df_target = pd.concat([train_df_train,test2_df_all])\n    train_df_target = train_df_target.sample(frac=1)\n    print(train_df_target.shape)\n\n# или стандартный тренировочный набор\nif 0:\n    train_df_target = train_df_train\n    print(train_df_target.shape)",
      "execution_count": null,
      "outputs": []
    },
    {
      "metadata": {
        "trusted": true,
        "_uuid": "7e9f7692bf79dadc5a7bbda760b8f309d3922ec8"
      },
      "cell_type": "code",
      "source": "n1=train_df_target[train_df_target['target']==1].shape[0]\nn0=train_df_target[train_df_target['target']==0].shape[0]\nn=train_df_target.shape[0]\nprint(train_df_target[train_df_target['target']==1].shape)\nprint(train_df_target[train_df_target['target']==0].shape)\nprint(n1/n,n0/n)\ntrain_df_target.describe()",
      "execution_count": null,
      "outputs": []
    },
    {
      "metadata": {
        "trusted": true,
        "_uuid": "27aece8c75848e4ed90f56e3646c103a5188ee3d"
      },
      "cell_type": "code",
      "source": "x_test = test_df[test_df.columns[1:]].values\nid_test = test_df[test_df.columns[0:]].values\n",
      "execution_count": null,
      "outputs": []
    },
    {
      "metadata": {
        "trusted": true,
        "_uuid": "47dbbce577ef879eb3128bfc9b929ef6137633f0"
      },
      "cell_type": "code",
      "source": "x_train = train_df_target[train_df_target.columns[2:]].values\ny_train = train_df_target[train_df_target.columns[1]].values\nx_val = train_df_test[train_df_test.columns[2:]].values\ny_val = train_df_test[train_df_test.columns[1]].values\n\nmean = x_train.mean(axis=0)\nx_train -= mean\nstd = x_train.std(axis=0)\nx_train /= std\n\nx_val -= mean\nx_val /= std\n\nx_test = test_df[test_df.columns[1:]].values\nid_test = test_df[test_df.columns[0]].values\nx_test -= mean\nx_test /= std\n\nprint(x_train.shape)\nprint(x_val.shape)",
      "execution_count": null,
      "outputs": []
    },
    {
      "metadata": {
        "trusted": true,
        "_uuid": "3584ddd5796e619069cd5cd25b386bcb40a1db48"
      },
      "cell_type": "code",
      "source": "from keras import models\nfrom keras import layers\nfrom keras import optimizers\nfrom keras import metrics\nfrom sklearn.metrics import auc\nfrom keras import regularizers\n\nmodel = models.Sequential()\nn = 64\nmodel.add(layers.Dense(n, \n                       activation='relu', \n                       kernel_regularizer=regularizers.l1_l2(l1=0.001, l2=0.001),\n                       #kernel_regularizer=regularizers.l1(0.001),\n                       #bias_regularizer=regularizers.l2(0.001),\n                       #activity_regularizer=regularizers.l2(0.001),\n                       \n                       input_shape=(200,)))\nmodel.add(layers.Dense(n, \n                       activation='relu', \n                       kernel_regularizer=regularizers.l1_l2(l1=0.001, l2=0.001),\n                       #kernel_regularizer=regularizers.l1(0.001),\n                       #bias_regularizer=regularizers.l2(0.001),\n                       #activity_regularizer=regularizers.l2(0.001),\n\n                       ))\nmodel.add(layers.Dense(n, \n                       activation='relu', \n                       kernel_regularizer=regularizers.l1_l2(l1=0.001, l2=0.001),\n                       #kernel_regularizer=regularizers.l1(0.001),\n                       #bias_regularizer=regularizers.l2(0.001),\n                       #activity_regularizer=regularizers.l2(0.001),\n\n                       ))\n\nmodel.add(layers.Dropout(0.3))\nmodel.add(layers.Dense(1, activation='sigmoid'))\n\nmodel.compile(optimizer=optimizers.RMSprop(lr=1e-4),\n                loss='binary_crossentropy',\n                metrics=['accuracy'])\n\nmodel.summary()\n\n",
      "execution_count": null,
      "outputs": []
    },
    {
      "metadata": {
        "trusted": true,
        "scrolled": false,
        "_uuid": "94cdb050746c3465c2221e77dc79825e97d0ce03",
        "_kg_hide-input": false,
        "_kg_hide-output": false
      },
      "cell_type": "code",
      "source": "history = model.fit(x_train, \n                    y_train, \n                    epochs=50, # 20 итераций по всем образцам partial_x_train\n                    batch_size=512, # пакетами по 512 образцов\n                    #validation_data=(x_val, y_val),\n                    validation_split=0.2,\n                    verbose=1)",
      "execution_count": null,
      "outputs": []
    },
    {
      "metadata": {
        "trusted": true,
        "_uuid": "c0dfa77d88580decb03770596bf0f27063c9a92d"
      },
      "cell_type": "code",
      "source": "#x_train, y_train, x_val, y_val\ny_train_pred = model.predict(x_train)\ny_val_pred = model.predict(x_val)\n",
      "execution_count": null,
      "outputs": []
    },
    {
      "metadata": {
        "trusted": true,
        "_uuid": "a233c9cc9e90e7813f5418d074df674e2f9e8a58"
      },
      "cell_type": "code",
      "source": "import numpy as np\nfrom sklearn.metrics import accuracy_score, roc_auc_score, auc\nprint('base: roc_auc_score = ',roc_auc_score(y_train, np.zeros(len(y_train))))\nprint('train: roc_auc_score = ',roc_auc_score(y_train, y_train_pred))\nprint('test: roc_auc_score = ',roc_auc_score(y_val, y_val_pred))\n\n",
      "execution_count": null,
      "outputs": []
    },
    {
      "metadata": {
        "trusted": true,
        "_uuid": "9d3672c55fa895eb5498b796b7762006915bfdf5"
      },
      "cell_type": "code",
      "source": "# Листинг 5.10. Формирование графиков изменения потерь и точности в процессе обучения\nimport matplotlib.pyplot as plt\n\ne1=0\nacc = history.history['acc'][e1:] \nval_acc = history.history['val_acc'][e1:] \nloss = history.history['loss'][e1:] \nval_loss = history.history['val_loss'][e1:] \n\nepochs = range(1, len(acc) + 1)\nplt.plot(epochs, acc, 'bo', label='Training acc')\nplt.plot(epochs, val_acc, 'b', label='Validation acc')\nplt.title('Training and validation accuracy')\nplt.legend()\n\nplt.figure()\nplt.plot(epochs, loss, 'bo', label='Training loss')\nplt.plot(epochs, val_loss, 'b', label='Validation loss')\nplt.title('Training and validation loss')\nplt.legend()\n\nplt.show()",
      "execution_count": null,
      "outputs": []
    },
    {
      "metadata": {
        "trusted": true,
        "_uuid": "fea4bad624fa4bbc0a4a7b0a4a27c73e42202cfd"
      },
      "cell_type": "code",
      "source": "",
      "execution_count": null,
      "outputs": []
    },
    {
      "metadata": {
        "trusted": true,
        "_uuid": "c7b793ff24a88feb9ab5e18f653d3ee6edbdee37"
      },
      "cell_type": "code",
      "source": "from keras import models\nfrom keras import layers\nfrom keras import optimizers\nfrom keras import metrics\nfrom sklearn.metrics import auc\nfrom keras import regularizers\n\nx_train_re=x_train.reshape(130000,200,1)\n\nmodel = models.Sequential()\nmodel.add(layers.Conv1D(1, 3, input_shape=(200,1), activation='relu'))\n#model.add(layers.MaxPooling1D(3))\n#model.add(layers.Conv1D(1, 3, activation='relu'))\nmodel.add(layers.GlobalMaxPooling1D())\nmodel.add(layers.Dense(1, activation='sigmoid'))\n\nmodel.compile(optimizer=optimizers.RMSprop(lr=1e-5),\n                loss='binary_crossentropy',\n                metrics=['accuracy'])\nmodel.summary()",
      "execution_count": null,
      "outputs": []
    },
    {
      "metadata": {
        "trusted": true,
        "_uuid": "5b2de39b5c50ad18d9405fb49d1b0af4494f3e00"
      },
      "cell_type": "code",
      "source": "x_train_re.shape",
      "execution_count": null,
      "outputs": []
    },
    {
      "metadata": {
        "trusted": true,
        "_uuid": "1c57096e44e673da008bcd20a5e3294e7d1fe282"
      },
      "cell_type": "code",
      "source": "history = model.fit(x_train_re, \n                    y_train, \n                    epochs=30, # 20 итераций по всем образцам partial_x_train\n                    batch_size=128, # пакетами по 512 образцов\n                    #validation_data=(x_val, y_val),\n                    validation_split=0.2,\n                    verbose=1)",
      "execution_count": null,
      "outputs": []
    },
    {
      "metadata": {
        "trusted": true,
        "_uuid": "1da03b76566937dd712ef15fa7949c7e47cfa915"
      },
      "cell_type": "code",
      "source": "predictions = model.predict(x_test)",
      "execution_count": null,
      "outputs": []
    },
    {
      "metadata": {
        "trusted": true,
        "_uuid": "f27077e7db250abf8d01bf7e7666af737f9d593c"
      },
      "cell_type": "code",
      "source": "sub_df = pd.DataFrame({\"ID_code\":id_test})\nsub_df[\"target\"] = predictions\nsub_df.to_csv(\"submission.csv\", index=False)\nfrom IPython.display import FileLink\nFileLink('submission.csv')",
      "execution_count": null,
      "outputs": []
    },
    {
      "metadata": {
        "trusted": true,
        "_uuid": "5be73c5e8f0fff03f32351c85f17f0a72fc63a52"
      },
      "cell_type": "code",
      "source": "print(os.listdir(\"../input\"))",
      "execution_count": null,
      "outputs": []
    }
  ],
  "metadata": {
    "kernelspec": {
      "display_name": "Python 3",
      "language": "python",
      "name": "python3"
    },
    "language_info": {
      "name": "python",
      "version": "3.6.6",
      "mimetype": "text/x-python",
      "codemirror_mode": {
        "name": "ipython",
        "version": 3
      },
      "pygments_lexer": "ipython3",
      "nbconvert_exporter": "python",
      "file_extension": ".py"
    }
  },
  "nbformat": 4,
  "nbformat_minor": 1
}