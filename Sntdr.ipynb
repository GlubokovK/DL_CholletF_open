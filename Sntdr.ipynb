{
  "nbformat": 4,
  "nbformat_minor": 0,
  "metadata": {
    "colab": {
      "name": "Sntdr",
      "version": "0.3.2",
      "provenance": [],
      "collapsed_sections": [
        "xn6PvHBfFZ2P",
        "Z9W9oSjzJKaZ",
        "Woze7ZmXKU_f",
        "pwH1lLJJN3za",
        "rLjUV8ZTKsKQ",
        "pg_8SiwLnDL0",
        "bJj3Q8mmv3JJ",
        "08OkAYcORbll",
        "7qA9qesCLOD_",
        "P-NVBSV73XbM",
        "ohA1dhhiy-Is"
      ],
      "include_colab_link": true
    },
    "kernelspec": {
      "name": "python3",
      "display_name": "Python 3"
    }
  },
  "cells": [
    {
      "cell_type": "markdown",
      "metadata": {
        "id": "view-in-github",
        "colab_type": "text"
      },
      "source": [
        "<a href=\"https://colab.research.google.com/github/GlubokovK/DL_CholletF_open/blob/master/Sntdr.ipynb\" target=\"_parent\"><img src=\"https://colab.research.google.com/assets/colab-badge.svg\" alt=\"Open In Colab\"/></a>"
      ]
    },
    {
      "metadata": {
        "id": "xn6PvHBfFZ2P",
        "colab_type": "text"
      },
      "cell_type": "markdown",
      "source": [
        "#### Load data"
      ]
    },
    {
      "metadata": {
        "id": "ss3kteRACoAx",
        "colab_type": "code",
        "outputId": "a2b0120d-db1e-4634-b74a-bebc40ba4a9e",
        "colab": {
          "resources": {
            "http://localhost:8080/nbextensions/google.colab/files.js": {
              "data": "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",
              "ok": true,
              "headers": [
                [
                  "content-type",
                  "application/javascript"
                ]
              ],
              "status": 200,
              "status_text": ""
            }
          },
          "base_uri": "https://localhost:8080/",
          "height": 75
        }
      },
      "cell_type": "code",
      "source": [
        "# 1.Create an API key in Kaggle. (My account)\n",
        "# 2. download an API key\n",
        "# 4. Upload your kaggle.json\n",
        "from google.colab import files \n",
        "files.upload()\n",
        "\n",
        "#5. Install the kaggle API using \n",
        "!pip install -q kaggle\n",
        "\n",
        "# Move the kaggle.json file into ~/.kaggle, \n",
        "# which is where the API client expects your token to be located:\n",
        "\n",
        "!mkdir -p ~/.kaggle\n",
        "!cp kaggle.json ~/.kaggle/\n",
        "\n"
      ],
      "execution_count": 39,
      "outputs": [
        {
          "output_type": "display_data",
          "data": {
            "text/html": [
              "\n",
              "     <input type=\"file\" id=\"files-dd384379-c687-4b79-8c42-8bd2fa8a19bc\" name=\"files[]\" multiple disabled />\n",
              "     <output id=\"result-dd384379-c687-4b79-8c42-8bd2fa8a19bc\">\n",
              "      Upload widget is only available when the cell has been executed in the\n",
              "      current browser session. Please rerun this cell to enable.\n",
              "      </output>\n",
              "      <script src=\"/nbextensions/google.colab/files.js\"></script> "
            ],
            "text/plain": [
              "<IPython.core.display.HTML object>"
            ]
          },
          "metadata": {
            "tags": []
          }
        },
        {
          "output_type": "stream",
          "text": [
            "Saving kaggle.json to kaggle.json\n"
          ],
          "name": "stdout"
        }
      ]
    },
    {
      "metadata": {
        "id": "wmMgD20dFCDX",
        "colab_type": "code",
        "outputId": "a35bc188-fcc5-496d-cd6e-9868baf07d0c",
        "colab": {
          "base_uri": "https://localhost:8080/",
          "height": 191
        }
      },
      "cell_type": "code",
      "source": [
        "! kaggle competitions download -c santander-customer-transaction-prediction"
      ],
      "execution_count": 40,
      "outputs": [
        {
          "output_type": "stream",
          "text": [
            "Warning: Your Kaggle API key is readable by other users on this system! To fix this, you can run 'chmod 600 /root/.kaggle/kaggle.json'\n",
            "Downloading train.csv.zip to /content\n",
            " 91% 111M/122M [00:00<00:00, 93.3MB/s] \n",
            "100% 122M/122M [00:01<00:00, 126MB/s] \n",
            "Downloading sample_submission.csv.zip to /content\n",
            "  0% 0.00/463k [00:00<?, ?B/s]\n",
            "100% 463k/463k [00:00<00:00, 90.0MB/s]\n",
            "Downloading test.csv.zip to /content\n",
            " 90% 110M/122M [00:00<00:00, 125MB/s] \n",
            "100% 122M/122M [00:00<00:00, 147MB/s]\n"
          ],
          "name": "stdout"
        }
      ]
    },
    {
      "metadata": {
        "id": "H7-s0cCPEoCH",
        "colab_type": "code",
        "outputId": "90a25cc9-3b57-4f79-ac79-885bf789bdfd",
        "colab": {
          "base_uri": "https://localhost:8080/",
          "height": 121
        }
      },
      "cell_type": "code",
      "source": [
        "import os\n",
        "os.listdir('/content')"
      ],
      "execution_count": 42,
      "outputs": [
        {
          "output_type": "execute_result",
          "data": {
            "text/plain": [
              "['.config',\n",
              " 'kaggle.json',\n",
              " 'test.csv.zip',\n",
              " 'sample_submission.csv.zip',\n",
              " 'train.csv.zip',\n",
              " 'sample_data']"
            ]
          },
          "metadata": {
            "tags": []
          },
          "execution_count": 42
        }
      ]
    },
    {
      "metadata": {
        "id": "efSvNKhMHZE4",
        "colab_type": "code",
        "outputId": "ce6da047-74ae-425a-8d43-feb53fd90a2e",
        "colab": {
          "base_uri": "https://localhost:8080/",
          "height": 35
        }
      },
      "cell_type": "code",
      "source": [
        "import zipfile\n",
        "\n",
        "base_dir ='/content/Santander/'\n",
        "\n",
        "local_zip = '/content/train.csv.zip'\n",
        "zip_ref = zipfile.ZipFile(local_zip, 'r')\n",
        "zip_ref.extractall(base_dir)\n",
        "zip_ref.close()\n",
        "\n",
        "local_zip = '/content/test.csv.zip'\n",
        "zip_ref = zipfile.ZipFile(local_zip, 'r')\n",
        "zip_ref.extractall(base_dir)\n",
        "zip_ref.close()\n",
        "\n",
        "print(os.listdir(base_dir))"
      ],
      "execution_count": 43,
      "outputs": [
        {
          "output_type": "stream",
          "text": [
            "['train.csv', 'test.csv']\n"
          ],
          "name": "stdout"
        }
      ]
    },
    {
      "metadata": {
        "id": "Zt6HKf3pG0vH",
        "colab_type": "code",
        "colab": {}
      },
      "cell_type": "code",
      "source": [
        "import numpy as np # linear algebra\n",
        "import pandas as pd # data processing, CSV file I/O (e.g. pd.read_csv)\n",
        "import matplotlib.pyplot as plt\n",
        "\n",
        "base_train_df = pd.read_csv(base_dir + \"train.csv\")\n",
        "test_df = pd.read_csv(base_dir + \"test.csv\")"
      ],
      "execution_count": 0,
      "outputs": []
    },
    {
      "metadata": {
        "id": "Z9W9oSjzJKaZ",
        "colab_type": "text"
      },
      "cell_type": "markdown",
      "source": [
        "#### Предобработка данных"
      ]
    },
    {
      "metadata": {
        "id": "X96rQjBCIxq_",
        "colab_type": "code",
        "outputId": "1031f5c4-dd38-4cb4-a52f-768922b44957",
        "colab": {
          "base_uri": "https://localhost:8080/",
          "height": 52
        }
      },
      "cell_type": "code",
      "source": [
        "print('train_df.shape = {}'.format(base_train_df.shape))\n",
        "print('test_df.shape = {}'.format(test_df.shape))"
      ],
      "execution_count": 45,
      "outputs": [
        {
          "output_type": "stream",
          "text": [
            "train_df.shape = (200000, 202)\n",
            "test_df.shape = (200000, 201)\n"
          ],
          "name": "stdout"
        }
      ]
    },
    {
      "metadata": {
        "id": "8osyG3ZvJCWw",
        "colab_type": "code",
        "outputId": "27fd18ed-82bf-4e49-9bb6-4136f166d10e",
        "colab": {
          "base_uri": "https://localhost:8080/",
          "height": 52
        }
      },
      "cell_type": "code",
      "source": [
        "#Сформируем отложенную выборку\n",
        "base_train_df=base_train_df.sample(frac=1)\n",
        "train_df_train=base_train_df.iloc[:180000]\n",
        "train_df_test=base_train_df.iloc[180000:]\n",
        "print(train_df_train.shape)\n",
        "print(train_df_test.shape)"
      ],
      "execution_count": 46,
      "outputs": [
        {
          "output_type": "stream",
          "text": [
            "(180000, 202)\n",
            "(20000, 202)\n"
          ],
          "name": "stdout"
        }
      ]
    },
    {
      "metadata": {
        "id": "6hvwfIbBI3Mn",
        "colab_type": "code",
        "outputId": "6ed2719f-6762-4489-850f-f55a865c8814",
        "colab": {
          "base_uri": "https://localhost:8080/",
          "height": 35
        }
      },
      "cell_type": "code",
      "source": [
        "#дополнение выборки до сбалансированной, \n",
        "if 0:\n",
        "    train_df_target = train_df_train\n",
        "    for i in range(7):\n",
        "        train_df_target=pd.concat([train_df_target,train_df_train[train_df_train['target']==1]])\n",
        "    train_df_target = train_df_target.sample(frac=1)\n",
        "    print(train_df_target.shape)\n",
        "    \n",
        "# или использование читерской выборки, без отложенной части\n",
        "if 0:\n",
        "    train_df_target = pd.concat([train_df_train,test2_df_all])\n",
        "    train_df_target = train_df_target.sample(frac=1)\n",
        "    print(train_df_target.shape)\n",
        "\n",
        "# или стандартный тренировочный набор\n",
        "if 1:\n",
        "    train_df_target = train_df_train\n",
        "    print(train_df_target.shape)"
      ],
      "execution_count": 47,
      "outputs": [
        {
          "output_type": "stream",
          "text": [
            "(180000, 202)\n"
          ],
          "name": "stdout"
        }
      ]
    },
    {
      "metadata": {
        "id": "-CXNj_c-JH7g",
        "colab_type": "code",
        "outputId": "c1b511e7-465a-4dbd-db22-393f35ceb9a9",
        "colab": {
          "base_uri": "https://localhost:8080/",
          "height": 87
        }
      },
      "cell_type": "code",
      "source": [
        "# распределение объектов по классам\n",
        "n1=train_df_target[train_df_target['target']==1].shape[0]\n",
        "n0=train_df_target[train_df_target['target']==0].shape[0]\n",
        "n=train_df_target.shape[0]\n",
        "print(train_df_target[train_df_target['target']==1].shape)\n",
        "print(train_df_target[train_df_target['target']==0].shape)\n",
        "print('target = 1:',n1/n)\n",
        "print('target = 0:',n0/n)"
      ],
      "execution_count": 48,
      "outputs": [
        {
          "output_type": "stream",
          "text": [
            "(18061, 202)\n",
            "(161939, 202)\n",
            "target = 1: 0.1003388888888889\n",
            "target = 0: 0.8996611111111111\n"
          ],
          "name": "stdout"
        }
      ]
    },
    {
      "metadata": {
        "id": "uu95aAu-4WM0",
        "colab_type": "code",
        "colab": {}
      },
      "cell_type": "code",
      "source": [
        "x_test = test_df[test_df.columns[1:]].values\n",
        "id_test = test_df[test_df.columns[0:]].values\n",
        "\n",
        "x_train = train_df_target[train_df_target.columns[2:]].values\n",
        "y_train = train_df_target[train_df_target.columns[1]].values\n",
        "x_val = train_df_test[train_df_test.columns[2:]].values\n",
        "y_val = train_df_test[train_df_test.columns[1]].values"
      ],
      "execution_count": 0,
      "outputs": []
    },
    {
      "metadata": {
        "id": "190jLp61JobX",
        "colab_type": "code",
        "outputId": "1f9abe85-2409-4c15-c9ae-1707109cb495",
        "colab": {
          "base_uri": "https://localhost:8080/",
          "height": 52
        }
      },
      "cell_type": "code",
      "source": [
        "# нормализация\n",
        "mean = x_train.mean(axis=0)\n",
        "x_train -= mean\n",
        "std = x_train.std(axis=0)\n",
        "x_train /= std\n",
        "\n",
        "x_val -= mean\n",
        "x_val /= std\n",
        "\n",
        "x_test = test_df[test_df.columns[1:]].values\n",
        "id_test = test_df[test_df.columns[0]].values\n",
        "x_test -= mean\n",
        "x_test /= std\n",
        "\n",
        "print(x_train.shape)\n",
        "print(x_val.shape)"
      ],
      "execution_count": 50,
      "outputs": [
        {
          "output_type": "stream",
          "text": [
            "(180000, 200)\n",
            "(20000, 200)\n"
          ],
          "name": "stdout"
        }
      ]
    },
    {
      "metadata": {
        "id": "Woze7ZmXKU_f",
        "colab_type": "text"
      },
      "cell_type": "markdown",
      "source": [
        "#### Построение модели: использование функционального API"
      ]
    },
    {
      "metadata": {
        "id": "NphA-jSWKVSv",
        "colab_type": "code",
        "outputId": "ab7e1c51-79cc-4122-a99d-f9224646cafd",
        "colab": {
          "base_uri": "https://localhost:8080/",
          "height": 381
        }
      },
      "cell_type": "code",
      "source": [
        "# использование функционального API\n",
        "import keras\n",
        "from keras import models\n",
        "from keras import layers\n",
        "from keras import optimizers\n",
        "from keras import metrics\n",
        "from sklearn.metrics import auc\n",
        "from keras import regularizers\n",
        "import tensorflow as tf\n",
        "from keras import backend as K\n",
        "\n",
        "from keras.wrappers.scikit_learn import KerasClassifier\n",
        "#keras.wrappers.scikit_learn.KerasClassifier\n",
        "from sklearn.model_selection import cross_val_score\n",
        "from sklearn.model_selection import KFold\n",
        "from sklearn.preprocessing import StandardScaler\n",
        "from sklearn.pipeline import Pipeline\n",
        "\n",
        "from keras.models import Model\n",
        "from keras import layers\n",
        "from keras import Input\n",
        "\n",
        "n = 256\n",
        "in_data = Input(shape=(200,), dtype='float32')\n",
        "\n",
        "x = layers.Dense(n,\n",
        "                 activation='relu',\n",
        "                 kernel_regularizer=regularizers.l1_l2(l1=0.001, l2=0.001))(in_data)\n",
        "x = layers.BatchNormalization()(x)\n",
        "\n",
        "y = layers.Dense(n,\n",
        "                 activation='relu',\n",
        "                 kernel_regularizer=regularizers.l1_l2(l1=0.001, l2=0.001))(x)\n",
        "y = layers.BatchNormalization()(y)\n",
        "\n",
        "#y = layers.add([y, x])\n",
        "\n",
        "y = layers.Dropout(0.5)(y)\n",
        "ans = layers.Dense(1, activation='sigmoid')(y)\n",
        "\n",
        "model = Model(in_data,ans) \n",
        "\n",
        "model.compile(optimizer=optimizers.RMSprop(lr=1e-4),\n",
        "                  loss='binary_crossentropy',\n",
        "                  metrics=['accuracy']) # auc\n",
        "\n",
        "model.summary()"
      ],
      "execution_count": 0,
      "outputs": [
        {
          "output_type": "stream",
          "text": [
            "_________________________________________________________________\n",
            "Layer (type)                 Output Shape              Param #   \n",
            "=================================================================\n",
            "input_3 (InputLayer)         (None, 200)               0         \n",
            "_________________________________________________________________\n",
            "dense_7 (Dense)              (None, 256)               51456     \n",
            "_________________________________________________________________\n",
            "batch_normalization_5 (Batch (None, 256)               1024      \n",
            "_________________________________________________________________\n",
            "dense_8 (Dense)              (None, 256)               65792     \n",
            "_________________________________________________________________\n",
            "batch_normalization_6 (Batch (None, 256)               1024      \n",
            "_________________________________________________________________\n",
            "dropout_3 (Dropout)          (None, 256)               0         \n",
            "_________________________________________________________________\n",
            "dense_9 (Dense)              (None, 1)                 257       \n",
            "=================================================================\n",
            "Total params: 119,553\n",
            "Trainable params: 118,529\n",
            "Non-trainable params: 1,024\n",
            "_________________________________________________________________\n"
          ],
          "name": "stdout"
        }
      ]
    },
    {
      "metadata": {
        "id": "pwH1lLJJN3za",
        "colab_type": "text"
      },
      "cell_type": "markdown",
      "source": [
        "#### подключение TensorBoard"
      ]
    },
    {
      "metadata": {
        "id": "GIAXe-60N39B",
        "colab_type": "code",
        "outputId": "398178bc-ae5f-4970-eab8-a789f89b8fb4",
        "colab": {
          "base_uri": "https://localhost:8080/",
          "height": 260
        }
      },
      "cell_type": "code",
      "source": [
        "!wget https://bin.equinox.io/c/4VmDzA7iaHb/ngrok-stable-linux-amd64.zip\n",
        "!unzip ngrok-stable-linux-amd64.zip"
      ],
      "execution_count": 0,
      "outputs": [
        {
          "output_type": "stream",
          "text": [
            "--2019-03-06 14:44:58--  https://bin.equinox.io/c/4VmDzA7iaHb/ngrok-stable-linux-amd64.zip\n",
            "Resolving bin.equinox.io (bin.equinox.io)... 52.2.175.150, 52.86.186.182, 52.3.53.115, ...\n",
            "Connecting to bin.equinox.io (bin.equinox.io)|52.2.175.150|:443... connected.\n",
            "HTTP request sent, awaiting response... 200 OK\n",
            "Length: 14809752 (14M) [application/octet-stream]\n",
            "Saving to: ‘ngrok-stable-linux-amd64.zip.1’\n",
            "\n",
            "ngrok-stable-linux- 100%[===================>]  14.12M  16.0MB/s    in 0.9s    \n",
            "\n",
            "2019-03-06 14:44:59 (16.0 MB/s) - ‘ngrok-stable-linux-amd64.zip.1’ saved [14809752/14809752]\n",
            "\n",
            "Archive:  ngrok-stable-linux-amd64.zip\n",
            "replace ngrok? [y]es, [n]o, [A]ll, [N]one, [r]ename: y\n",
            "  inflating: ngrok                   \n"
          ],
          "name": "stdout"
        }
      ]
    },
    {
      "metadata": {
        "id": "kGHNiD2nOEyx",
        "colab_type": "code",
        "colab": {}
      },
      "cell_type": "code",
      "source": [
        "LOG_DIR = './my_log_dir'\n",
        "get_ipython().system_raw(\n",
        "    'tensorboard --logdir {} --host 0.0.0.0 --port 6006 &'\n",
        "    .format(LOG_DIR)\n",
        ")"
      ],
      "execution_count": 0,
      "outputs": []
    },
    {
      "metadata": {
        "id": "gTYI-QtUOE7_",
        "colab_type": "code",
        "colab": {}
      },
      "cell_type": "code",
      "source": [
        "get_ipython().system_raw('./ngrok http 6006 &')"
      ],
      "execution_count": 0,
      "outputs": []
    },
    {
      "metadata": {
        "id": "PKCmuwcWOFDo",
        "colab_type": "code",
        "outputId": "1d257e57-eb18-4831-b0f0-d9a8212fb922",
        "colab": {
          "base_uri": "https://localhost:8080/",
          "height": 35
        }
      },
      "cell_type": "code",
      "source": [
        "! curl -s http://localhost:4040/api/tunnels | python3 -c \\\n",
        "    \"import sys, json; print(json.load(sys.stdin)['tunnels'][0]['public_url'])\""
      ],
      "execution_count": 0,
      "outputs": [
        {
          "output_type": "stream",
          "text": [
            "http://57736bd4.ngrok.io\n"
          ],
          "name": "stdout"
        }
      ]
    },
    {
      "metadata": {
        "id": "RlQaLmR3OFKH",
        "colab_type": "code",
        "colab": {}
      },
      "cell_type": "code",
      "source": [
        ""
      ],
      "execution_count": 0,
      "outputs": []
    },
    {
      "metadata": {
        "id": "rLjUV8ZTKsKQ",
        "colab_type": "text"
      },
      "cell_type": "markdown",
      "source": [
        "#### обучение и оценка"
      ]
    },
    {
      "metadata": {
        "id": "Am7IJHkFKsUf",
        "colab_type": "code",
        "colab": {}
      },
      "cell_type": "code",
      "source": [
        "from keras.callbacks import TensorBoard, EarlyStopping, ModelCheckpoint, ReduceLROnPlateau\n",
        "\n",
        "batch_size=512\n",
        "callbacks_list = [\n",
        "    \n",
        "    keras.callbacks.EarlyStopping(monitor='val_acc', # Слежение за изменением точности модели на проверочных данных\n",
        "                                  patience=10, # Прерывание обучения, когда точность не улучшается дольше чем в течение одной эпохи\n",
        "                                  # (другими словами, в течение двух эпох)\n",
        "                                 ), # Прерывание обучения, когда качество модели перестает улучшаться\n",
        "    \n",
        "    keras.callbacks.ModelCheckpoint(filepath='my_model.h5', # Путь к файлу модели\n",
        "                                    monitor='val_loss', # Эти аргументы требуют,\n",
        "                                    # чтобы файл модели не затирался, если значение\n",
        "                                    # val_loss не улучшилось, что позволяет сохранять\n",
        "                                    # только лучшую модель\n",
        "                                    save_best_only=True,\n",
        "                                   ), # Сохранение текущих весов после каждой эпохи\n",
        "    \n",
        "    keras.callbacks.TensorBoard(log_dir=LOG_DIR,\n",
        "                                histogram_freq=1, # Запись гистограммы активаций в каждой эпохе\n",
        "                                write_graph=True,\n",
        "                                write_grads=True,\n",
        "                                batch_size=batch_size,\n",
        "                                #embeddings_freq=1, # Запись векторных представлений в каждой эпохе\n",
        "                                write_images=True\n",
        "                               ),\n",
        "]\n",
        "\n",
        "\n",
        "\n",
        "history = model.fit(x_train, \n",
        "                    y_train,\n",
        "                    epochs=50,\n",
        "                    batch_size=batch_size,\n",
        "                    validation_split=0.2,\n",
        "                    callbacks=callbacks_list,\n",
        "                    verbose=1\n",
        "                   )\n",
        "\n"
      ],
      "execution_count": 0,
      "outputs": []
    },
    {
      "metadata": {
        "id": "aSmXBbYzhmiK",
        "colab_type": "code",
        "outputId": "85be04cc-7302-495c-d845-6e5f5f228461",
        "colab": {
          "base_uri": "https://localhost:8080/",
          "height": 35
        }
      },
      "cell_type": "code",
      "source": [
        "history.history.keys()"
      ],
      "execution_count": 0,
      "outputs": [
        {
          "output_type": "execute_result",
          "data": {
            "text/plain": [
              "dict_keys(['val_loss', 'val_acc', 'loss', 'acc'])"
            ]
          },
          "metadata": {
            "tags": []
          },
          "execution_count": 40
        }
      ]
    },
    {
      "metadata": {
        "id": "YHaWNjhukAqr",
        "colab_type": "code",
        "outputId": "fe73c78b-777c-4a67-a71e-a2cd2fba316b",
        "colab": {
          "base_uri": "https://localhost:8080/",
          "height": 35
        }
      },
      "cell_type": "code",
      "source": [
        "len(history.history['val_loss'])"
      ],
      "execution_count": 0,
      "outputs": [
        {
          "output_type": "execute_result",
          "data": {
            "text/plain": [
              "18"
            ]
          },
          "metadata": {
            "tags": []
          },
          "execution_count": 43
        }
      ]
    },
    {
      "metadata": {
        "id": "ApAnob9NK_dI",
        "colab_type": "code",
        "colab": {}
      },
      "cell_type": "code",
      "source": [
        "y_train_pred = model.predict(x_train)\n",
        "y_val_pred = model.predict(x_val)"
      ],
      "execution_count": 0,
      "outputs": []
    },
    {
      "metadata": {
        "id": "IxT7GDnoLAnH",
        "colab_type": "code",
        "outputId": "2daeb5ec-d351-41d7-a44d-618cb314f377",
        "colab": {
          "base_uri": "https://localhost:8080/",
          "height": 69
        }
      },
      "cell_type": "code",
      "source": [
        "import numpy as np\n",
        "from sklearn.metrics import accuracy_score, roc_auc_score, auc\n",
        "print('base: roc_auc_score = ',roc_auc_score(y_train, np.zeros(len(y_train))))\n",
        "print('train: roc_auc_score = ',roc_auc_score(y_train, y_train_pred))\n",
        "print('test: roc_auc_score = ',roc_auc_score(y_val, y_val_pred))"
      ],
      "execution_count": 0,
      "outputs": [
        {
          "output_type": "stream",
          "text": [
            "base: roc_auc_score =  0.5\n",
            "train: roc_auc_score =  0.9033475326863087\n",
            "test: roc_auc_score =  0.8569786978969937\n"
          ],
          "name": "stdout"
        }
      ]
    },
    {
      "metadata": {
        "id": "DoEiGnEvLCzf",
        "colab_type": "code",
        "outputId": "a6d3f3a1-4a21-415c-cbec-9a149ce11f58",
        "colab": {
          "base_uri": "https://localhost:8080/",
          "height": 708
        }
      },
      "cell_type": "code",
      "source": [
        "import matplotlib.pyplot as plt\n",
        "\n",
        "e1=0\n",
        "acc = history.history['acc'][e1:] \n",
        "val_acc = history.history['val_acc'][e1:] \n",
        "loss = history.history['loss'][e1:] \n",
        "val_loss = history.history['val_loss'][e1:] \n",
        "\n",
        "epochs = range(1, len(acc) + 1)\n",
        "plt.plot(epochs, acc, 'bo', label='Training acc')\n",
        "plt.plot(epochs, val_acc, 'b', label='Validation acc')\n",
        "plt.title('Training and validation accuracy')\n",
        "plt.legend()\n",
        "\n",
        "plt.figure()\n",
        "plt.plot(epochs, loss, 'bo', label='Training loss')\n",
        "plt.plot(epochs, val_loss, 'b', label='Validation loss')\n",
        "plt.title('Training and validation loss')\n",
        "plt.legend()\n",
        "\n",
        "plt.show()"
      ],
      "execution_count": 0,
      "outputs": [
        {
          "output_type": "display_data",
          "data": {
            "image/png": "[encoded data removed]",
            "text/plain": [
              "<Figure size 576x396 with 1 Axes>"
            ]
          },
          "metadata": {
            "tags": []
          }
        },
        {
          "output_type": "display_data",
          "data": {
            "image/png": "[encoded data removed]",
            "text/plain": [
              "<Figure size 576x396 with 1 Axes>"
            ]
          },
          "metadata": {
            "tags": []
          }
        }
      ]
    },
    {
      "metadata": {
        "id": "dk1YXiKPLNGH",
        "colab_type": "code",
        "colab": {}
      },
      "cell_type": "code",
      "source": [
        ""
      ],
      "execution_count": 0,
      "outputs": []
    },
    {
      "metadata": {
        "id": "pg_8SiwLnDL0",
        "colab_type": "text"
      },
      "cell_type": "markdown",
      "source": [
        "#### Сохраняем обученную нейронную сеть"
      ]
    },
    {
      "metadata": {
        "id": "-ntY_A1LnErL",
        "colab_type": "code",
        "colab": {}
      },
      "cell_type": "code",
      "source": [
        "# https://jovianlin.io/saving-loading-keras-models/\n",
        "model_json = model.to_json()\n",
        "json_file = open(\"cifar10_model.json\", \"w\")\n",
        "json_file.write(model_json)\n",
        "json_file.close()\n",
        "model.save_weights(\"cifar10_model.h5\")"
      ],
      "execution_count": 0,
      "outputs": []
    },
    {
      "metadata": {
        "id": "uSHoT1lSnG89",
        "colab_type": "code",
        "colab": {}
      },
      "cell_type": "code",
      "source": [
        "!ls"
      ],
      "execution_count": 0,
      "outputs": []
    },
    {
      "metadata": {
        "id": "I7iiSr4bnHTk",
        "colab_type": "code",
        "colab": {}
      },
      "cell_type": "code",
      "source": [
        "from google.colab import files"
      ],
      "execution_count": 0,
      "outputs": []
    },
    {
      "metadata": {
        "id": "Awo2asXSnHcx",
        "colab_type": "code",
        "colab": {}
      },
      "cell_type": "code",
      "source": [
        "files.download(\"cifar10_model.json\")"
      ],
      "execution_count": 0,
      "outputs": []
    },
    {
      "metadata": {
        "id": "olmUyMyWnHma",
        "colab_type": "code",
        "colab": {}
      },
      "cell_type": "code",
      "source": [
        "files.download(\"cifar10_model.h5\")"
      ],
      "execution_count": 0,
      "outputs": []
    },
    {
      "metadata": {
        "id": "-xyDLrh9o4zj",
        "colab_type": "code",
        "colab": {}
      },
      "cell_type": "code",
      "source": [
        "from keras.models import model_from_json\n",
        "# Model reconstruction from JSON file\n",
        "with open('model_architecture.json', 'r') as f:\n",
        "    model = model_from_json(f.read())\n",
        "\n",
        "# Load weights into the new model\n",
        "model.load_weights('model_weights.h5')"
      ],
      "execution_count": 0,
      "outputs": []
    },
    {
      "metadata": {
        "id": "sfSfOqw6o43a",
        "colab_type": "code",
        "colab": {}
      },
      "cell_type": "code",
      "source": [
        ""
      ],
      "execution_count": 0,
      "outputs": []
    },
    {
      "metadata": {
        "id": "LG0K2AOfo47j",
        "colab_type": "code",
        "colab": {}
      },
      "cell_type": "code",
      "source": [
        ""
      ],
      "execution_count": 0,
      "outputs": []
    },
    {
      "metadata": {
        "id": "bJj3Q8mmv3JJ",
        "colab_type": "text"
      },
      "cell_type": "markdown",
      "source": [
        "#### подбор гиперпараметров (hyperas, не работает)"
      ]
    },
    {
      "metadata": {
        "id": "LEyaVBbGv7aD",
        "colab_type": "code",
        "colab": {}
      },
      "cell_type": "code",
      "source": [
        "# x_train, y_train, x_val, y_val\n",
        "\n",
        "def data():\n",
        "  global x_train, y_train, x_val, y_val\n",
        "  \n",
        "  return x_train, y_train, x_val, y_val\n",
        "  #a=b=c=d=1\n",
        "  #return a,b,c,d\n",
        "\n",
        "\n",
        "print(x_train.shape)\n",
        "print(y_train.shape)\n",
        "print(x_val.shape)\n",
        "print(y_val.shape)\n",
        "\n",
        "print(data())"
      ],
      "execution_count": 0,
      "outputs": []
    },
    {
      "metadata": {
        "id": "bZh7a1ow-h0D",
        "colab_type": "code",
        "colab": {}
      },
      "cell_type": "code",
      "source": [
        "from __future__ import print_function"
      ],
      "execution_count": 0,
      "outputs": []
    },
    {
      "metadata": {
        "id": "MZz0Fg9R1Ms3",
        "colab_type": "code",
        "colab": {}
      },
      "cell_type": "code",
      "source": [
        "! pip install hyperas"
      ],
      "execution_count": 0,
      "outputs": []
    },
    {
      "metadata": {
        "id": "k1OsK5FLv_qr",
        "colab_type": "code",
        "colab": {}
      },
      "cell_type": "code",
      "source": [
        "from hyperas import optim\n",
        "from hyperas.distributions import choice, uniform\n",
        "from __future__ import print_function\n",
        "from hyperopt import Trials, STATUS_OK, tpe\n",
        "\n",
        "\n",
        "def create_model(x_train, y_train, x_test, y_test):\n",
        "  \n",
        "  n = 64\n",
        "  \n",
        "  in_data = Input(shape=(200,), dtype='float32')\n",
        "  \n",
        "  x = layers.Dense(256, \n",
        "                   kernel_regularizer=regularizers.l1_l2(l1=0.001, l2=0.001))(in_data)\n",
        "  x = layers.Activation('relu')(x)\n",
        "  x = layers.BatchNormalization()(x)\n",
        "\n",
        "  y = layers.Dense({{choice([64, 128, 256])}}, # ===================================\n",
        "                   kernel_regularizer=regularizers.l1_l2(l1=0.001, l2=0.001))(x)\n",
        "  y = layers.Activation({{choice(['relu', 'sigmoid'])}})(y) # =================================\n",
        "  y = layers.BatchNormalization()(y)\n",
        "  \n",
        "  if {{choice(['two', 'three'])}} == 'three':\n",
        "    y = layers.Dense(n, kernel_regularizer=regularizers.l1_l2(l1=0.001, l2=0.001))(x)\n",
        "    y = layers.Activation('relu')(y)\n",
        "    y = layers.BatchNormalization()(y)\n",
        "\n",
        "\n",
        " \n",
        "\n",
        "  y = layers.add([y, x])\n",
        "  y = layers.Dropout({{uniform(0, 1)}})(y) # =================================\n",
        "  ans = layers.Dense(1, activation='sigmoid')(y)\n",
        "  \n",
        "  \n",
        "  #--------------------------------\n",
        "  '''\n",
        "   model = Sequential()\n",
        "    model.add(Dense(512, input_shape=(784,)))\n",
        "    model.add(Activation('relu'))\n",
        "    model.add(Dropout({{uniform(0, 1)}}))\n",
        "    \n",
        "    model.add(Dense({{choice([256, 512, 1024])}}))\n",
        "    model.add(Activation({{choice(['relu', 'sigmoid'])}}))\n",
        "    model.add(Dropout({{uniform(0, 1)}}))\n",
        "\n",
        "    # If we choose 'four', add an additional fourth layer\n",
        "    if {{choice(['three', 'four'])}} == 'four':\n",
        "        model.add(Dense(100))\n",
        "\n",
        "        # We can also choose between complete sets of layers\n",
        "\n",
        "        model.add({{choice([Dropout(0.5), Activation('linear')])}})\n",
        "        model.add(Activation('relu'))\n",
        "\n",
        "    model.add(Dense(10))\n",
        "    model.add(Activation('softmax'))\n",
        "  '''\n",
        "  #------------------------------------------------------\n",
        "  \n",
        "  \n",
        "\n",
        "  model = Model(in_data,ans) \n",
        "\n",
        "  model.compile(optimizer={{choice(['rmsprop', 'adam', 'sgd'])}}, #============================\n",
        "                  loss='binary_crossentropy',\n",
        "                  metrics=['accuracy']) # auc\n",
        "\n",
        "  #model.summary()\n",
        "  \n",
        "  result = model.fit(x_train, \n",
        "                    y_train,\n",
        "                    epochs=2,\n",
        "                    batch_size={{choice([128, 256])}},\n",
        "                    validation_split=0.2,\n",
        "                    verbose=2\n",
        "                   )\n",
        "  \n",
        "  validation_acc = np.amax(result.history['val_acc']) \n",
        "  print('Best validation acc of epoch:', validation_acc)\n",
        "  return {'loss': -validation_acc, 'status': STATUS_OK, 'model': model}\n",
        "  \n",
        "  \n",
        "  "
      ],
      "execution_count": 0,
      "outputs": []
    },
    {
      "metadata": {
        "id": "9vqt0BQdv_to",
        "colab_type": "code",
        "colab": {}
      },
      "cell_type": "code",
      "source": [
        "\n",
        "best_run, best_model = optim.minimize(model=create_model,\n",
        "                                          data=data,\n",
        "                                          algo=tpe.suggest,\n",
        "                                          max_evals=5,\n",
        "                                          trials=Trials(),\n",
        "                                          notebook_name='Santander'\n",
        "                                     )\n",
        "  \n",
        "X_train, Y_train, X_test, Y_test = data()\n",
        "print(\"Evalutation of best performing model:\")\n",
        "print(best_model.evaluate(X_test, Y_test))\n",
        "print(\"Best performing model chosen hyper-parameters:\")\n",
        "print(best_run)"
      ],
      "execution_count": 0,
      "outputs": []
    },
    {
      "metadata": {
        "id": "gwthgaUlv_w4",
        "colab_type": "code",
        "colab": {}
      },
      "cell_type": "code",
      "source": [
        ""
      ],
      "execution_count": 0,
      "outputs": []
    },
    {
      "metadata": {
        "id": "08OkAYcORbll",
        "colab_type": "text"
      },
      "cell_type": "markdown",
      "source": [
        "#### подбор гиперпараметров (самостоятельное решение)"
      ]
    },
    {
      "metadata": {
        "id": "dxkBovhFv_0P",
        "colab_type": "code",
        "colab": {}
      },
      "cell_type": "code",
      "source": [
        ""
      ],
      "execution_count": 0,
      "outputs": []
    },
    {
      "metadata": {
        "id": "5oSGYHOUv_5a",
        "colab_type": "code",
        "colab": {}
      },
      "cell_type": "code",
      "source": [
        ""
      ],
      "execution_count": 0,
      "outputs": []
    },
    {
      "metadata": {
        "id": "x5A1ZVdBv_9m",
        "colab_type": "code",
        "colab": {}
      },
      "cell_type": "code",
      "source": [
        ""
      ],
      "execution_count": 0,
      "outputs": []
    },
    {
      "metadata": {
        "id": "vkuGQfLYv_3r",
        "colab_type": "code",
        "colab": {}
      },
      "cell_type": "code",
      "source": [
        ""
      ],
      "execution_count": 0,
      "outputs": []
    },
    {
      "metadata": {
        "id": "7qA9qesCLOD_",
        "colab_type": "text"
      },
      "cell_type": "markdown",
      "source": [
        "#### итоговое предсказание"
      ]
    },
    {
      "metadata": {
        "id": "YwETUdg9LSMX",
        "colab_type": "code",
        "colab": {}
      },
      "cell_type": "code",
      "source": [
        "predictions = model.predict(x_test)"
      ],
      "execution_count": 0,
      "outputs": []
    },
    {
      "metadata": {
        "id": "Mn70DT9lLUHh",
        "colab_type": "code",
        "colab": {}
      },
      "cell_type": "code",
      "source": [
        "sub_df = pd.DataFrame({\"ID_code\":id_test})\n",
        "sub_df[\"target\"] = predictions\n",
        "sub_df.to_csv(base_dir+'submission.csv', index=False)\n",
        "from IPython.display import FileLink\n",
        "FileLink('submission.csv')"
      ],
      "execution_count": 0,
      "outputs": []
    },
    {
      "metadata": {
        "id": "swfsDXXs3BHG",
        "colab_type": "code",
        "colab": {}
      },
      "cell_type": "code",
      "source": [
        ""
      ],
      "execution_count": 0,
      "outputs": []
    },
    {
      "metadata": {
        "id": "6guHm7bp3B6u",
        "colab_type": "text"
      },
      "cell_type": "markdown",
      "source": [
        "### Опыты"
      ]
    },
    {
      "metadata": {
        "id": "P-NVBSV73XbM",
        "colab_type": "text"
      },
      "cell_type": "markdown",
      "source": [
        "#### кластеризация"
      ]
    },
    {
      "metadata": {
        "id": "KEA-QfII3Wgd",
        "colab_type": "code",
        "colab": {
          "base_uri": "https://localhost:8080/",
          "height": 347
        },
        "outputId": "e748a9ea-5f52-466a-a8af-093dc6f7d949"
      },
      "cell_type": "code",
      "source": [
        "# Импорт библиотек\n",
        "from sklearn import datasets\n",
        "from sklearn.manifold import TSNE\n",
        "import matplotlib.pyplot as plt\n",
        " \n",
        "# Загрузка датасета\n",
        "iris_df = datasets.load_iris()\n",
        " \n",
        "# Определяем модель и скорость обучения\n",
        "model = TSNE(learning_rate=100)\n",
        " \n",
        "# Обучаем модель\n",
        "transformed = model.fit_transform(iris_df.data)\n",
        " \n",
        "# Представляем результат в двумерных координатах\n",
        "x_axis = transformed[:, 0]\n",
        "y_axis = transformed[:, 1]\n",
        " \n",
        "plt.scatter(x_axis, y_axis, c=iris_df.target)\n",
        "plt.show()\n"
      ],
      "execution_count": 1,
      "outputs": [
        {
          "output_type": "display_data",
          "data": {
            "image/png": "[encoded data removed]",
            "text/plain": [
              "<Figure size 576x396 with 1 Axes>"
            ]
          },
          "metadata": {
            "tags": []
          }
        }
      ]
    },
    {
      "metadata": {
        "id": "LphmvEcR4hbA",
        "colab_type": "code",
        "colab": {
          "base_uri": "https://localhost:8080/",
          "height": 833
        },
        "outputId": "e62ae66b-6529-4d1e-b8a8-50e6707e8d1e"
      },
      "cell_type": "code",
      "source": [
        "# Импорт библиотек\n",
        "from sklearn import datasets\n",
        "from sklearn.manifold import TSNE\n",
        "import matplotlib.pyplot as plt\n",
        " \n",
        "\n",
        "n = 500\n",
        "# Определяем модель и скорость обучения\n",
        "model = TSNE(learning_rate=100, verbose=2)\n",
        " \n",
        "# Обучаем модель\n",
        "transformed = model.fit_transform(x_train[:n])\n",
        " \n",
        "# Представляем результат в двумерных координатах\n",
        "x_axis = transformed[:, 0]\n",
        "y_axis = transformed[:, 1]\n",
        " \n",
        "plt.scatter(x_axis, y_axis, c=y_train[:n])\n",
        "plt.show()"
      ],
      "execution_count": 17,
      "outputs": [
        {
          "output_type": "stream",
          "text": [
            "[t-SNE] Computing 91 nearest neighbors...\n",
            "[t-SNE] Indexed 500 samples in 0.003s...\n",
            "[t-SNE] Computed neighbors for 500 samples in 0.114s...\n",
            "[t-SNE] Computed conditional probabilities for sample 500 / 500\n",
            "[t-SNE] Mean sigma: 3.444742\n",
            "[t-SNE] Computed conditional probabilities in 0.030s\n",
            "[t-SNE] Iteration 50: error = 77.0209274, gradient norm = 0.4343849 (50 iterations in 0.206s)\n",
            "[t-SNE] Iteration 100: error = 78.5618286, gradient norm = 0.4288956 (50 iterations in 0.211s)\n",
            "[t-SNE] Iteration 150: error = 79.0088425, gradient norm = 0.3989775 (50 iterations in 0.207s)\n",
            "[t-SNE] Iteration 200: error = 78.1491928, gradient norm = 0.4230899 (50 iterations in 0.212s)\n",
            "[t-SNE] Iteration 250: error = 75.9683685, gradient norm = 0.4642868 (50 iterations in 0.226s)\n",
            "[t-SNE] KL divergence after 250 iterations with early exaggeration: 75.968369\n",
            "[t-SNE] Iteration 300: error = 2.3777733, gradient norm = 0.0045719 (50 iterations in 0.197s)\n",
            "[t-SNE] Iteration 350: error = 2.2628200, gradient norm = 0.0018518 (50 iterations in 0.192s)\n",
            "[t-SNE] Iteration 400: error = 2.2388809, gradient norm = 0.0007687 (50 iterations in 0.145s)\n",
            "[t-SNE] Iteration 450: error = 2.2296584, gradient norm = 0.0006369 (50 iterations in 0.147s)\n",
            "[t-SNE] Iteration 500: error = 2.2238245, gradient norm = 0.0003666 (50 iterations in 0.144s)\n",
            "[t-SNE] Iteration 550: error = 2.2202494, gradient norm = 0.0003537 (50 iterations in 0.150s)\n",
            "[t-SNE] Iteration 600: error = 2.2173264, gradient norm = 0.0002078 (50 iterations in 0.145s)\n",
            "[t-SNE] Iteration 650: error = 2.2157428, gradient norm = 0.0002804 (50 iterations in 0.151s)\n",
            "[t-SNE] Iteration 700: error = 2.2149739, gradient norm = 0.0001511 (50 iterations in 0.145s)\n",
            "[t-SNE] Iteration 750: error = 2.2133553, gradient norm = 0.0007004 (50 iterations in 0.148s)\n",
            "[t-SNE] Iteration 800: error = 2.2130723, gradient norm = 0.0001126 (50 iterations in 0.143s)\n",
            "[t-SNE] Iteration 850: error = 2.2124362, gradient norm = 0.0000997 (50 iterations in 0.151s)\n",
            "[t-SNE] Iteration 900: error = 2.2117343, gradient norm = 0.0000992 (50 iterations in 0.143s)\n",
            "[t-SNE] Iteration 950: error = 2.2114992, gradient norm = 0.0000581 (50 iterations in 0.152s)\n",
            "[t-SNE] Iteration 1000: error = 2.2112200, gradient norm = 0.0000314 (50 iterations in 0.145s)\n",
            "[t-SNE] KL divergence after 1000 iterations: 2.211220\n"
          ],
          "name": "stdout"
        },
        {
          "output_type": "display_data",
          "data": {
            "image/png": "[encoded data removed]",
            "text/plain": [
              "<Figure size 576x396 with 1 Axes>"
            ]
          },
          "metadata": {
            "tags": []
          }
        }
      ]
    },
    {
      "metadata": {
        "id": "d-CKy755f3b_",
        "colab_type": "code",
        "colab": {
          "base_uri": "https://localhost:8080/",
          "height": 363
        },
        "outputId": "8b8d5d83-d6f0-4528-fe79-4810d2ec15d6"
      },
      "cell_type": "code",
      "source": [
        "# Импортируем библиотеки\n",
        "from sklearn.datasets import load_iris\n",
        "import matplotlib.pyplot as plt\n",
        "from sklearn.cluster import DBSCAN\n",
        "from sklearn.decomposition import PCA\n",
        " \n",
        "n=500\n",
        "  \n",
        "  \n",
        "# Определяем модель\n",
        "dbscan = DBSCAN()\n",
        " \n",
        "# Обучаем\n",
        "dbscan.fit(x_train[:n])\n",
        " \n",
        "# Уменьшаем размерность при помощи метода главных компонент\n",
        "pca = PCA(n_components=2).fit(x_train[:n])\n",
        "pca_2d = pca.transform(x_train[:n])\n",
        " \n",
        "# Строим в соответствии с тремя классами\n",
        "for i in range(0, pca_2d.shape[0]):\n",
        "    if y_train[i] == 0:\n",
        "        c1 = plt.scatter(pca_2d[i, 0], pca_2d[i, 1], c='r', marker='+')\n",
        "    elif y_train[i] == 1:\n",
        "        c2 = plt.scatter(pca_2d[i, 0], pca_2d[i, 1], c='g', marker='o')\n",
        "\n",
        "plt.legend([c1, c2], ['Кластер 1', 'Кластер 2'])\n",
        "plt.title('DBSCAN нашел 2 кластера и шум')\n",
        "plt.show()"
      ],
      "execution_count": 18,
      "outputs": [
        {
          "output_type": "display_data",
          "data": {
            "image/png": "[encoded data removed]",
            "text/plain": [
              "<Figure size 576x396 with 1 Axes>"
            ]
          },
          "metadata": {
            "tags": []
          }
        }
      ]
    },
    {
      "metadata": {
        "id": "ohA1dhhiy-Is",
        "colab_type": "text"
      },
      "cell_type": "markdown",
      "source": [
        "#### калстеризация сетью"
      ]
    },
    {
      "metadata": {
        "id": "dyK0HN7UzEMD",
        "colab_type": "code",
        "colab": {
          "base_uri": "https://localhost:8080/",
          "height": 347
        },
        "outputId": "76fc2004-2a09-4dbc-fed8-55c04da98123"
      },
      "cell_type": "code",
      "source": [
        "# использование функционального API\n",
        "import keras\n",
        "from keras import models\n",
        "from keras import layers\n",
        "from keras import optimizers\n",
        "from keras import metrics\n",
        "from sklearn.metrics import auc\n",
        "from keras import regularizers\n",
        "import tensorflow as tf\n",
        "from keras import backend as K\n",
        "\n",
        "from keras.wrappers.scikit_learn import KerasClassifier\n",
        "#keras.wrappers.scikit_learn.KerasClassifier\n",
        "from sklearn.model_selection import cross_val_score\n",
        "from sklearn.model_selection import KFold\n",
        "from sklearn.preprocessing import StandardScaler\n",
        "from sklearn.pipeline import Pipeline\n",
        "\n",
        "from keras.models import Model\n",
        "from keras import layers\n",
        "from keras import Input\n",
        "\n",
        "n = 256\n",
        "in_data = Input(shape=(200,), dtype='float32')\n",
        "\n",
        "x = layers.Dense(n,\n",
        "                 activation='relu',\n",
        "                )(in_data)\n",
        "\n",
        "\n",
        "y = layers.Dense(n,\n",
        "                 activation='relu',\n",
        "                )(x)\n",
        "\n",
        "y = layers.Dense(2,\n",
        "                 activation='relu',\n",
        "                )(y)\n",
        "\n",
        "\n",
        "y = layers.Dropout(0.5)(y)\n",
        "ans = layers.Dense(1, activation='sigmoid')(y)\n",
        "\n",
        "\n",
        "model = Model(in_data,ans) \n",
        "\n",
        "model.compile(optimizer=optimizers.RMSprop(lr=1e-4),\n",
        "                  loss='binary_crossentropy',\n",
        "                  metrics=['accuracy']) # auc\n",
        "\n",
        "model.summary()\n",
        "\n",
        "\n"
      ],
      "execution_count": 27,
      "outputs": [
        {
          "output_type": "stream",
          "text": [
            "_________________________________________________________________\n",
            "Layer (type)                 Output Shape              Param #   \n",
            "=================================================================\n",
            "input_3 (InputLayer)         (None, 200)               0         \n",
            "_________________________________________________________________\n",
            "dense_5 (Dense)              (None, 256)               51456     \n",
            "_________________________________________________________________\n",
            "dense_6 (Dense)              (None, 256)               65792     \n",
            "_________________________________________________________________\n",
            "dense_7 (Dense)              (None, 2)                 514       \n",
            "_________________________________________________________________\n",
            "dropout_2 (Dropout)          (None, 2)                 0         \n",
            "_________________________________________________________________\n",
            "dense_8 (Dense)              (None, 1)                 3         \n",
            "=================================================================\n",
            "Total params: 117,765\n",
            "Trainable params: 117,765\n",
            "Non-trainable params: 0\n",
            "_________________________________________________________________\n"
          ],
          "name": "stdout"
        }
      ]
    },
    {
      "metadata": {
        "id": "RAqlehYCzVGX",
        "colab_type": "code",
        "colab": {
          "base_uri": "https://localhost:8080/",
          "height": 381
        },
        "outputId": "3b2fd1c9-f44e-44ff-e9b6-dd7267fb784c"
      },
      "cell_type": "code",
      "source": [
        "from keras.callbacks import TensorBoard, EarlyStopping, ModelCheckpoint, ReduceLROnPlateau\n",
        "\n",
        "batch_size=512\n",
        "\n",
        "history = model.fit(x_train, \n",
        "                    y_train,\n",
        "                    epochs=10,\n",
        "                    batch_size=batch_size,\n",
        "                    validation_split=0.2,\n",
        "                    verbose=1\n",
        "                   )"
      ],
      "execution_count": 28,
      "outputs": [
        {
          "output_type": "stream",
          "text": [
            "Train on 144000 samples, validate on 36000 samples\n",
            "Epoch 1/10\n",
            "144000/144000 [==============================] - 5s 35us/step - loss: 0.4167 - acc: 0.8992 - val_loss: 0.2728 - val_acc: 0.8998\n",
            "Epoch 2/10\n",
            "144000/144000 [==============================] - 5s 32us/step - loss: 0.3728 - acc: 0.8992 - val_loss: 0.2582 - val_acc: 0.8998\n",
            "Epoch 3/10\n",
            "144000/144000 [==============================] - 5s 32us/step - loss: 0.3662 - acc: 0.8992 - val_loss: 0.2597 - val_acc: 0.8998\n",
            "Epoch 4/10\n",
            "144000/144000 [==============================] - 5s 32us/step - loss: 0.3611 - acc: 0.8992 - val_loss: 0.2544 - val_acc: 0.8998\n",
            "Epoch 5/10\n",
            "144000/144000 [==============================] - 5s 32us/step - loss: 0.3536 - acc: 0.8992 - val_loss: 0.2556 - val_acc: 0.8998\n",
            "Epoch 6/10\n",
            "144000/144000 [==============================] - 5s 32us/step - loss: 0.3477 - acc: 0.8992 - val_loss: 0.2581 - val_acc: 0.8998\n",
            "Epoch 7/10\n",
            "144000/144000 [==============================] - 5s 31us/step - loss: 0.3426 - acc: 0.8992 - val_loss: 0.2531 - val_acc: 0.8998\n",
            "Epoch 8/10\n",
            "144000/144000 [==============================] - 5s 32us/step - loss: 0.3400 - acc: 0.8992 - val_loss: 0.2521 - val_acc: 0.8998\n",
            "Epoch 9/10\n",
            "144000/144000 [==============================] - 5s 31us/step - loss: 0.3353 - acc: 0.8992 - val_loss: 0.2539 - val_acc: 0.8998\n",
            "Epoch 10/10\n",
            "144000/144000 [==============================] - 4s 31us/step - loss: 0.3306 - acc: 0.8992 - val_loss: 0.2560 - val_acc: 0.8998\n"
          ],
          "name": "stdout"
        }
      ]
    },
    {
      "metadata": {
        "id": "53S5Ha7M2HJ1",
        "colab_type": "code",
        "colab": {
          "base_uri": "https://localhost:8080/",
          "height": 121
        },
        "outputId": "f6fb2fae-8964-4b73-8807-3d41a29be1fe"
      },
      "cell_type": "code",
      "source": [
        "model.layers"
      ],
      "execution_count": 17,
      "outputs": [
        {
          "output_type": "execute_result",
          "data": {
            "text/plain": [
              "[<keras.engine.input_layer.InputLayer at 0x7f34ebcf4d30>,\n",
              " <keras.layers.core.Dense at 0x7f34ec63f5c0>,\n",
              " <keras.layers.core.Dense at 0x7f34d948e780>,\n",
              " <keras.layers.core.Dense at 0x7f34d948e6d8>,\n",
              " <keras.layers.core.Dropout at 0x7f34d921ff28>,\n",
              " <keras.layers.core.Dense at 0x7f34d923ff98>]"
            ]
          },
          "metadata": {
            "tags": []
          },
          "execution_count": 17
        }
      ]
    },
    {
      "metadata": {
        "id": "gvO93sQG1Vx8",
        "colab_type": "code",
        "colab": {
          "base_uri": "https://localhost:8080/",
          "height": 277
        },
        "outputId": "bde7dde3-3dfc-40b0-c6be-899d71723ae8"
      },
      "cell_type": "code",
      "source": [
        "in_data = Input(shape=(200,), dtype='float32')\n",
        "\n",
        "x = model.layers[1](in_data)\n",
        "\n",
        "\n",
        "y = model.layers[2](x)\n",
        "\n",
        "ans = model.layers[3](y)\n",
        "\n",
        "\n",
        "model2 = Model(in_data,ans) \n",
        "\n",
        "#model2.compile(optimizer=optimizers.RMSprop(lr=1e-4),\n",
        "#                  loss='mse',\n",
        "#                  metrics=['mse']) # auc\n",
        "\n",
        "model2.summary()"
      ],
      "execution_count": 29,
      "outputs": [
        {
          "output_type": "stream",
          "text": [
            "_________________________________________________________________\n",
            "Layer (type)                 Output Shape              Param #   \n",
            "=================================================================\n",
            "input_4 (InputLayer)         (None, 200)               0         \n",
            "_________________________________________________________________\n",
            "dense_5 (Dense)              (None, 256)               51456     \n",
            "_________________________________________________________________\n",
            "dense_6 (Dense)              (None, 256)               65792     \n",
            "_________________________________________________________________\n",
            "dense_7 (Dense)              (None, 2)                 514       \n",
            "=================================================================\n",
            "Total params: 117,762\n",
            "Trainable params: 117,762\n",
            "Non-trainable params: 0\n",
            "_________________________________________________________________\n"
          ],
          "name": "stdout"
        }
      ]
    },
    {
      "metadata": {
        "id": "doZiKpvM3Gwl",
        "colab_type": "code",
        "colab": {}
      },
      "cell_type": "code",
      "source": [
        "predictions = model2.predict(x_train)"
      ],
      "execution_count": 0,
      "outputs": []
    },
    {
      "metadata": {
        "id": "Scpw60UE3Nzs",
        "colab_type": "code",
        "colab": {
          "base_uri": "https://localhost:8080/",
          "height": 363
        },
        "outputId": "4a2ca9e4-466e-41f3-e4cc-60023639c5aa"
      },
      "cell_type": "code",
      "source": [
        "# Строим в соответствии с тремя классами\n",
        "n=1000\n",
        "predictions = model2.predict(x_train[:n])\n",
        "\n",
        "for i in range(0, predictions.shape[0]):\n",
        "    if y_train[i] == 0:\n",
        "        c1 = plt.scatter(predictions[i, 0], predictions[i, 1], c='r', marker='+')\n",
        "        \n",
        "for i in range(0, predictions.shape[0]):\n",
        "    if y_train[i] == 1:\n",
        "        c2 = plt.scatter(predictions[i, 0], predictions[i, 1], c='g', marker='o')\n",
        "\n",
        "plt.legend([c1, c2], ['Кластер 1', 'Кластер 2'])\n",
        "plt.title('DBSCAN нашел 2 кластера и шум')\n",
        "plt.show()"
      ],
      "execution_count": 31,
      "outputs": [
        {
          "output_type": "display_data",
          "data": {
            "image/png": "[encoded data removed]",
            "text/plain": [
              "<Figure size 576x396 with 1 Axes>"
            ]
          },
          "metadata": {
            "tags": []
          }
        }
      ]
    },
    {
      "metadata": {
        "id": "4QkOS0oL5xNB",
        "colab_type": "code",
        "colab": {}
      },
      "cell_type": "code",
      "source": [
        ""
      ],
      "execution_count": 0,
      "outputs": []
    },
    {
      "metadata": {
        "id": "OAi2tE9q6ayW",
        "colab_type": "code",
        "colab": {}
      },
      "cell_type": "code",
      "source": [
        ""
      ],
      "execution_count": 0,
      "outputs": []
    },
    {
      "metadata": {
        "id": "TgLKpkdl6bkf",
        "colab_type": "text"
      },
      "cell_type": "markdown",
      "source": [
        "#### подбор параметров по сетке"
      ]
    },
    {
      "metadata": {
        "id": "H6DIpeCm6bt4",
        "colab_type": "code",
        "colab": {}
      },
      "cell_type": "code",
      "source": [
        "# использование функционального API\n",
        "import keras\n",
        "from keras import models\n",
        "from keras import layers\n",
        "from keras import optimizers\n",
        "from keras import metrics\n",
        "from sklearn.metrics import auc\n",
        "from keras import regularizers\n",
        "import tensorflow as tf\n",
        "from keras import backend as K\n",
        "\n",
        "from keras.wrappers.scikit_learn import KerasClassifier\n",
        "#keras.wrappers.scikit_learn.KerasClassifier\n",
        "from sklearn.model_selection import cross_val_score\n",
        "from sklearn.model_selection import KFold\n",
        "from sklearn.preprocessing import StandardScaler\n",
        "from sklearn.pipeline import Pipeline\n",
        "\n",
        "from keras.models import Model\n",
        "from keras import layers\n",
        "from keras import Input\n",
        "\n",
        "\n",
        "\n",
        "def model_create(N_layer=[64,64,32],\n",
        "                 f_act='relu',                         # ['relu']\n",
        "                 f_act_first=True,                     # [True, False]\n",
        "                 drop_o=0.5,                           # [None, 0.3, 0.4, 0.5]\n",
        "                 batch_norm=True,                      # [True, False]\n",
        "                 \n",
        "                 kernel_initializer='he_uniform',      # ['he_uniform', he_normal]\n",
        "                 bias_initialize='zeros',              #\n",
        "                     \n",
        "                 kernel_regularizer=None,              # [None, regularizers.l1_l2(l1=0.001, l2=0.001)]\n",
        "                 bias_regularizer=None,                # [None, regularizers.l1_l2(l1=0.001, l2=0.001)]\n",
        "                 activity_regularizer=None,            # [None, regularizers.l1_l2(l1=0.001, l2=0.001)]\n",
        "                     \n",
        "                 kernel_constraint=None,               #\n",
        "                 bias_constraint=None,                 #\n",
        "                 optim = 'adam',                       # ['adam','RMSprop','Adadelta']\n",
        "                ):\n",
        "  \n",
        "\n",
        "    in_data = Input(shape=(200,), dtype='float32')\n",
        "  \n",
        "    y = layers.Dense(N_layer[0], \n",
        "                     \n",
        "                     kernel_initializer=kernel_initializer,\n",
        "                     #bias_initialize=bias_initialize,\n",
        "                     \n",
        "                     kernel_regularizer=kernel_regularizer,\n",
        "                     bias_regularizer=bias_regularizer,\n",
        "                     activity_regularizer=activity_regularizer,\n",
        "                     \n",
        "                     kernel_constraint=kernel_constraint,\n",
        "                     bias_constraint=bias_constraint,\n",
        "                     \n",
        "                    )(in_data)\n",
        "    y = layers.Activation(f_act)(y)\n",
        "  \n",
        "  #-----------------------------------------------------------------\n",
        "    for i in range(1,len(N_layer)):\n",
        "        y = layers.Dense(N_layer[i],\n",
        "                         \n",
        "                        )(y)\n",
        "    if f_act_first:\n",
        "        y = layers.Activation(f_act)(y)\n",
        "        if batch_norm:\n",
        "            y = layers.BatchNormalization()(y)\n",
        "      \n",
        "    else:\n",
        "        if batch_norm:\n",
        "            y = layers.BatchNormalization()(y)\n",
        "        y = layers.Activation(f_act)(y)\n",
        "      \n",
        "    if drop_o:\n",
        "        y = layers.Dropout(drop_o)(y)\n",
        "\n",
        "      \n",
        "    \n",
        "    \n",
        "  #-----------------------------------------------------------------\n",
        "    ans = layers.Dense(1, activation='sigmoid')(y)\n",
        "    \n",
        "    model = Model(in_data,ans) \n",
        "  \n",
        "    model.compile(optimizer=optimizers.RMSprop(lr=1e-4),\n",
        "                  loss='binary_crossentropy',\n",
        "                  metrics=['accuracy']) # auc\n",
        "  \n",
        "    return model\n",
        "\n",
        "def fit_model(model,\n",
        "              x_train,\n",
        "              y_train,\n",
        "              batch_s=256, # [64,128,256,512]\n",
        "              epochs=50,\n",
        "             ):\n",
        "    \n",
        "    callbacks_list = [\n",
        "    \n",
        "    keras.callbacks.EarlyStopping(monitor='val_acc', # Слежение за изменением точности модели на проверочных данных\n",
        "                                  patience=4, # Прерывание обучения, когда точность не улучшается дольше чем в течение одной эпохи\n",
        "                                  # (другими словами, в течение двух эпох)\n",
        "                                 ), # Прерывание обучения, когда качество модели перестает улучшаться\n",
        "    \n",
        "    keras.callbacks.ModelCheckpoint(filepath='my_model.h5', # Путь к файлу модели\n",
        "                                    monitor='val_loss', # Эти аргументы требуют,\n",
        "                                    # чтобы файл модели не затирался, если значение\n",
        "                                    # val_loss не улучшилось, что позволяет сохранять\n",
        "                                    # только лучшую модель\n",
        "                                    save_best_only=True,\n",
        "                                   ), # Сохранение текущих весов после каждой эпохи\n",
        "    \n",
        "    #keras.callbacks.TensorBoard(log_dir=LOG_DIR,\n",
        "    #                            histogram_freq=1, # Запись гистограммы активаций в каждой эпохе\n",
        "    #                            write_graph=True,\n",
        "    #                            write_grads=True,\n",
        "    #                            batch_size=batch_size,\n",
        "    #                            #embeddings_freq=1, # Запись векторных представлений в каждой эпохе\n",
        "    #                            write_images=True\n",
        "    #                           ),\n",
        "    ]\n",
        "    \n",
        "    history = model.fit(x_train, \n",
        "                    y_train,\n",
        "                    epochs=epochs,\n",
        "                    batch_size=batch_s,\n",
        "                    validation_split=0.2,\n",
        "                    callbacks=callbacks_list,\n",
        "                    verbose=1\n",
        "                   )\n",
        "    \n",
        "    return history\n",
        "    "
      ],
      "execution_count": 0,
      "outputs": []
    },
    {
      "metadata": {
        "id": "HsbVNRZBxBha",
        "colab_type": "code",
        "colab": {
          "base_uri": "https://localhost:8080/",
          "height": 381
        },
        "outputId": "9bf0b226-f0c4-4c60-ef6a-8a6a2cc93e56"
      },
      "cell_type": "code",
      "source": [
        "model=model_create(N_layer=[64,64,32],\n",
        "                 f_act='relu',                         # ['relu']\n",
        "                 f_act_first=True,                     # [True, False]\n",
        "                 drop_o=0.5,                           # [None, 0.3, 0.4, 0.5]\n",
        "                 batch_norm=True,                      # [True, False]\n",
        "                 \n",
        "                 kernel_initializer='he_uniform',      # ['he_uniform', he_normal]\n",
        "                     \n",
        "                 kernel_regularizer=None,              # [None, regularizers.l1_l2(l1=0.001, l2=0.001)]\n",
        "                 bias_regularizer=None,                # [None, regularizers.l1_l2(l1=0.001, l2=0.001)]\n",
        "                 activity_regularizer=None,            # [None, regularizers.l1_l2(l1=0.001, l2=0.001)]\n",
        "                     \n",
        "                 optim = 'adam',                       # ['adam','RMSprop','Adadelta']\n",
        "                )\n",
        "\n",
        "history=fit_model(model,\n",
        "              x_train,\n",
        "              y_train,\n",
        "              batch_s=256, # [64,128,256,512]\n",
        "              epochs=10\n",
        "             )"
      ],
      "execution_count": 63,
      "outputs": [
        {
          "output_type": "stream",
          "text": [
            "Train on 144000 samples, validate on 36000 samples\n",
            "Epoch 1/10\n",
            "144000/144000 [==============================] - 5s 34us/step - loss: 0.8291 - acc: 0.5629 - val_loss: 0.6037 - val_acc: 0.6911\n",
            "Epoch 2/10\n",
            "144000/144000 [==============================] - 4s 25us/step - loss: 0.6123 - acc: 0.6817 - val_loss: 0.4686 - val_acc: 0.8507\n",
            "Epoch 3/10\n",
            "144000/144000 [==============================] - 4s 26us/step - loss: 0.4831 - acc: 0.7817 - val_loss: 0.3709 - val_acc: 0.8956\n",
            "Epoch 4/10\n",
            "144000/144000 [==============================] - 4s 25us/step - loss: 0.3904 - acc: 0.8447 - val_loss: 0.2992 - val_acc: 0.9071\n",
            "Epoch 5/10\n",
            "144000/144000 [==============================] - 4s 25us/step - loss: 0.3261 - acc: 0.8784 - val_loss: 0.2578 - val_acc: 0.9109\n",
            "Epoch 6/10\n",
            "144000/144000 [==============================] - 4s 25us/step - loss: 0.2899 - acc: 0.8940 - val_loss: 0.2440 - val_acc: 0.9121\n",
            "Epoch 7/10\n",
            "144000/144000 [==============================] - 4s 25us/step - loss: 0.2693 - acc: 0.9023 - val_loss: 0.2383 - val_acc: 0.9130\n",
            "Epoch 8/10\n",
            "144000/144000 [==============================] - 4s 26us/step - loss: 0.2619 - acc: 0.9056 - val_loss: 0.2365 - val_acc: 0.9138\n",
            "Epoch 9/10\n",
            "144000/144000 [==============================] - 4s 26us/step - loss: 0.2537 - acc: 0.9084 - val_loss: 0.2356 - val_acc: 0.9141\n",
            "Epoch 10/10\n",
            "144000/144000 [==============================] - 4s 26us/step - loss: 0.2498 - acc: 0.9088 - val_loss: 0.2348 - val_acc: 0.9145\n"
          ],
          "name": "stdout"
        }
      ]
    },
    {
      "metadata": {
        "id": "AHNYt6kz0yU5",
        "colab_type": "code",
        "colab": {}
      },
      "cell_type": "code",
      "source": [
        "y_train_pred = model.predict(x_train)\n",
        "y_val_pred = model.predict(x_val)"
      ],
      "execution_count": 0,
      "outputs": []
    },
    {
      "metadata": {
        "id": "jY99ipia05NA",
        "colab_type": "code",
        "colab": {
          "base_uri": "https://localhost:8080/",
          "height": 69
        },
        "outputId": "22295886-f1ec-481c-e8ad-3cd7deb7d61d"
      },
      "cell_type": "code",
      "source": [
        "import numpy as np\n",
        "from sklearn.metrics import accuracy_score, roc_auc_score, auc\n",
        "print('base: roc_auc_score = ',roc_auc_score(y_train, np.zeros(len(y_train))))\n",
        "print('train: roc_auc_score = ',roc_auc_score(y_train, y_train_pred))\n",
        "print('test: roc_auc_score = ',roc_auc_score(y_val, y_val_pred))"
      ],
      "execution_count": 83,
      "outputs": [
        {
          "output_type": "stream",
          "text": [
            "base: roc_auc_score =  0.5\n",
            "train: roc_auc_score =  0.8710870116612954\n",
            "test: roc_auc_score =  0.8585420951062582\n"
          ],
          "name": "stdout"
        }
      ]
    },
    {
      "metadata": {
        "id": "DAOx5o7w9h8Y",
        "colab_type": "code",
        "colab": {}
      },
      "cell_type": "code",
      "source": [
        "import numpy as np\n",
        "from sklearn.metrics import accuracy_score, roc_auc_score, auc\n",
        "history.history\n",
        "\n",
        "param_dict={\n",
        "    'N_layer':[[32,32]],\n",
        "    \n",
        "    'f_act': ['relu'],\n",
        "    'f_act_first': [True, False],\n",
        "    'drop_o': [None, 0.3, 0.4, 0.5],\n",
        "    'batch_norm': [True, False],\n",
        "    \n",
        "    'kernel_initializer': ['he_uniform', 'he_normal'],\n",
        "                     \n",
        "    'kernel_regularizer': [None, [0.001, 0.001], [0.0001, 0.0001]],\n",
        "    'bias_regularizer': [None, [0.001, 0.001], [0.0001, 0.0001]],\n",
        "    'activity_regularizer': [None, [0.001, 0.001], [0.0001, 0.0001]],\n",
        "                     \n",
        "    'optim': ['adam','RMSprop','Adadelta'],\n",
        "    \n",
        "    'batch_s': [64, 128, 256, 512],\n",
        "    'epochs': 2\n",
        "    \n",
        "}"
      ],
      "execution_count": 0,
      "outputs": []
    },
    {
      "metadata": {
        "id": "lm6EG66Auz83",
        "colab_type": "code",
        "colab": {
          "base_uri": "https://localhost:8080/",
          "height": 797
        },
        "outputId": "8d726906-9256-41d0-cd9e-4f8a24b425e4"
      },
      "cell_type": "code",
      "source": [
        "\n",
        "report_list=[]\n",
        "\n",
        "k = 4\n",
        "num_val_samples = len(x_train) // k\n",
        "\n",
        "\n",
        "\n",
        "for N_layer in param_dict['N_layer']:\n",
        "    \n",
        "    kernel_initializer= param_dict['kernel_initializer'][0]\n",
        "    drop_o = param_dict['drop_o'][0]\n",
        "    optim = param_dict['optim'][0]\n",
        "    batch_s = param_dict['batch_s'][0]\n",
        "    \n",
        "\n",
        "    #------------------------------------------------------------------------\n",
        "    # фиксированные параметры\n",
        "    kernel_regularizer = param_dict['kernel_regularizer'][0]\n",
        "    bias_regularizer = param_dict['bias_regularizer'][0]\n",
        "    activity_regularizer = param_dict['activity_regularizer'][0]\n",
        "    \n",
        "    batch_norm = param_dict['batch_norm'][0]\n",
        "    f_act_first = param_dict['f_act_first'][0]\n",
        "    f_act = param_dict['f_act'][0]\n",
        "    epochs = param_dict['epochs']\n",
        "    #-----------------------------------------------------------------------\n",
        "    \n",
        "    \n",
        "    all_scores = []\n",
        "    hist_list = []\n",
        "    roc_auc_scr_list =[]\n",
        "    for i in range(k):    \n",
        "        print('processing fold #', i)\n",
        "\n",
        "        val_data = x_train[i * num_val_samples : (i + 1) * num_val_samples] \n",
        "        val_targets = y_train[i * num_val_samples : (i + 1) * num_val_samples]\n",
        "        partial_train_data = np.concatenate([x_train[:i * num_val_samples], x_train[(i + 1) * num_val_samples:]], axis=0) \n",
        "        partial_train_targets = np.concatenate([y_train[:i * num_val_samples], y_train[(i + 1) * num_val_samples:]], axis=0) \n",
        "\n",
        "\n",
        "        model=model_create(N_layer = N_layer,\n",
        "                           f_act = f_act,                                 # ['relu']\n",
        "                           f_act_first = f_act_first,                     # [True, False]\n",
        "                           drop_o = drop_o,                               # [None, 0.3, 0.4, 0.5]\n",
        "                           batch_norm = batch_norm,                       # [True, False]\n",
        "                           kernel_initializer = kernel_initializer,       # ['he_uniform', he_normal]\n",
        "                           kernel_regularizer = kernel_regularizer,       # [None, regularizers.l1_l2(l1=0.001, l2=0.001)]\n",
        "                           bias_regularizer = bias_regularizer,           # [None, regularizers.l1_l2(l1=0.001, l2=0.001)]\n",
        "                           activity_regularizer = activity_regularizer,   # [None, regularizers.l1_l2(l1=0.001, l2=0.001)]\n",
        "                           optim = optim,                                 # ['adam','RMSprop','Adadelta']\n",
        "                    )\n",
        "\n",
        "        history = fit_model(model,\n",
        "                            x_train[:10000],\n",
        "                            y_train[:10000],\n",
        "                            batch_s=batch_s, # [64, 128, 256, 512]\n",
        "                            epochs=epochs\n",
        "                           )\n",
        "\n",
        "\n",
        "        val_loss, val_acc = model.evaluate(val_data, val_targets, verbose=0)\n",
        "        y_val_pred = model.predict(x_val)\n",
        "        roc_auc_scr = roc_auc_score(y_val, y_val_pred)\n",
        "        \n",
        "        all_scores.append(val_acc) #Оценка модели по проверочным данным\n",
        "        hist_list.append(len(history.history[list(history.history.keys())[0]]))\n",
        "        roc_auc_scr_list.append(roc_auc_scr)\n",
        "        \n",
        "        mean_all_scores = np.mean(all_scores)\n",
        "        mean_roc_auc_scr_list = np.mean(roc_auc_scr_list)\n",
        "        \n",
        "        print('all_scores = {}'.format(all_scores))\n",
        "        print('all_roc_auc = {}'.format(roc_auc_scr_list))\n",
        "        print('mean acc = {}'.format(mean_all_scores))\n",
        "        print('mean roc_auc = {}'.format(mean_roc_auc_scr_list))\n",
        "        print('---------------------------------------------------------------------')\n",
        "    \n",
        "    print('*********************************************************************************************************')\n",
        "    print('mean epochs = ', int(np.mean(hist_list)))\n",
        "    print('mean acc = {}'.format(mean_all_scores))\n",
        "    print('mean roc_auc = {}'.format(mean_roc_auc_scr_list))\n",
        "    print('*********************************************************************************************************')\n",
        "        \n",
        "        \n",
        "    report={\n",
        "        'N_layer': N_layer,\n",
        "        'kernel_initializer': kernel_initializer,\n",
        "        'drop_o': drop_o,\n",
        "        'optim' : optim,\n",
        "        'batch_s' : batch_s,\n",
        "        'estimate' : [val_loss, val_acc],\n",
        "        'y_val_pred': y_train_pred\n",
        "     \n",
        "        \n",
        "        \n",
        "        \n",
        "        \n",
        "    }\n",
        "\n",
        "    \n",
        "    \n",
        "    \n",
        "    "
      ],
      "execution_count": 102,
      "outputs": [
        {
          "output_type": "stream",
          "text": [
            "processing fold # 0\n",
            "Train on 8000 samples, validate on 2000 samples\n",
            "Epoch 1/2\n",
            "8000/8000 [==============================] - 6s 730us/step - loss: 0.8250 - acc: 0.5229 - val_loss: 0.7815 - val_acc: 0.5350\n",
            "Epoch 2/2\n",
            "8000/8000 [==============================] - 0s 50us/step - loss: 0.7450 - acc: 0.5586 - val_loss: 0.7180 - val_acc: 0.5695\n",
            "all_scores = [0.5768]\n",
            "mean acc = 0.5768\n",
            "mean roc_auc = 0.5463023034503013\n",
            "---------------------------------------------------------------------\n",
            "processing fold # 1\n",
            "Train on 8000 samples, validate on 2000 samples\n",
            "Epoch 1/2\n",
            "8000/8000 [==============================] - 6s 716us/step - loss: 0.7876 - acc: 0.5078 - val_loss: 0.7748 - val_acc: 0.4945\n",
            "Epoch 2/2\n",
            "8000/8000 [==============================] - 0s 50us/step - loss: 0.7148 - acc: 0.5543 - val_loss: 0.7097 - val_acc: 0.5440\n",
            "all_scores = [0.5768, 0.5733555555555555]\n",
            "mean acc = 0.5750777777777778\n",
            "mean roc_auc = 0.5225722193749542\n",
            "---------------------------------------------------------------------\n",
            "processing fold # 2\n",
            "Train on 8000 samples, validate on 2000 samples\n",
            "Epoch 1/2\n",
            "8000/8000 [==============================] - 6s 737us/step - loss: 0.8004 - acc: 0.5498 - val_loss: 0.7577 - val_acc: 0.5725\n",
            "Epoch 2/2\n",
            "8000/8000 [==============================] - 0s 52us/step - loss: 0.7203 - acc: 0.5962 - val_loss: 0.6908 - val_acc: 0.6220\n",
            "all_scores = [0.5768, 0.5733555555555555, 0.6150666666666667]\n",
            "mean acc = 0.5884074074074074\n",
            "mean roc_auc = 0.5330063862522623\n",
            "---------------------------------------------------------------------\n",
            "processing fold # 3\n",
            "Train on 8000 samples, validate on 2000 samples\n",
            "Epoch 1/2\n",
            "8000/8000 [==============================] - 6s 748us/step - loss: 0.8051 - acc: 0.5289 - val_loss: 0.7482 - val_acc: 0.5635\n",
            "Epoch 2/2\n",
            "8000/8000 [==============================] - 0s 50us/step - loss: 0.7340 - acc: 0.5703 - val_loss: 0.6899 - val_acc: 0.5980\n",
            "all_scores = [0.5768, 0.5733555555555555, 0.6150666666666667, 0.5925111111111111]\n",
            "mean acc = 0.5894333333333334\n",
            "mean roc_auc = 0.5248353875067091\n",
            "---------------------------------------------------------------------\n",
            "*********************************************************************************************************\n",
            "mean epochs =  2\n",
            "mean acc = 0.5894333333333334\n",
            "mean roc_auc = 0.5248353875067091\n",
            "*********************************************************************************************************\n"
          ],
          "name": "stdout"
        }
      ]
    },
    {
      "metadata": {
        "id": "fdkJBGTNOmkQ",
        "colab_type": "code",
        "colab": {
          "base_uri": "https://localhost:8080/",
          "height": 35
        },
        "outputId": "11a0330b-f208-47f1-efe7-321545d2e7a8"
      },
      "cell_type": "code",
      "source": [
        "history.history[list(history.history.keys())[0]]"
      ],
      "execution_count": 100,
      "outputs": [
        {
          "output_type": "execute_result",
          "data": {
            "text/plain": [
              "[0.814524863243103, 0.7466410613059997]"
            ]
          },
          "metadata": {
            "tags": []
          },
          "execution_count": 100
        }
      ]
    },
    {
      "metadata": {
        "id": "WN6HHvBJ8_Kn",
        "colab_type": "code",
        "colab": {
          "base_uri": "https://localhost:8080/",
          "height": 451
        },
        "outputId": "cc7cb319-1b4d-4037-a414-1d36bf12e3f1"
      },
      "cell_type": "code",
      "source": [
        "model = model_create()\n",
        "model.summary()"
      ],
      "execution_count": 34,
      "outputs": [
        {
          "output_type": "stream",
          "text": [
            "_________________________________________________________________\n",
            "Layer (type)                 Output Shape              Param #   \n",
            "=================================================================\n",
            "input_15 (InputLayer)        (None, 200)               0         \n",
            "_________________________________________________________________\n",
            "dense_39 (Dense)             (None, 64)                12864     \n",
            "_________________________________________________________________\n",
            "activation_6 (Activation)    (None, 64)                0         \n",
            "_________________________________________________________________\n",
            "dense_40 (Dense)             (None, 64)                4160      \n",
            "_________________________________________________________________\n",
            "dense_41 (Dense)             (None, 32)                2080      \n",
            "_________________________________________________________________\n",
            "activation_7 (Activation)    (None, 32)                0         \n",
            "_________________________________________________________________\n",
            "batch_normalization_6 (Batch (None, 32)                128       \n",
            "_________________________________________________________________\n",
            "dropout_9 (Dropout)          (None, 32)                0         \n",
            "_________________________________________________________________\n",
            "dense_42 (Dense)             (None, 1)                 33        \n",
            "=================================================================\n",
            "Total params: 19,265\n",
            "Trainable params: 19,201\n",
            "Non-trainable params: 64\n",
            "_________________________________________________________________\n"
          ],
          "name": "stdout"
        }
      ]
    },
    {
      "metadata": {
        "id": "eVsDpKLR3Mk8",
        "colab_type": "text"
      },
      "cell_type": "markdown",
      "source": [
        ""
      ]
    }
  ]
}