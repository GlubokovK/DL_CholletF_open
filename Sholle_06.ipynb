{
  "nbformat": 4,
  "nbformat_minor": 0,
  "metadata": {
    "colab": {
      "name": "Sholle_06.ipynb",
      "version": "0.3.2",
      "provenance": [],
      "collapsed_sections": [],
      "include_colab_link": true
    },
    "kernelspec": {
      "name": "python3",
      "display_name": "Python 3"
    }
  },
  "cells": [
    {
      "cell_type": "markdown",
      "metadata": {
        "id": "view-in-github",
        "colab_type": "text"
      },
      "source": [
        "<a href=\"https://colab.research.google.com/github/GlubokovK/DL_CholletF_open/blob/master/Sholle_06.ipynb\" target=\"_parent\"><img src=\"https://colab.research.google.com/assets/colab-badge.svg\" alt=\"Open In Colab\"/></a>"
      ]
    },
    {
      "metadata": {
        "id": "x5vX0GarV6Z9",
        "colab_type": "text"
      },
      "cell_type": "markdown",
      "source": [
        "# Глава 6"
      ]
    },
    {
      "metadata": {
        "id": "7s8c_dSavkOa",
        "colab_type": "text"
      },
      "cell_type": "markdown",
      "source": [
        "###  Пример обработки отзывов IMDB (embending + dense)"
      ]
    },
    {
      "metadata": {
        "id": "dQxfPCsEWByE",
        "colab_type": "text"
      },
      "cell_type": "markdown",
      "source": [
        "#### 6.1.1. Прямое кодирование слов и символов"
      ]
    },
    {
      "metadata": {
        "id": "dKU0YCouWBGU",
        "colab_type": "code",
        "colab": {}
      },
      "cell_type": "code",
      "source": [
        "# Листинг 6.1. Прямое кодирование на уровне слов (упрощенный пример)\n",
        "import numpy as np\n",
        "samples = ['The cat sat on the mat.', 'The dog ate my homework.']\n",
        "# Исходные данные: один элемент — один образец \n",
        "# (в данном случае образцы представляют по одному предложению, \n",
        "# но точно так же это могли бы быть целые документы)\n",
        "\n",
        "\n",
        "token_index = {}\n",
        "for sample in samples: \n",
        "  for word in sample.split(): \n",
        "    if word not in token_index: \n",
        "      token_index[word] = len(token_index) + 1\n",
        "      \n",
        "# Векторизация образцов. В каждом образце рассматриваются только первые max_length слов\n",
        "max_length = 10 \n",
        "\n",
        "\n",
        "results = np.zeros(shape=(len(samples), \n",
        "                          max_length, \n",
        "                          max(token_index.values()) + 1)\n",
        "                  ) \n",
        "\n",
        "for i, sample in enumerate(samples): \n",
        "  for j, word in list(enumerate(sample.split()))[:max_length]: \n",
        "    index = token_index.get(word) \n",
        "    results[i, j, index] = 1."
      ],
      "execution_count": 0,
      "outputs": []
    },
    {
      "metadata": {
        "id": "B-vVEvMJV081",
        "colab_type": "code",
        "colab": {}
      },
      "cell_type": "code",
      "source": [
        "# Листинг 6.2. Прямое кодирование на уровне символов (упрощенный пример)\n",
        "import string\n",
        "\n",
        "samples = ['The cat sat on the mat.', 'The dog ate my homework.']\n",
        "characters = string.printable # Все отображаемые символы ASCII\n",
        "token_index = dict(zip(characters, range(1, len(characters) + 1)))\n",
        "\n",
        "max_length = 50\n",
        "\n",
        "results = np.zeros((len(samples), \n",
        "                    max_length, \n",
        "                    max(token_index.values()) + 1\n",
        "                   ))\n",
        "\n",
        "for i, sample in enumerate(samples):\n",
        "  for j, character in enumerate(sample):\n",
        "    index = token_index.get(character)\n",
        "    results[i, j, index] = 1."
      ],
      "execution_count": 0,
      "outputs": []
    },
    {
      "metadata": {
        "id": "R1-IIWXnmyAS",
        "colab_type": "code",
        "outputId": "b81b70d1-a205-418b-ef3c-a645377a1265",
        "colab": {
          "base_uri": "https://localhost:8080/",
          "height": 51
        }
      },
      "cell_type": "code",
      "source": [
        "# Листинг 6.3. Использование Keras для прямого кодирования слов\n",
        "\n",
        "from keras.preprocessing.text import Tokenizer\n",
        "\n",
        "samples = ['The cat sat on the mat.', 'The dog ate my homework.']\n",
        "\n",
        "tokenizer = Tokenizer(num_words=1000) # Создание токенизатора и его настройка на учет только 1000 наиболее часто используемых слов\n",
        "tokenizer.fit_on_texts(samples) # Обучаем токенайзер на тексте. Создание индекса всех слов\n",
        "\n",
        "sequences = tokenizer.texts_to_sequences(samples) # Преобразование строк в списки целочисленных индексов\n",
        "\n",
        "one_hot_results = tokenizer.texts_to_matrix(samples, mode='binary') \n",
        "\n",
        "word_index = tokenizer.word_index \n",
        "print('Found %s unique tokens.' % len(word_index))"
      ],
      "execution_count": 0,
      "outputs": [
        {
          "output_type": "stream",
          "text": [
            "Using TensorFlow backend.\n"
          ],
          "name": "stderr"
        },
        {
          "output_type": "stream",
          "text": [
            "Found 9 unique tokens.\n"
          ],
          "name": "stdout"
        }
      ]
    },
    {
      "metadata": {
        "id": "Y3g9HJawmyXa",
        "colab_type": "code",
        "outputId": "950095a3-f956-4dc8-d041-2f0d6aab6c51",
        "colab": {
          "base_uri": "https://localhost:8080/",
          "height": 34
        }
      },
      "cell_type": "code",
      "source": [
        "sequences"
      ],
      "execution_count": 0,
      "outputs": [
        {
          "output_type": "execute_result",
          "data": {
            "text/plain": [
              "[[1, 2, 3, 4, 1, 5], [1, 6, 7, 8, 9]]"
            ]
          },
          "metadata": {
            "tags": []
          },
          "execution_count": 13
        }
      ]
    },
    {
      "metadata": {
        "id": "TPNR86-0myhk",
        "colab_type": "code",
        "outputId": "53e07678-d19a-4763-9497-902d934303d3",
        "colab": {
          "base_uri": "https://localhost:8080/",
          "height": 34
        }
      },
      "cell_type": "code",
      "source": [
        "len(one_hot_results[0])"
      ],
      "execution_count": 0,
      "outputs": [
        {
          "output_type": "execute_result",
          "data": {
            "text/plain": [
              "1000"
            ]
          },
          "metadata": {
            "tags": []
          },
          "execution_count": 15
        }
      ]
    },
    {
      "metadata": {
        "id": "AL7cTGBImyo6",
        "colab_type": "code",
        "colab": {}
      },
      "cell_type": "code",
      "source": [
        "# Листинг 6.4. Прямое кодирование на уровне слов с использованием хеширования (упрощенный пример)\n",
        "samples = ['The cat sat on the mat.', 'The dog ate my homework.']\n",
        "\n",
        "dimensionality = 1000 # Слова будут сохраняться как векторы с размером 1000. \n",
        "# Если число слов близко к 1000 (или даже больше), \n",
        "# вы увидите множество хеш-коллизий, \n",
        "# снижающих точность этого метода кодирования.\n",
        "\n",
        "max_length = 10\n",
        "\n",
        "results = np.zeros((len(samples), max_length, dimensionality))\n",
        "for i, sample in enumerate(samples): \n",
        "  for j, word in list(enumerate(sample.split()))[:max_length]: \n",
        "    index = abs(hash(word)) % dimensionality # Хеширование слов в случайные целочисленные индексы между 0 и 1000\n",
        "    results[i, j, index] = 1."
      ],
      "execution_count": 0,
      "outputs": []
    },
    {
      "metadata": {
        "id": "YXXVFueRmyux",
        "colab_type": "code",
        "outputId": "984969ed-c7d0-480d-bbd7-00dda9469a0c",
        "colab": {
          "base_uri": "https://localhost:8080/",
          "height": 34
        }
      },
      "cell_type": "code",
      "source": [
        "results.shape"
      ],
      "execution_count": 0,
      "outputs": [
        {
          "output_type": "execute_result",
          "data": {
            "text/plain": [
              "(2, 10, 1000)"
            ]
          },
          "metadata": {
            "tags": []
          },
          "execution_count": 18
        }
      ]
    },
    {
      "metadata": {
        "id": "nqu4MCdxO7Kq",
        "colab_type": "text"
      },
      "cell_type": "markdown",
      "source": [
        "#### 6.1.2. Векторное представление слов"
      ]
    },
    {
      "metadata": {
        "id": "2ENG2khqmyyf",
        "colab_type": "code",
        "colab": {}
      },
      "cell_type": "code",
      "source": [
        "# Листинг 6.5. Создание слоя Embedding\n",
        "from keras.layers import Embedding\n",
        "embedding_layer = Embedding(1000, 64)\n",
        "# Слой Embedding принимает как минимум два аргумента: \n",
        "# количество возможных токенов (в данном случае 1000: 1 + максимальный индекс слова) \n",
        "# и размерность пространства (в данном случае 64)"
      ],
      "execution_count": 0,
      "outputs": []
    },
    {
      "metadata": {
        "id": "wnSOOM7emy2q",
        "colab_type": "code",
        "colab": {}
      },
      "cell_type": "code",
      "source": [
        "# Листинг 6.6. Загрузка данных из IMDB для передачи в слой Embedding\n",
        "from keras.datasets import imdb\n",
        "from keras import preprocessing\n",
        "\n",
        "max_features = 10000 # Количество слов, рассматриваемых как признаки\n",
        "maxlen = 20 # Обрезка текста после этого количества слов (в числе max_features самых распространенных слов)\n",
        "\n",
        "(x_train, y_train), (x_test, y_test) = imdb.load_data(num_words=max_features) # Загрузка данных как списков целых чисел\n",
        "\n",
        "\n",
        "x_train1 = preprocessing.sequence.pad_sequences(x_train, maxlen=maxlen) # Преобразование списков целых чисел \n",
        "# в двумерный тензор с целыми числами и с формой (образцы, максимальная_длина)\n",
        "x_test1 = preprocessing.sequence.pad_sequences(x_test, maxlen=maxlen)\n",
        "\n"
      ],
      "execution_count": 0,
      "outputs": []
    },
    {
      "metadata": {
        "id": "AXwq0QQA2knw",
        "colab_type": "code",
        "outputId": "1fddba15-8274-4d7f-ebf3-7b52e7781ca6",
        "colab": {
          "base_uri": "https://localhost:8080/",
          "height": 156
        }
      },
      "cell_type": "code",
      "source": [
        "print(x_train.shape)\n",
        "print('x_train[0] = {}'.format(x_train[2]))\n",
        "print(len(x_train[2]))\n",
        "\n",
        "print(x_train1.shape)\n",
        "print('x_train[0] = {}'.format(x_train1[2]))\n",
        "print(len(x_train1[2]))"
      ],
      "execution_count": 0,
      "outputs": [
        {
          "output_type": "stream",
          "text": [
            "(25000,)\n",
            "x_train[0] = [1, 14, 47, 8, 30, 31, 7, 4, 249, 108, 7, 4, 5974, 54, 61, 369, 13, 71, 149, 14, 22, 112, 4, 2401, 311, 12, 16, 3711, 33, 75, 43, 1829, 296, 4, 86, 320, 35, 534, 19, 263, 4821, 1301, 4, 1873, 33, 89, 78, 12, 66, 16, 4, 360, 7, 4, 58, 316, 334, 11, 4, 1716, 43, 645, 662, 8, 257, 85, 1200, 42, 1228, 2578, 83, 68, 3912, 15, 36, 165, 1539, 278, 36, 69, 2, 780, 8, 106, 14, 6905, 1338, 18, 6, 22, 12, 215, 28, 610, 40, 6, 87, 326, 23, 2300, 21, 23, 22, 12, 272, 40, 57, 31, 11, 4, 22, 47, 6, 2307, 51, 9, 170, 23, 595, 116, 595, 1352, 13, 191, 79, 638, 89, 2, 14, 9, 8, 106, 607, 624, 35, 534, 6, 227, 7, 129, 113]\n",
            "141\n",
            "(25000, 20)\n",
            "x_train[0] = [1352   13  191   79  638   89    2   14    9    8  106  607  624   35\n",
            "  534    6  227    7  129  113]\n",
            "20\n"
          ],
          "name": "stdout"
        }
      ]
    },
    {
      "metadata": {
        "id": "WYFhYabCmy52",
        "colab_type": "code",
        "outputId": "3907c248-dd96-48df-ea5e-ee7329b210f2",
        "colab": {
          "base_uri": "https://localhost:8080/",
          "height": 666
        }
      },
      "cell_type": "code",
      "source": [
        "# Листинг 6.7. Использование слоя Embedding и классификатора данных из IMDB\n",
        "\n",
        "from keras.models import Sequential\n",
        "from keras.layers import Flatten, Dense, Embedding\n",
        "\n",
        "model = Sequential()\n",
        "model.add(Embedding(10000, 8, input_length=maxlen)) \n",
        "# Определение максимальной длины входа для слоя Embedding \n",
        "# в целях последующего уменьшения размерности. После слоя Embedding \n",
        "# активация имеет форму (образцы, максимальная_длина(20), 8)\n",
        "\n",
        "\n",
        "model.add(Flatten()) \n",
        "\n",
        "model.add(Dense(1, activation='sigmoid')) # Добавление классификатора сверху\n",
        "model.compile(optimizer='rmsprop', loss='binary_crossentropy', metrics=['acc'])\n",
        "model.summary()\n",
        "\n",
        "history = model.fit(x_train1, \n",
        "                    y_train, \n",
        "                    epochs=10, \n",
        "                    batch_size=32, \n",
        "                    validation_split=0.2)\n",
        "\n",
        "\n",
        "\n"
      ],
      "execution_count": 0,
      "outputs": [
        {
          "output_type": "stream",
          "text": [
            "_________________________________________________________________\n",
            "Layer (type)                 Output Shape              Param #   \n",
            "=================================================================\n",
            "embedding_5 (Embedding)      (None, 20, 8)             80000     \n",
            "_________________________________________________________________\n",
            "flatten_3 (Flatten)          (None, 160)               0         \n",
            "_________________________________________________________________\n",
            "dense_3 (Dense)              (None, 1)                 161       \n",
            "=================================================================\n",
            "Total params: 80,161\n",
            "Trainable params: 80,161\n",
            "Non-trainable params: 0\n",
            "_________________________________________________________________\n",
            "WARNING:tensorflow:From /usr/local/lib/python3.6/dist-packages/tensorflow/python/ops/math_ops.py:3066: to_int32 (from tensorflow.python.ops.math_ops) is deprecated and will be removed in a future version.\n",
            "Instructions for updating:\n",
            "Use tf.cast instead.\n",
            "Train on 20000 samples, validate on 5000 samples\n",
            "Epoch 1/10\n",
            "20000/20000 [==============================] - 3s 128us/step - loss: 0.6684 - acc: 0.6189 - val_loss: 0.6113 - val_acc: 0.7038\n",
            "Epoch 2/10\n",
            "20000/20000 [==============================] - 1s 66us/step - loss: 0.5349 - acc: 0.7540 - val_loss: 0.5196 - val_acc: 0.7336\n",
            "Epoch 3/10\n",
            "20000/20000 [==============================] - 1s 64us/step - loss: 0.4578 - acc: 0.7899 - val_loss: 0.4983 - val_acc: 0.7478\n",
            "Epoch 4/10\n",
            "20000/20000 [==============================] - 1s 66us/step - loss: 0.4209 - acc: 0.8085 - val_loss: 0.4936 - val_acc: 0.7498\n",
            "Epoch 5/10\n",
            "20000/20000 [==============================] - 1s 66us/step - loss: 0.3961 - acc: 0.8210 - val_loss: 0.4931 - val_acc: 0.7536\n",
            "Epoch 6/10\n",
            "20000/20000 [==============================] - 1s 63us/step - loss: 0.3753 - acc: 0.8332 - val_loss: 0.4969 - val_acc: 0.7540\n",
            "Epoch 7/10\n",
            "20000/20000 [==============================] - 1s 64us/step - loss: 0.3573 - acc: 0.8454 - val_loss: 0.5025 - val_acc: 0.7546\n",
            "Epoch 8/10\n",
            "20000/20000 [==============================] - 1s 64us/step - loss: 0.3401 - acc: 0.8542 - val_loss: 0.5085 - val_acc: 0.7526\n",
            "Epoch 9/10\n",
            "20000/20000 [==============================] - 1s 63us/step - loss: 0.3234 - acc: 0.8655 - val_loss: 0.5157 - val_acc: 0.7504\n",
            "Epoch 10/10\n",
            "20000/20000 [==============================] - 1s 65us/step - loss: 0.3077 - acc: 0.8733 - val_loss: 0.5241 - val_acc: 0.7496\n"
          ],
          "name": "stdout"
        }
      ]
    },
    {
      "metadata": {
        "id": "TfCvVz1Fmylg",
        "colab_type": "code",
        "colab": {}
      },
      "cell_type": "code",
      "source": [
        ""
      ],
      "execution_count": 0,
      "outputs": []
    },
    {
      "metadata": {
        "id": "k2bx_yNndYPw",
        "colab_type": "text"
      },
      "cell_type": "markdown",
      "source": [
        "#### 6.1.3. Объединение всего вместе: от исходного текста к векторному представлению слов"
      ]
    },
    {
      "metadata": {
        "id": "3Kd-y665myf5",
        "colab_type": "code",
        "colab": {
          "base_uri": "https://localhost:8080/",
          "height": 406
        },
        "outputId": "928e4532-eb1e-4966-f9cf-0adc9def4145"
      },
      "cell_type": "code",
      "source": [
        "!wget --no-check-certificate \\\n",
        "    http://mng.bz/0tIo \\\n",
        "    -O /tmp/acllmdb.zip"
      ],
      "execution_count": 10,
      "outputs": [
        {
          "output_type": "stream",
          "text": [
            "--2019-02-24 07:50:25--  http://mng.bz/0tIo\n",
            "Resolving mng.bz (mng.bz)... 35.166.24.88\n",
            "Connecting to mng.bz (mng.bz)|35.166.24.88|:80... connected.\n",
            "HTTP request sent, awaiting response... 301 Moved Permanently\n",
            "Location: https://mng.bz/0tIo [following]\n",
            "--2019-02-24 07:50:25--  https://mng.bz/0tIo\n",
            "Connecting to mng.bz (mng.bz)|35.166.24.88|:443... connected.\n",
            "WARNING: cannot verify mng.bz's certificate, issued by ‘CN=Go Daddy Secure Certificate Authority - G2,OU=http://certs.godaddy.com/repository/,O=GoDaddy.com\\\\, Inc.,L=Scottsdale,ST=Arizona,C=US’:\n",
            "  Unable to locally verify the issuer's authority.\n",
            "HTTP request sent, awaiting response... 301 \n",
            "Location: http://s3.amazonaws.com/text-datasets/aclImdb.zip [following]\n",
            "--2019-02-24 07:50:25--  http://s3.amazonaws.com/text-datasets/aclImdb.zip\n",
            "Resolving s3.amazonaws.com (s3.amazonaws.com)... 52.216.238.141\n",
            "Connecting to s3.amazonaws.com (s3.amazonaws.com)|52.216.238.141|:80... connected.\n",
            "HTTP request sent, awaiting response... 200 OK\n",
            "Length: 60711700 (58M) [application/zip]\n",
            "Saving to: ‘/tmp/acllmdb.zip’\n",
            "\n",
            "/tmp/acllmdb.zip    100%[===================>]  57.90M  6.88MB/s    in 17s     \n",
            "\n",
            "2019-02-24 07:50:43 (3.31 MB/s) - ‘/tmp/acllmdb.zip’ saved [60711700/60711700]\n",
            "\n"
          ],
          "name": "stdout"
        }
      ]
    },
    {
      "metadata": {
        "id": "wvmi4arOdyaF",
        "colab_type": "code",
        "colab": {}
      },
      "cell_type": "code",
      "source": [
        "import os\n",
        "import zipfile\n",
        "\n",
        "local_zip = '/tmp/acllmdb.zip'\n",
        "zip_ref = zipfile.ZipFile(local_zip, 'r')\n",
        "zip_ref.extractall('/tmp/data_acllmdb/')\n",
        "zip_ref.close()"
      ],
      "execution_count": 0,
      "outputs": []
    },
    {
      "metadata": {
        "id": "5h4UNm2QmyeQ",
        "colab_type": "code",
        "colab": {
          "base_uri": "https://localhost:8080/",
          "height": 34
        },
        "outputId": "c49bd655-d4b2-4eba-9f7c-abc263c88be1"
      },
      "cell_type": "code",
      "source": [
        "import os\n",
        "print(os.listdir('/tmp'))"
      ],
      "execution_count": 12,
      "outputs": [
        {
          "output_type": "stream",
          "text": [
            "['data', 'acllmdb.zip', 'dogscats', 'data_acllmdb']\n"
          ],
          "name": "stdout"
        }
      ]
    },
    {
      "metadata": {
        "id": "3giRdCbntvY-",
        "colab_type": "code",
        "colab": {}
      },
      "cell_type": "code",
      "source": [
        "# Листинг 6.8. Обработка меток из исходного набора данных IMDB\n",
        "import os\n",
        "\n",
        "imdb_dir = '/tmp/data_acllmdb/aclImdb'\n",
        "train_dir = os.path.join(imdb_dir, 'train')\n",
        "\n",
        "labels = []\n",
        "texts = []\n",
        "\n",
        "for label_type in ['neg', 'pos']:\n",
        "  dir_name = os.path.join(train_dir, label_type)\n",
        "  for fname in os.listdir(dir_name):\n",
        "    if fname[-4:] == '.txt':\n",
        "      f = open(os.path.join(dir_name, fname))\n",
        "      texts.append(f.read())\n",
        "      f.close()\n",
        "      if label_type == 'neg':\n",
        "        labels.append(0)\n",
        "      else:\n",
        "        labels.append(1)"
      ],
      "execution_count": 0,
      "outputs": []
    },
    {
      "metadata": {
        "id": "t56GzrDuuwVt",
        "colab_type": "code",
        "colab": {
          "base_uri": "https://localhost:8080/",
          "height": 50
        },
        "outputId": "cd5f1c02-ca6c-4dfa-b092-495a5feb25e6"
      },
      "cell_type": "code",
      "source": [
        "print(len(texts))\n",
        "print(len(labels))"
      ],
      "execution_count": 32,
      "outputs": [
        {
          "output_type": "stream",
          "text": [
            "25000\n",
            "25000\n"
          ],
          "name": "stdout"
        }
      ]
    },
    {
      "metadata": {
        "id": "BtSd4qiNwoBf",
        "colab_type": "code",
        "colab": {
          "base_uri": "https://localhost:8080/",
          "height": 67
        },
        "outputId": "82fe5231-5d53-4d28-eeaf-9002a1bf405e"
      },
      "cell_type": "code",
      "source": [
        "# Листинг 6.9. Токенизация текста из исходного набора данных IMDB\n",
        "from keras.preprocessing.text import Tokenizer\n",
        "from keras.preprocessing.sequence import pad_sequences\n",
        "import numpy as np\n",
        "\n",
        "maxlen = 100 # Отсечение остатка отзывов после 100-го слова\n",
        "training_samples = 200 # Обучение на выборке из 200 образцов\n",
        "validation_samples = 10000 # Проверка на выборке из 10 000 образцов\n",
        "max_words = 10000 # Рассмотрение только 10 000 наиболее часто используемых слов\n",
        "\n",
        "tokenizer = Tokenizer(num_words=max_words)\n",
        "tokenizer.fit_on_texts(texts)\n",
        "\n",
        "sequences = tokenizer.texts_to_sequences(texts)\n",
        "word_index = tokenizer.word_index # словарь word : index\n",
        "\n",
        "print('Found %s unique tokens.' % len(word_index))\n",
        "data = pad_sequences(sequences, maxlen=maxlen) #Приведение всех предложений к длинне 100\n",
        "labels = np.asarray(labels)\n",
        "print('Shape of data tensor:', data.shape)\n",
        "print('Shape of label tensor:', labels.shape)\n",
        "\n",
        "# Разбивка данных на обучающую и проверочную выборки, \n",
        "# но перед этим данные перемешиваются, поскольку отзывы в \n",
        "# исходном наборе упорядочены (сначала следуют отрицательные, \n",
        "# а потом положительные)\n",
        "indices = np.arange(data.shape[0]) \n",
        "np.random.shuffle(indices)\n",
        "data = data[indices]\n",
        "labels = labels[indices]\n",
        "\n",
        "x_train = data[:training_samples]\n",
        "y_train = labels[:training_samples]\n",
        "x_val = data[training_samples: training_samples + validation_samples]\n",
        "y_val = labels[training_samples: training_samples + validation_samples]"
      ],
      "execution_count": 33,
      "outputs": [
        {
          "output_type": "stream",
          "text": [
            "Found 88582 unique tokens.\n",
            "Shape of data tensor: (25000, 100)\n",
            "Shape of label tensor: (25000,)\n"
          ],
          "name": "stdout"
        }
      ]
    },
    {
      "metadata": {
        "id": "3KjiBmSQy4-p",
        "colab_type": "code",
        "colab": {
          "base_uri": "https://localhost:8080/",
          "height": 134
        },
        "outputId": "214758aa-b4b0-4c08-a9e1-7dc567b76a4b"
      },
      "cell_type": "code",
      "source": [
        "print('len sequences = {}'.format(len(sequences)))\n",
        "print('len sequences[0] = {}'.format(len(sequences[0])))\n",
        "print('len sequences[1] = {}'.format(len(sequences[1])))\n",
        "sequences[0][:10]\n",
        "print('x_train.shape = {}'.format(x_train.shape))\n",
        "print('y_train.shape = {}'.format(y_train.shape))\n",
        "print('x_val.shape = {}'.format(x_val.shape))\n",
        "print('y_val.shape = {}'.format(y_val.shape))"
      ],
      "execution_count": 36,
      "outputs": [
        {
          "output_type": "stream",
          "text": [
            "len sequences = 25000\n",
            "len sequences[0] = 419\n",
            "len sequences[1] = 67\n",
            "x_train.shape = (200, 100)\n",
            "y_train.shape = (200,)\n",
            "x_val.shape = (10000, 100)\n",
            "y_val.shape = (10000,)\n"
          ],
          "name": "stdout"
        }
      ]
    },
    {
      "metadata": {
        "id": "iakBp9sf7ZI-",
        "colab_type": "code",
        "colab": {
          "base_uri": "https://localhost:8080/",
          "height": 269
        },
        "outputId": "92b49e94-4ffe-4d5b-fe28-8e1856f3a002"
      },
      "cell_type": "code",
      "source": [
        "# Загрузка векторного представления GloVe\n",
        "\n",
        "!wget --no-check-certificate \\\n",
        "    http://nlp.stanford.edu/data/glove.6B.zip \\\n",
        "    -O /tmp/glove.6B.zip"
      ],
      "execution_count": 37,
      "outputs": [
        {
          "output_type": "stream",
          "text": [
            "--2019-02-24 10:07:59--  http://nlp.stanford.edu/data/glove.6B.zip\n",
            "Resolving nlp.stanford.edu (nlp.stanford.edu)... 171.64.67.140\n",
            "Connecting to nlp.stanford.edu (nlp.stanford.edu)|171.64.67.140|:80... connected.\n",
            "HTTP request sent, awaiting response... 302 Found\n",
            "Location: https://nlp.stanford.edu/data/glove.6B.zip [following]\n",
            "--2019-02-24 10:07:59--  https://nlp.stanford.edu/data/glove.6B.zip\n",
            "Connecting to nlp.stanford.edu (nlp.stanford.edu)|171.64.67.140|:443... connected.\n",
            "HTTP request sent, awaiting response... 200 OK\n",
            "Length: 862182613 (822M) [application/zip]\n",
            "Saving to: ‘/tmp/glove.6B.zip’\n",
            "\n",
            "/tmp/glove.6B.zip   100%[===================>] 822.24M   103MB/s    in 9.2s    \n",
            "\n",
            "2019-02-24 10:08:08 (89.5 MB/s) - ‘/tmp/glove.6B.zip’ saved [862182613/862182613]\n",
            "\n"
          ],
          "name": "stdout"
        }
      ]
    },
    {
      "metadata": {
        "id": "5Blh-0BU7ZTp",
        "colab_type": "code",
        "colab": {}
      },
      "cell_type": "code",
      "source": [
        "local_zip = '/tmp/glove.6B.zip'\n",
        "zip_ref = zipfile.ZipFile(local_zip, 'r')\n",
        "zip_ref.extractall('/tmp/data_glove/')\n",
        "zip_ref.close()"
      ],
      "execution_count": 0,
      "outputs": []
    },
    {
      "metadata": {
        "id": "eL10LZIM7ZbY",
        "colab_type": "code",
        "colab": {
          "base_uri": "https://localhost:8080/",
          "height": 34
        },
        "outputId": "4b8d9707-1cdc-4a16-c6f9-9cc8b10c51e9"
      },
      "cell_type": "code",
      "source": [
        "# Листинг 6.10. Обработка файла с векторными представлениями слов GloVe\n",
        "glove_dir = '/tmp/data_glove/'\n",
        "\n",
        "embeddings_index = {}\n",
        "\n",
        "f = open(os.path.join(glove_dir, 'glove.6B.100d.txt'))\n",
        "\n",
        "for line in f:\n",
        "  values = line.split()\n",
        "  word = values[0]\n",
        "  coefs = np.asarray(values[1:], dtype='float32')\n",
        "  embeddings_index[word] = coefs\n",
        "f.close()\n",
        "\n",
        "print('Found %s word vectors.' % len(embeddings_index))"
      ],
      "execution_count": 42,
      "outputs": [
        {
          "output_type": "stream",
          "text": [
            "Found 400000 word vectors.\n"
          ],
          "name": "stdout"
        }
      ]
    },
    {
      "metadata": {
        "id": "dd-pW6BKAKB2",
        "colab_type": "code",
        "colab": {
          "base_uri": "https://localhost:8080/",
          "height": 202
        },
        "outputId": "08126c84-5140-476f-8b07-177fb9a69e6e"
      },
      "cell_type": "code",
      "source": [
        "# Посмотрим что получили\n",
        "i=0\n",
        "for s in embeddings_index:\n",
        "  print(s,embeddings_index[s][:2], 'len = ',len(embeddings_index[s]) )\n",
        "  i+=1\n",
        "  if i>10: break"
      ],
      "execution_count": 57,
      "outputs": [
        {
          "output_type": "stream",
          "text": [
            "the [-0.038194 -0.24487 ] len =  100\n",
            ", [-0.10767  0.11053] len =  100\n",
            ". [-0.33979  0.20941] len =  100\n",
            "of [-0.1529  -0.24279] len =  100\n",
            "to [-0.1897    0.050024] len =  100\n",
            "and [-0.071953  0.23127 ] len =  100\n",
            "in [ 0.085703 -0.22201 ] len =  100\n",
            "a [-0.27086   0.044006] len =  100\n",
            "\" [-0.30457 -0.23645] len =  100\n",
            "'s [ 0.58854 -0.2025 ] len =  100\n",
            "for [-0.14401  0.32554] len =  100\n"
          ],
          "name": "stdout"
        }
      ]
    },
    {
      "metadata": {
        "id": "nvTo-XXfHAg2",
        "colab_type": "code",
        "colab": {}
      },
      "cell_type": "code",
      "source": [
        "# Листинг 6.11. Подготовка матрицы векторных представлений слов GloVe\n",
        "embedding_dim = 100\n",
        "\n",
        "embedding_matrix = np.zeros((max_words, embedding_dim))\n",
        "\n",
        "for word, i in word_index.items(): \n",
        "  if i < max_words: \n",
        "    embedding_vector = embeddings_index.get(word) \n",
        "    if embedding_vector is not None: \n",
        "      # Словам, отсутствующим в индексе представлений, \n",
        "      # будут соответствовать векторы с нулевыми зна-чениями\n",
        "      embedding_matrix[i] = embedding_vector "
      ],
      "execution_count": 0,
      "outputs": []
    },
    {
      "metadata": {
        "id": "JRnBqnKWKrXg",
        "colab_type": "code",
        "colab": {
          "base_uri": "https://localhost:8080/",
          "height": 339
        },
        "outputId": "bd277440-1cc8-4835-f82f-dd20275be6cc"
      },
      "cell_type": "code",
      "source": [
        "# Листинг 6.12. Определение модели\n",
        "from keras.models import Sequential\n",
        "from keras.layers import Embedding, Flatten, Dense\n",
        "\n",
        "model = Sequential()\n",
        "\n",
        "model.add(Embedding(max_words, embedding_dim, input_length=maxlen))\n",
        "model.add(Flatten())\n",
        "model.add(Dense(32, activation='relu'))\n",
        "model.add(Dense(1, activation='sigmoid'))\n",
        "model.summary()"
      ],
      "execution_count": 58,
      "outputs": [
        {
          "output_type": "stream",
          "text": [
            "WARNING:tensorflow:From /usr/local/lib/python3.6/dist-packages/tensorflow/python/framework/op_def_library.py:263: colocate_with (from tensorflow.python.framework.ops) is deprecated and will be removed in a future version.\n",
            "Instructions for updating:\n",
            "Colocations handled automatically by placer.\n",
            "_________________________________________________________________\n",
            "Layer (type)                 Output Shape              Param #   \n",
            "=================================================================\n",
            "embedding_1 (Embedding)      (None, 100, 100)          1000000   \n",
            "_________________________________________________________________\n",
            "flatten_1 (Flatten)          (None, 10000)             0         \n",
            "_________________________________________________________________\n",
            "dense_1 (Dense)              (None, 32)                320032    \n",
            "_________________________________________________________________\n",
            "dense_2 (Dense)              (None, 1)                 33        \n",
            "=================================================================\n",
            "Total params: 1,320,065\n",
            "Trainable params: 1,320,065\n",
            "Non-trainable params: 0\n",
            "_________________________________________________________________\n"
          ],
          "name": "stdout"
        }
      ]
    },
    {
      "metadata": {
        "id": "03urTTxeOsdY",
        "colab_type": "code",
        "colab": {}
      },
      "cell_type": "code",
      "source": [
        "# Листинг 6.13. Загрузка предварительно обученных векторных представлений слов в слой Embedding\n",
        "model.layers[0].set_weights([embedding_matrix])\n",
        "model.layers[0].trainable = False"
      ],
      "execution_count": 0,
      "outputs": []
    },
    {
      "metadata": {
        "id": "2U_tTMviQGEL",
        "colab_type": "code",
        "colab": {
          "base_uri": "https://localhost:8080/",
          "height": 34
        },
        "outputId": "473c82d7-89b2-4ee7-a298-fdae7902c962"
      },
      "cell_type": "code",
      "source": [
        "print(x_train[0][:10],len(x_train[0]), len(x_train))"
      ],
      "execution_count": 64,
      "outputs": [
        {
          "output_type": "stream",
          "text": [
            "[6169  523    2  254  106 2102 1307   35   12   31] 100 200\n"
          ],
          "name": "stdout"
        }
      ]
    },
    {
      "metadata": {
        "id": "hXFa-ghZPq2z",
        "colab_type": "code",
        "colab": {
          "base_uri": "https://localhost:8080/",
          "height": 440
        },
        "outputId": "652bb4b0-063d-45ab-85f9-a574ab7476d7"
      },
      "cell_type": "code",
      "source": [
        "# Листинг 6.14. Обучение и оценка\n",
        "model.compile(optimizer='rmsprop',\n",
        "              loss='binary_crossentropy',\n",
        "              metrics=['acc'])\n",
        "\n",
        "history = model.fit(x_train, \n",
        "                    y_train,\n",
        "                    epochs=10,\n",
        "                    batch_size=32,\n",
        "                    validation_data=(x_val, y_val))\n",
        "\n",
        "model.save_weights('pre_trained_glove_model.h5')"
      ],
      "execution_count": 65,
      "outputs": [
        {
          "output_type": "stream",
          "text": [
            "WARNING:tensorflow:From /usr/local/lib/python3.6/dist-packages/tensorflow/python/ops/math_ops.py:3066: to_int32 (from tensorflow.python.ops.math_ops) is deprecated and will be removed in a future version.\n",
            "Instructions for updating:\n",
            "Use tf.cast instead.\n",
            "Train on 200 samples, validate on 10000 samples\n",
            "Epoch 1/10\n",
            "200/200 [==============================] - 1s 5ms/step - loss: 1.8754 - acc: 0.5200 - val_loss: 0.6930 - val_acc: 0.5032\n",
            "Epoch 2/10\n",
            "200/200 [==============================] - 1s 3ms/step - loss: 0.6100 - acc: 0.6500 - val_loss: 0.8479 - val_acc: 0.5026\n",
            "Epoch 3/10\n",
            "200/200 [==============================] - 1s 3ms/step - loss: 0.6029 - acc: 0.7050 - val_loss: 0.7366 - val_acc: 0.5001\n",
            "Epoch 4/10\n",
            "200/200 [==============================] - 1s 3ms/step - loss: 0.5049 - acc: 0.7600 - val_loss: 0.7285 - val_acc: 0.5242\n",
            "Epoch 5/10\n",
            "200/200 [==============================] - 1s 3ms/step - loss: 0.4244 - acc: 0.8200 - val_loss: 0.7143 - val_acc: 0.5203\n",
            "Epoch 6/10\n",
            "200/200 [==============================] - 1s 3ms/step - loss: 0.2619 - acc: 0.9450 - val_loss: 0.9274 - val_acc: 0.5054\n",
            "Epoch 7/10\n",
            "200/200 [==============================] - 1s 3ms/step - loss: 0.3446 - acc: 0.8500 - val_loss: 1.0259 - val_acc: 0.5044\n",
            "Epoch 8/10\n",
            "200/200 [==============================] - 1s 3ms/step - loss: 0.1835 - acc: 0.9550 - val_loss: 0.7764 - val_acc: 0.5470\n",
            "Epoch 9/10\n",
            "200/200 [==============================] - 1s 3ms/step - loss: 0.1087 - acc: 1.0000 - val_loss: 0.7356 - val_acc: 0.5575\n",
            "Epoch 10/10\n",
            "200/200 [==============================] - 0s 2ms/step - loss: 0.0601 - acc: 0.9900 - val_loss: 2.0057 - val_acc: 0.4982\n"
          ],
          "name": "stdout"
        }
      ]
    },
    {
      "metadata": {
        "id": "m2nYVM5_SG54",
        "colab_type": "code",
        "colab": {
          "base_uri": "https://localhost:8080/",
          "height": 706
        },
        "outputId": "bb27e82e-1338-4707-c64d-408da684716e"
      },
      "cell_type": "code",
      "source": [
        "#Формирование графиков изменения потерь и точности в процессе обучения\n",
        "import matplotlib.pyplot as plt\n",
        "\n",
        "acc = history.history['acc']\n",
        "val_acc = history.history['val_acc']\n",
        "loss = history.history['loss']\n",
        "val_loss = history.history['val_loss']\n",
        "\n",
        "epochs = range(1, len(acc) + 1)\n",
        "plt.plot(epochs, acc, 'bo', label='Training acc')\n",
        "plt.plot(epochs, val_acc, 'b', label='Validation acc')\n",
        "plt.title('Training and validation accuracy')\n",
        "plt.legend()\n",
        "\n",
        "plt.figure()\n",
        "plt.plot(epochs, loss, 'bo', label='Training loss')\n",
        "plt.plot(epochs, val_loss, 'b', label='Validation loss')\n",
        "plt.title('Training and validation loss')\n",
        "plt.legend()\n",
        "\n",
        "plt.show()"
      ],
      "execution_count": 66,
      "outputs": [
        {
          "output_type": "display_data",
          "data": {
            "image/png": "[encoded data removed]",
            "text/plain": [
              "<Figure size 576x396 with 1 Axes>"
            ]
          },
          "metadata": {
            "tags": []
          }
        },
        {
          "output_type": "display_data",
          "data": {
            "image/png": "[encoded data removed]",
            "text/plain": [
              "<Figure size 576x396 with 1 Axes>"
            ]
          },
          "metadata": {
            "tags": []
          }
        }
      ]
    },
    {
      "metadata": {
        "id": "zs_jSn_VSG_I",
        "colab_type": "code",
        "colab": {
          "base_uri": "https://localhost:8080/",
          "height": 622
        },
        "outputId": "f3be221f-80f5-484c-9322-1dbb4cbcf106"
      },
      "cell_type": "code",
      "source": [
        "# Листинг 6.16. Обучение той же модели без использования уже обученных\n",
        "# векторных представлений\n",
        "from keras.models import Sequential\n",
        "from keras.layers import Embedding, Flatten, Dense\n",
        "\n",
        "model = Sequential()\n",
        "model.add(Embedding(max_words, embedding_dim, input_length=maxlen))\n",
        "model.add(Flatten())\n",
        "model.add(Dense(32, activation='relu'))\n",
        "model.add(Dense(1, activation='sigmoid'))\n",
        "model.summary()\n",
        "\n",
        "model.compile(optimizer='rmsprop',\n",
        "              loss='binary_crossentropy',\n",
        "              metrics=['acc'])\n",
        "\n",
        "history = model.fit(x_train, \n",
        "                    y_train,epochs=10,\n",
        "                    batch_size=32,\n",
        "                    validation_data=(x_val, y_val))"
      ],
      "execution_count": 67,
      "outputs": [
        {
          "output_type": "stream",
          "text": [
            "_________________________________________________________________\n",
            "Layer (type)                 Output Shape              Param #   \n",
            "=================================================================\n",
            "embedding_2 (Embedding)      (None, 100, 100)          1000000   \n",
            "_________________________________________________________________\n",
            "flatten_2 (Flatten)          (None, 10000)             0         \n",
            "_________________________________________________________________\n",
            "dense_3 (Dense)              (None, 32)                320032    \n",
            "_________________________________________________________________\n",
            "dense_4 (Dense)              (None, 1)                 33        \n",
            "=================================================================\n",
            "Total params: 1,320,065\n",
            "Trainable params: 1,320,065\n",
            "Non-trainable params: 0\n",
            "_________________________________________________________________\n",
            "Train on 200 samples, validate on 10000 samples\n",
            "Epoch 1/10\n",
            "200/200 [==============================] - 1s 5ms/step - loss: 0.6930 - acc: 0.4850 - val_loss: 0.6948 - val_acc: 0.5035\n",
            "Epoch 2/10\n",
            "200/200 [==============================] - 1s 3ms/step - loss: 0.4617 - acc: 1.0000 - val_loss: 0.6943 - val_acc: 0.5150\n",
            "Epoch 3/10\n",
            "200/200 [==============================] - 1s 3ms/step - loss: 0.2335 - acc: 0.9950 - val_loss: 0.7060 - val_acc: 0.5087\n",
            "Epoch 4/10\n",
            "200/200 [==============================] - 1s 3ms/step - loss: 0.0902 - acc: 1.0000 - val_loss: 0.7149 - val_acc: 0.5103\n",
            "Epoch 5/10\n",
            "200/200 [==============================] - 1s 3ms/step - loss: 0.0413 - acc: 1.0000 - val_loss: 0.7175 - val_acc: 0.5119\n",
            "Epoch 6/10\n",
            "200/200 [==============================] - 1s 3ms/step - loss: 0.0218 - acc: 1.0000 - val_loss: 0.7345 - val_acc: 0.5100\n",
            "Epoch 7/10\n",
            "200/200 [==============================] - 1s 3ms/step - loss: 0.0119 - acc: 1.0000 - val_loss: 0.7390 - val_acc: 0.5099\n",
            "Epoch 8/10\n",
            "200/200 [==============================] - 1s 3ms/step - loss: 0.0070 - acc: 1.0000 - val_loss: 0.7446 - val_acc: 0.5104\n",
            "Epoch 9/10\n",
            "200/200 [==============================] - 1s 3ms/step - loss: 0.0043 - acc: 1.0000 - val_loss: 0.7758 - val_acc: 0.5111\n",
            "Epoch 10/10\n",
            "200/200 [==============================] - 1s 3ms/step - loss: 0.0026 - acc: 1.0000 - val_loss: 0.7660 - val_acc: 0.5137\n"
          ],
          "name": "stdout"
        }
      ]
    },
    {
      "metadata": {
        "id": "M8PnoiduSHDY",
        "colab_type": "code",
        "colab": {
          "base_uri": "https://localhost:8080/",
          "height": 706
        },
        "outputId": "e5db1959-3274-4e89-dbb4-2f576fc263ca"
      },
      "cell_type": "code",
      "source": [
        "#Формирование графиков изменения потерь и точности в процессе обучения\n",
        "import matplotlib.pyplot as plt\n",
        "\n",
        "acc = history.history['acc']\n",
        "val_acc = history.history['val_acc']\n",
        "loss = history.history['loss']\n",
        "val_loss = history.history['val_loss']\n",
        "\n",
        "epochs = range(1, len(acc) + 1)\n",
        "plt.plot(epochs, acc, 'bo', label='Training acc')\n",
        "plt.plot(epochs, val_acc, 'b', label='Validation acc')\n",
        "plt.title('Training and validation accuracy')\n",
        "plt.legend()\n",
        "\n",
        "plt.figure()\n",
        "plt.plot(epochs, loss, 'bo', label='Training loss')\n",
        "plt.plot(epochs, val_loss, 'b', label='Validation loss')\n",
        "plt.title('Training and validation loss')\n",
        "plt.legend()\n",
        "\n",
        "plt.show()"
      ],
      "execution_count": 68,
      "outputs": [
        {
          "output_type": "display_data",
          "data": {
            "image/png": "[encoded data removed]",
            "text/plain": [
              "<Figure size 576x396 with 1 Axes>"
            ]
          },
          "metadata": {
            "tags": []
          }
        },
        {
          "output_type": "display_data",
          "data": {
            "image/png": "[encoded data removed]",
            "text/plain": [
              "<Figure size 576x396 with 1 Axes>"
            ]
          },
          "metadata": {
            "tags": []
          }
        }
      ]
    },
    {
      "metadata": {
        "id": "ctTsmXE0SHIE",
        "colab_type": "code",
        "colab": {}
      },
      "cell_type": "code",
      "source": [
        "# Наконец, оценим модель на контрольной выборке."
      ],
      "execution_count": 0,
      "outputs": []
    },
    {
      "metadata": {
        "id": "4zcFR5qSSHNf",
        "colab_type": "code",
        "colab": {}
      },
      "cell_type": "code",
      "source": [
        "# Листинг 6.17. Токенизация данных из контрольной выборки\n",
        "test_dir = os.path.join(imdb_dir, 'test')\n",
        "labels = []\n",
        "texts = []\n",
        "for label_type in ['neg', 'pos']:\n",
        "  dir_name = os.path.join(test_dir, label_type)\n",
        "  for fname in sorted(os.listdir(dir_name)):\n",
        "    if fname[-4:] == '.txt':\n",
        "      f = open(os.path.join(dir_name, fname))\n",
        "      texts.append(f.read())\n",
        "      f.close()\n",
        "      if label_type == 'neg':\n",
        "        labels.append(0)\n",
        "      else:\n",
        "        labels.append(1)\n",
        "        \n",
        "sequences = tokenizer.texts_to_sequences(texts)\n",
        "x_test = pad_sequences(sequences, maxlen=maxlen)\n",
        "y_test = np.asarray(labels)"
      ],
      "execution_count": 0,
      "outputs": []
    },
    {
      "metadata": {
        "id": "dJXCMnIVVuRw",
        "colab_type": "code",
        "colab": {
          "base_uri": "https://localhost:8080/",
          "height": 50
        },
        "outputId": "3fb4ffc9-426b-4563-b202-25d97a7fcc8e"
      },
      "cell_type": "code",
      "source": [
        "# Листинг 6.18. Оценка модели на контрольном наборе данных\n",
        "model.load_weights('pre_trained_glove_model.h5')\n",
        "model.evaluate(x_test, y_test)"
      ],
      "execution_count": 70,
      "outputs": [
        {
          "output_type": "stream",
          "text": [
            "25000/25000 [==============================] - 1s 54us/step\n"
          ],
          "name": "stdout"
        },
        {
          "output_type": "execute_result",
          "data": {
            "text/plain": [
              "[1.9852348167699576, 0.50048]"
            ]
          },
          "metadata": {
            "tags": []
          },
          "execution_count": 70
        }
      ]
    },
    {
      "metadata": {
        "id": "H7c2ygNSv8Jq",
        "colab_type": "text"
      },
      "cell_type": "markdown",
      "source": [
        "### 6.2. Рекуррентные нейронные сети (простой прмер)"
      ]
    },
    {
      "metadata": {
        "id": "n7YoGkxwv9VB",
        "colab_type": "code",
        "colab": {}
      },
      "cell_type": "code",
      "source": [
        "# Листинг 6.21. Реализация сети RNN на основе Numpy\n",
        "import numpy as np\n",
        "\n",
        "timesteps = 100 # Число временных интервалов во входной последовательности\n",
        "input_features = 32 # Размерность пространства входных признаков\n",
        "output_features = 64 # Размерность пространства выходных признаков\n",
        "\n",
        "inputs = np.random.random((timesteps, input_features)) # Входные данные: случайный шум для простоты примера\n",
        "\n",
        "state_t = np.zeros((output_features,)) # Начальное состояние: вектор с нулевыми значениями элементов\n",
        "\n",
        "W = np.random.random((output_features, input_features)) # Создание матриц со случайными весами\n",
        "U = np.random.random((output_features, output_features)) \n",
        "b = np.random.random((output_features,))\n",
        "\n",
        "successive_outputs = []\n",
        "for input_t in inputs: # input_t — вектор с формой (входные_признаки,)\n",
        "    \n",
        "  output_t = np.tanh(np.dot(W, input_t) + np.dot(U, state_t) + b)\n",
        "  # Объединение входных данных с текущим состоянием (выходными данными на предыдущем шаге)\n",
        "    \n",
        "  successive_outputs.append(output_t) # Сохранение выходных данных в список\n",
        "    \n",
        "  state_t = output_t # Обновление текущего состояния сети как подготовка к обработке следующего временного интервала\n",
        "\n",
        "final_output_sequence = np.concatenate(successive_outputs, axis=0)\n",
        "\n"
      ],
      "execution_count": 0,
      "outputs": []
    },
    {
      "metadata": {
        "id": "T6N2rz8jv9d4",
        "colab_type": "code",
        "colab": {
          "base_uri": "https://localhost:8080/",
          "height": 67
        },
        "outputId": "133f36de-2e2f-4aed-cf03-624dd2efd542"
      },
      "cell_type": "code",
      "source": [
        "print(len(successive_outputs))\n",
        "print(len(successive_outputs[0]))\n",
        "final_output_sequence.shape"
      ],
      "execution_count": 74,
      "outputs": [
        {
          "output_type": "stream",
          "text": [
            "100\n",
            "64\n"
          ],
          "name": "stdout"
        },
        {
          "output_type": "execute_result",
          "data": {
            "text/plain": [
              "(6400,)"
            ]
          },
          "metadata": {
            "tags": []
          },
          "execution_count": 74
        }
      ]
    },
    {
      "metadata": {
        "id": "adMfBfJ1XZ5e",
        "colab_type": "text"
      },
      "cell_type": "markdown",
      "source": [
        "### SimpleRNN для обработки отзывоы IMDB"
      ]
    },
    {
      "metadata": {
        "id": "o_2rtcCCXaN4",
        "colab_type": "code",
        "colab": {}
      },
      "cell_type": "code",
      "source": [
        "# Листинг 6.22. Подготовка данных IMDB\n",
        "\n",
        "from keras.datasets import imdb \n",
        "from keras.preprocessing import sequence\n",
        "\n",
        "max_features = 10000 # Количество слов, рассматриваемых как признаки\n",
        "maxlen = 500 # Обрезка текста после этого количества слов (в числе max_features самых распространенных слов)\n",
        "batch_size = 32\n",
        "\n",
        "print('Loading data...')\n",
        "(input_train, y_train), (input_test, y_test) = imdb.load_data(num_words=max_features)\n",
        "\n",
        "print(len(input_train), 'train sequences')\n",
        "print(len(input_test), 'test sequences')\n",
        "print('Pad sequences (samples x time)')\n",
        "input_train = sequence.pad_sequences(input_train, maxlen=maxlen)\n",
        "input_test = sequence.pad_sequences(input_test, maxlen=maxlen)\n",
        "print('input_train shape:', input_train.shape)\n",
        "print('input_test shape:', input_test.shape)"
      ],
      "execution_count": 0,
      "outputs": []
    },
    {
      "metadata": {
        "id": "tfXHjw5pXaRl",
        "colab_type": "code",
        "colab": {
          "base_uri": "https://localhost:8080/",
          "height": 370
        },
        "outputId": "58ab1def-298f-4368-8826-41911b086e35"
      },
      "cell_type": "code",
      "source": [
        "# Листинг 6.23. Обучение модели со слоями Embedding и SimpleRNN\n",
        "\n",
        "from keras.models import Sequential\n",
        "from keras.layers import Embedding, SimpleRNN, Dense\n",
        "\n",
        "model = Sequential()\n",
        "model.add(Embedding(max_features, 32))\n",
        "model.add(SimpleRNN(32))\n",
        "\n",
        "model.add(Dense(1, activation='sigmoid'))\n",
        "\n",
        "model.compile(optimizer='rmsprop', \n",
        "              loss='binary_crossentropy', \n",
        "              metrics=['acc'])\n",
        "\n",
        "history = model.fit(input_train, \n",
        "                    y_train,\n",
        "                    epochs=10,\n",
        "                    batch_size=128,\n",
        "                    validation_split=0.2)"
      ],
      "execution_count": 76,
      "outputs": [
        {
          "output_type": "stream",
          "text": [
            "Train on 20000 samples, validate on 5000 samples\n",
            "Epoch 1/10\n",
            "20000/20000 [==============================] - 19s 926us/step - loss: 0.6398 - acc: 0.6154 - val_loss: 0.4606 - val_acc: 0.8042\n",
            "Epoch 2/10\n",
            "20000/20000 [==============================] - 18s 897us/step - loss: 0.4118 - acc: 0.8242 - val_loss: 0.3777 - val_acc: 0.8440\n",
            "Epoch 3/10\n",
            "20000/20000 [==============================] - 18s 897us/step - loss: 0.2942 - acc: 0.8827 - val_loss: 0.3942 - val_acc: 0.8266\n",
            "Epoch 4/10\n",
            "20000/20000 [==============================] - 18s 922us/step - loss: 0.2237 - acc: 0.9137 - val_loss: 0.3702 - val_acc: 0.8562\n",
            "Epoch 5/10\n",
            "20000/20000 [==============================] - 18s 892us/step - loss: 0.1569 - acc: 0.9436 - val_loss: 0.3973 - val_acc: 0.8572\n",
            "Epoch 6/10\n",
            "20000/20000 [==============================] - 18s 891us/step - loss: 0.2092 - acc: 0.9143 - val_loss: 0.4392 - val_acc: 0.8310\n",
            "Epoch 7/10\n",
            "20000/20000 [==============================] - 18s 897us/step - loss: 0.1036 - acc: 0.9651 - val_loss: 0.5579 - val_acc: 0.8010\n",
            "Epoch 8/10\n",
            "20000/20000 [==============================] - 18s 878us/step - loss: 0.0658 - acc: 0.9796 - val_loss: 0.6107 - val_acc: 0.7880\n",
            "Epoch 9/10\n",
            "20000/20000 [==============================] - 17s 874us/step - loss: 0.0661 - acc: 0.9764 - val_loss: 0.7039 - val_acc: 0.7722\n",
            "Epoch 10/10\n",
            "20000/20000 [==============================] - 18s 879us/step - loss: 0.0677 - acc: 0.9759 - val_loss: 0.6086 - val_acc: 0.8288\n"
          ],
          "name": "stdout"
        }
      ]
    },
    {
      "metadata": {
        "id": "pjly7SvJXaWn",
        "colab_type": "code",
        "colab": {
          "base_uri": "https://localhost:8080/",
          "height": 706
        },
        "outputId": "cf0cda78-8eb8-4e00-a1cb-3fa72ba81bfd"
      },
      "cell_type": "code",
      "source": [
        "#Формирование графиков изменения потерь и точности в процессе обучения\n",
        "import matplotlib.pyplot as plt\n",
        "\n",
        "acc = history.history['acc']\n",
        "val_acc = history.history['val_acc']\n",
        "loss = history.history['loss']\n",
        "val_loss = history.history['val_loss']\n",
        "\n",
        "epochs = range(1, len(acc) + 1)\n",
        "plt.plot(epochs, acc, 'bo', label='Training acc')\n",
        "plt.plot(epochs, val_acc, 'b', label='Validation acc')\n",
        "plt.title('Training and validation accuracy')\n",
        "plt.legend()\n",
        "\n",
        "plt.figure()\n",
        "plt.plot(epochs, loss, 'bo', label='Training loss')\n",
        "plt.plot(epochs, val_loss, 'b', label='Validation loss')\n",
        "plt.title('Training and validation loss')\n",
        "plt.legend()\n",
        "\n",
        "plt.show()"
      ],
      "execution_count": 77,
      "outputs": [
        {
          "output_type": "display_data",
          "data": {
            "image/png": "[encoded data removed]",
            "text/plain": [
              "<Figure size 576x396 with 1 Axes>"
            ]
          },
          "metadata": {
            "tags": []
          }
        },
        {
          "output_type": "display_data",
          "data": {
            "image/png": "[encoded data removed]",
            "text/plain": [
              "<Figure size 576x396 with 1 Axes>"
            ]
          },
          "metadata": {
            "tags": []
          }
        }
      ]
    },
    {
      "metadata": {
        "id": "0kPF6rqQZ_b3",
        "colab_type": "text"
      },
      "cell_type": "markdown",
      "source": [
        "### LSTM для обработки отзывоы IMDB"
      ]
    },
    {
      "metadata": {
        "id": "OqVZomMgXaaC",
        "colab_type": "code",
        "colab": {}
      },
      "cell_type": "code",
      "source": [
        "# Листинг 6.22. Подготовка данных IMDB\n",
        "\n",
        "from keras.datasets import imdb \n",
        "from keras.preprocessing import sequence\n",
        "\n",
        "max_features = 10000 # Количество слов, рассматриваемых как признаки\n",
        "maxlen = 500 # Обрезка текста после этого количества слов (в числе max_features самых распространенных слов)\n",
        "batch_size = 32\n",
        "\n",
        "print('Loading data...')\n",
        "(input_train, y_train), (input_test, y_test) = imdb.load_data(num_words=max_features)\n",
        "\n",
        "print(len(input_train), 'train sequences')\n",
        "print(len(input_test), 'test sequences')\n",
        "print('Pad sequences (samples x time)')\n",
        "input_train = sequence.pad_sequences(input_train, maxlen=maxlen)\n",
        "input_test = sequence.pad_sequences(input_test, maxlen=maxlen)\n",
        "print('input_train shape:', input_train.shape)\n",
        "print('input_test shape:', input_test.shape)"
      ],
      "execution_count": 0,
      "outputs": []
    },
    {
      "metadata": {
        "id": "i6Bs_8MDcCw7",
        "colab_type": "code",
        "colab": {
          "base_uri": "https://localhost:8080/",
          "height": 490
        },
        "outputId": "249cceca-c6f0-49e7-d1ff-d5580f505069"
      },
      "cell_type": "code",
      "source": [
        "# Листинг 6.27. Использование слоя LSTM из Keras\n",
        "from keras.layers import LSTM\n",
        "from keras.models import Sequential\n",
        "from keras.layers import Embedding, SimpleRNN, Dense\n",
        "\n",
        "model = Sequential()\n",
        "model.add(Embedding(max_features, 32))\n",
        "model.add(LSTM(32))\n",
        "model.add(Dense(1, activation='sigmoid'))\n",
        "\n",
        "model.compile(optimizer='rmsprop',\n",
        "              loss='binary_crossentropy',\n",
        "              metrics=['acc'])\n",
        "\n",
        "history = model.fit(input_train, \n",
        "                    y_train,epochs=10,\n",
        "                    batch_size=128,\n",
        "                    validation_split=0.2)\n",
        "\n"
      ],
      "execution_count": 3,
      "outputs": [
        {
          "output_type": "stream",
          "text": [
            "WARNING:tensorflow:From /usr/local/lib/python3.6/dist-packages/tensorflow/python/framework/op_def_library.py:263: colocate_with (from tensorflow.python.framework.ops) is deprecated and will be removed in a future version.\n",
            "Instructions for updating:\n",
            "Colocations handled automatically by placer.\n",
            "WARNING:tensorflow:From /usr/local/lib/python3.6/dist-packages/tensorflow/python/ops/math_ops.py:3066: to_int32 (from tensorflow.python.ops.math_ops) is deprecated and will be removed in a future version.\n",
            "Instructions for updating:\n",
            "Use tf.cast instead.\n",
            "Train on 20000 samples, validate on 5000 samples\n",
            "Epoch 1/10\n",
            "20000/20000 [==============================] - 75s 4ms/step - loss: 0.4982 - acc: 0.7682 - val_loss: 0.3998 - val_acc: 0.8286\n",
            "Epoch 2/10\n",
            "20000/20000 [==============================] - 73s 4ms/step - loss: 0.2974 - acc: 0.8834 - val_loss: 0.3124 - val_acc: 0.8654\n",
            "Epoch 3/10\n",
            "20000/20000 [==============================] - 73s 4ms/step - loss: 0.2395 - acc: 0.9093 - val_loss: 0.2839 - val_acc: 0.8804\n",
            "Epoch 4/10\n",
            "20000/20000 [==============================] - 74s 4ms/step - loss: 0.2016 - acc: 0.9240 - val_loss: 0.3131 - val_acc: 0.8744\n",
            "Epoch 5/10\n",
            "20000/20000 [==============================] - 74s 4ms/step - loss: 0.1739 - acc: 0.9358 - val_loss: 0.3244 - val_acc: 0.8872\n",
            "Epoch 6/10\n",
            "20000/20000 [==============================] - 73s 4ms/step - loss: 0.1617 - acc: 0.9425 - val_loss: 0.3641 - val_acc: 0.8372\n",
            "Epoch 7/10\n",
            "20000/20000 [==============================] - 73s 4ms/step - loss: 0.1411 - acc: 0.9519 - val_loss: 0.3163 - val_acc: 0.8696\n",
            "Epoch 8/10\n",
            "20000/20000 [==============================] - 74s 4ms/step - loss: 0.1312 - acc: 0.9551 - val_loss: 0.4154 - val_acc: 0.8720\n",
            "Epoch 9/10\n",
            "20000/20000 [==============================] - 74s 4ms/step - loss: 0.1261 - acc: 0.9545 - val_loss: 0.3413 - val_acc: 0.8786\n",
            "Epoch 10/10\n",
            "20000/20000 [==============================] - 73s 4ms/step - loss: 0.1090 - acc: 0.9624 - val_loss: 0.4274 - val_acc: 0.8798\n"
          ],
          "name": "stdout"
        }
      ]
    },
    {
      "metadata": {
        "id": "6woxR-_8sZfB",
        "colab_type": "code",
        "colab": {
          "base_uri": "https://localhost:8080/",
          "height": 706
        },
        "outputId": "a4c29181-6a84-401a-a835-7ffa8985b880"
      },
      "cell_type": "code",
      "source": [
        "#Формирование графиков изменения потерь и точности в процессе обучения\n",
        "import matplotlib.pyplot as plt\n",
        "\n",
        "acc = history.history['acc']\n",
        "val_acc = history.history['val_acc']\n",
        "loss = history.history['loss']\n",
        "val_loss = history.history['val_loss']\n",
        "\n",
        "epochs = range(1, len(acc) + 1)\n",
        "plt.plot(epochs, acc, 'bo', label='Training acc')\n",
        "plt.plot(epochs, val_acc, 'b', label='Validation acc')\n",
        "plt.title('Training and validation accuracy')\n",
        "plt.legend()\n",
        "\n",
        "plt.figure()\n",
        "plt.plot(epochs, loss, 'bo', label='Training loss')\n",
        "plt.plot(epochs, val_loss, 'b', label='Validation loss')\n",
        "plt.title('Training and validation loss')\n",
        "plt.legend()\n",
        "\n",
        "plt.show()"
      ],
      "execution_count": 4,
      "outputs": [
        {
          "output_type": "display_data",
          "data": {
            "image/png": "[encoded data removed]",
            "text/plain": [
              "<Figure size 576x396 with 1 Axes>"
            ]
          },
          "metadata": {
            "tags": []
          }
        },
        {
          "output_type": "display_data",
          "data": {
            "image/png": "[encoded data removed]",
            "text/plain": [
              "<Figure size 576x396 with 1 Axes>"
            ]
          },
          "metadata": {
            "tags": []
          }
        }
      ]
    },
    {
      "metadata": {
        "id": "Xf0rdr7avIu1",
        "colab_type": "text"
      },
      "cell_type": "markdown",
      "source": [
        "### Предсказания погоды\n",
        "\n"
      ]
    },
    {
      "metadata": {
        "id": "-9hpPRfGvHo9",
        "colab_type": "code",
        "colab": {}
      },
      "cell_type": "code",
      "source": [
        "!wget --no-check-certificate \\\n",
        "    https://s3.amazonaws.com/keras-datasets/jena_climate_2009_2016.csv.zip \\\n",
        "    -O /tmp/jena_climate_2009_2016.csv.zip"
      ],
      "execution_count": 0,
      "outputs": []
    },
    {
      "metadata": {
        "id": "8gAdRI1KscP6",
        "colab_type": "code",
        "colab": {}
      },
      "cell_type": "code",
      "source": [
        "import os\n",
        "import zipfile\n",
        "\n",
        "local_zip = '/tmp/jena_climate_2009_2016.csv.zip'\n",
        "zip_ref = zipfile.ZipFile(local_zip, 'r')\n",
        "zip_ref.extractall('/tmp/data_jena_climate/')\n",
        "zip_ref.close()"
      ],
      "execution_count": 0,
      "outputs": []
    },
    {
      "metadata": {
        "id": "Ux6REyP8scWg",
        "colab_type": "code",
        "colab": {}
      },
      "cell_type": "code",
      "source": [
        "#Листинг 6.28. Обзор набора метеорологических данных Jena\n",
        "\n",
        "import os\n",
        "\n",
        "# tmp/data_jena_climate/jena_climate_2009_2016.csv\n",
        "data_dir = '/tmp/data_jena_climate/'\n",
        "fname = os.path.join(data_dir, 'jena_climate_2009_2016.csv')\n",
        "\n",
        "f = open(fname)\n",
        "data = f.read()\n",
        "f.close()\n",
        "\n",
        "lines = data.split('\\n')\n",
        "header = lines[0].split(',')\n",
        "lines = lines[1:]\n",
        "print(header)\n",
        "\n",
        "header = lines[1].split(',')\n",
        "lines = lines[1:]\n",
        "print(header)\n",
        "\n",
        "print(len(lines))"
      ],
      "execution_count": 0,
      "outputs": []
    },
    {
      "metadata": {
        "id": "Bww2di9LkBA_",
        "colab_type": "code",
        "colab": {}
      },
      "cell_type": "code",
      "source": [
        ""
      ],
      "execution_count": 0,
      "outputs": []
    },
    {
      "metadata": {
        "id": "DDM2liUdseN5",
        "colab_type": "code",
        "colab": {}
      },
      "cell_type": "code",
      "source": [
        "# Теперь преобразуем все 420 551 строку с данными в массив Numpy.\n",
        "# Листинг 6.29. Преобразование данных\n",
        "import numpy as np\n",
        "\n",
        "float_data = np.zeros((len(lines), len(header) - 1))\n",
        "for i, line in enumerate(lines):\n",
        "  values = [float(x) for x in line.split(',')[1:]]\n",
        "  float_data[i, :] = values"
      ],
      "execution_count": 0,
      "outputs": []
    },
    {
      "metadata": {
        "id": "q0aByHW8seWj",
        "colab_type": "code",
        "colab": {
          "base_uri": "https://localhost:8080/",
          "height": 366
        },
        "outputId": "117d720a-864b-470f-d341-b96bc4e6d372"
      },
      "cell_type": "code",
      "source": [
        "# Листинг 6.30. Создание графика изменения температуры\n",
        "from matplotlib import pyplot as plt\n",
        "\n",
        "temp = float_data[:, 1] # температура (в градусах Цельсия)\n",
        "plt.plot(range(len(temp)), temp)"
      ],
      "execution_count": 11,
      "outputs": [
        {
          "output_type": "execute_result",
          "data": {
            "text/plain": [
              "[<matplotlib.lines.Line2D at 0x7fe134898588>]"
            ]
          },
          "metadata": {
            "tags": []
          },
          "execution_count": 11
        },
        {
          "output_type": "display_data",
          "data": {
            "image/png": "[encoded data removed]",
            "text/plain": [
              "<Figure size 576x396 with 1 Axes>"
            ]
          },
          "metadata": {
            "tags": []
          }
        }
      ]
    },
    {
      "metadata": {
        "id": "pSkl0_iyseau",
        "colab_type": "code",
        "colab": {
          "base_uri": "https://localhost:8080/",
          "height": 364
        },
        "outputId": "13a533c7-5b13-4aa5-e4fe-caff83e60abf"
      },
      "cell_type": "code",
      "source": [
        "# Листинг 6.31. Создание графика изменения температуры по данным за первые 10 дней\n",
        "plt.plot(range(1440), temp[:1440])"
      ],
      "execution_count": 12,
      "outputs": [
        {
          "output_type": "execute_result",
          "data": {
            "text/plain": [
              "[<matplotlib.lines.Line2D at 0x7fe1349094e0>]"
            ]
          },
          "metadata": {
            "tags": []
          },
          "execution_count": 12
        },
        {
          "output_type": "display_data",
          "data": {
            "image/png": "[encoded data removed]",
            "text/plain": [
              "<Figure size 576x396 with 1 Axes>"
            ]
          },
          "metadata": {
            "tags": []
          }
        }
      ]
    },
    {
      "metadata": {
        "id": "ECVVQEiIscTv",
        "colab_type": "code",
        "colab": {}
      },
      "cell_type": "code",
      "source": [
        "# Листинг 6.32. Нормализация данных\n",
        "mean = float_data[:200000].mean(axis=0)\n",
        "float_data -= mean\n",
        "std = float_data[:200000].std(axis=0)\n",
        "float_data /= std"
      ],
      "execution_count": 0,
      "outputs": []
    },
    {
      "metadata": {
        "id": "Ec404f39IrbP",
        "colab_type": "code",
        "colab": {}
      },
      "cell_type": "code",
      "source": [
        "# Листинг 6.33. Функция-генератор, возвращающая временные последовательности образцов и их целей\n",
        "\n",
        "def generator(data, # исходный массив вещественных чисел, нормализованных кодом в листинге\n",
        "              lookback, # количество интервалов в прошлом от заданного момента, за которое отбираются входные данные;\n",
        "              delay, # количество интервалов в будущем от заданного момента, за которое отбираются целевые данные;\n",
        "              min_index, # индексы в массиве data, \n",
        "              # ограничивающие область для извлечения данных; \n",
        "              # это помогает оставить в неприкосновенности сегменты проверочных и контрольных данных;\n",
        "              max_index, \n",
        "              shuffle=False, # с перемешиванием или в хронологическом порядке;\n",
        "              batch_size=128, # количество образцов в пакете;\n",
        "              step=6 # период в интервалах, из которого извлекается один образец;\n",
        "             ):\n",
        "\n",
        "  if max_index is None:\n",
        "    max_index = len(data) - delay - 1\n",
        "  \n",
        "  i = min_index + lookback\n",
        "\n",
        "  while 1:\n",
        "    if shuffle:\n",
        "      rows = np.random.randint(min_index + lookback, max_index, size=batch_size)\n",
        "    else:\n",
        "      if i + batch_size >= max_index:\n",
        "        i = min_index + lookback\n",
        "        \n",
        "      rows = np.arange(i, min(i + batch_size, max_index))\n",
        "      i += len(rows)\n",
        "      \n",
        "    samples = np.zeros((len(rows),lookback // step,data.shape[-1]))\n",
        "    targets = np.zeros((len(rows),))\n",
        "  \n",
        "    for j, row in enumerate(rows):\n",
        "      indices = range(rows[j] - lookback, rows[j], step)\n",
        "      samples[j] = data[indices]\n",
        "      targets[j] = data[rows[j] + delay][1]\n",
        "    yield samples, targets"
      ],
      "execution_count": 0,
      "outputs": []
    },
    {
      "metadata": {
        "id": "J6bsil0IIret",
        "colab_type": "code",
        "colab": {}
      },
      "cell_type": "code",
      "source": [
        "# Листинг 6.34. Функции-генераторы, возвращающие обучающие, проверочные и контрольные данные\n",
        "\n",
        "lookback = 1440\n",
        "step = 6\n",
        "delay = 144\n",
        "batch_size = 128\n",
        "\n",
        "train_gen = generator(float_data,\n",
        "                      lookback=lookback,\n",
        "                      delay=delay,\n",
        "                      min_index=0,\n",
        "                      max_index=200000,\n",
        "                      shuffle=True,\n",
        "                      step=step, \n",
        "                      batch_size=batch_size)\n",
        "\n",
        "val_gen = generator(float_data,\n",
        "                    lookback=lookback,\n",
        "                    delay=delay,\n",
        "                    min_index=200001,\n",
        "                    max_index=300000,\n",
        "                    step=step,\n",
        "                    batch_size=batch_size)\n",
        "\n",
        "test_gen = generator(float_data,\n",
        "                     lookback=lookback,\n",
        "                     delay=delay,\n",
        "                     min_index=300001,\n",
        "                     max_index=None,\n",
        "                     step=step,\n",
        "                     batch_size=batch_size)\n",
        "\n",
        "#Сколько раз нужно обратиться к val_gen, \n",
        "#чтобы получить проверочный набор данных целиком\n",
        "val_steps = (300000 - 200001 - lookback) // batch_size\n",
        "\n",
        "# Сколько раз нужно обратиться к test_gen, \n",
        "# чтобы получить контрольный набор данных целиком\n",
        "test_steps = (len(float_data) - 300001 - lookback) // batch_size"
      ],
      "execution_count": 0,
      "outputs": []
    },
    {
      "metadata": {
        "id": "VHurLzjAd-7o",
        "colab_type": "code",
        "colab": {
          "base_uri": "https://localhost:8080/",
          "height": 151
        },
        "outputId": "06f27e60-25ac-4e51-b826-d04e0c03a02e"
      },
      "cell_type": "code",
      "source": [
        "i=0\n",
        "for s, tg in train_gen:\n",
        "  print(s.shape,tg.shape)\n",
        "  \n",
        "  i+=1\n",
        "  if i>=5:\n",
        "    break\n",
        "print(t[0][0][0])\n",
        "\n",
        "# 128 - batch_size\n",
        "# 240 - lookback = 1440 / step =6"
      ],
      "execution_count": 39,
      "outputs": [
        {
          "output_type": "stream",
          "text": [
            "(128, 240, 14) (128,)\n",
            "(128, 240, 14) (128,)\n",
            "(128, 240, 14) (128,)\n",
            "(128, 240, 14) (128,)\n",
            "(128, 240, 14) (128,)\n",
            "[-0.11159321  1.3242194   1.32172086 -0.25098869 -2.70778991  1.46011603\n",
            " -0.45186242  2.71139443 -0.45212666 -0.45041895 -1.17805742  1.76941441\n",
            "  1.19728974  0.39581674]\n"
          ],
          "name": "stdout"
        }
      ]
    },
    {
      "metadata": {
        "id": "ipI5jM84NRIn",
        "colab_type": "code",
        "colab": {
          "base_uri": "https://localhost:8080/",
          "height": 34
        },
        "outputId": "eabc6da7-0413-4a64-e644-80f5ad8ff2d8"
      },
      "cell_type": "code",
      "source": [
        "# Листинг 6.35. Оценка базового решения MAE\n",
        "def evaluate_naive_method():\n",
        "  batch_maes = []\n",
        "  for step in range(val_steps):\n",
        "    samples, targets = next(val_gen)\n",
        "    preds = samples[:, -1, 1]\n",
        "    mae = np.mean(np.abs(preds - targets))\n",
        "    batch_maes.append(mae)\n",
        "  print(np.mean(batch_maes))\n",
        "  \n",
        "evaluate_naive_method()"
      ],
      "execution_count": 16,
      "outputs": [
        {
          "output_type": "stream",
          "text": [
            "0.2897359729905486\n"
          ],
          "name": "stdout"
        }
      ]
    },
    {
      "metadata": {
        "id": "MvHi6tOONRM9",
        "colab_type": "code",
        "colab": {}
      },
      "cell_type": "code",
      "source": [
        "# Листинг 6.37. Обучение и оценка полносвязной модели\n",
        "from keras.models import Sequential\n",
        "from keras import layers\n",
        "from keras.optimizers import RMSprop\n",
        "\n",
        "model = Sequential()\n",
        "model.add(layers.Flatten(input_shape=(lookback // step, float_data.shape[-1])))\n",
        "model.add(layers.Dense(32, activation='relu'))\n",
        "model.add(layers.Dense(1))\n",
        "\n",
        "model.compile(optimizer=RMSprop(), loss='mae')\n",
        "history = model.fit_generator(train_gen,\n",
        "                              steps_per_epoch=500,\n",
        "                              epochs=20,\n",
        "                              validation_data=val_gen,\n",
        "                              validation_steps=val_steps)"
      ],
      "execution_count": 0,
      "outputs": []
    },
    {
      "metadata": {
        "id": "oVXXObSfojGS",
        "colab_type": "code",
        "colab": {
          "base_uri": "https://localhost:8080/",
          "height": 235
        },
        "outputId": "f4e1af6e-1ff1-4083-f16c-2f2b625cd614"
      },
      "cell_type": "code",
      "source": [
        "model.summary()"
      ],
      "execution_count": 40,
      "outputs": [
        {
          "output_type": "stream",
          "text": [
            "_________________________________________________________________\n",
            "Layer (type)                 Output Shape              Param #   \n",
            "=================================================================\n",
            "flatten_1 (Flatten)          (None, 3360)              0         \n",
            "_________________________________________________________________\n",
            "dense_2 (Dense)              (None, 32)                107552    \n",
            "_________________________________________________________________\n",
            "dense_3 (Dense)              (None, 1)                 33        \n",
            "=================================================================\n",
            "Total params: 107,585\n",
            "Trainable params: 107,585\n",
            "Non-trainable params: 0\n",
            "_________________________________________________________________\n"
          ],
          "name": "stdout"
        }
      ]
    },
    {
      "metadata": {
        "id": "LO-mSwlxNRQq",
        "colab_type": "code",
        "colab": {
          "base_uri": "https://localhost:8080/",
          "height": 362
        },
        "outputId": "e31f79b2-9a35-4465-f78d-644c202587d4"
      },
      "cell_type": "code",
      "source": [
        "import matplotlib.pyplot as plt\n",
        "\n",
        "loss = history.history['loss']\n",
        "val_loss = history.history['val_loss']\n",
        "\n",
        "epochs = range(len(loss))\n",
        "\n",
        "plt.figure()\n",
        "\n",
        "plt.plot(epochs, loss, 'bo', label='Training loss')\n",
        "plt.plot(epochs, val_loss, 'b', label='Validation loss')\n",
        "plt.title('Training and validation loss')\n",
        "plt.legend()\n",
        "\n",
        "plt.show()"
      ],
      "execution_count": 18,
      "outputs": [
        {
          "output_type": "display_data",
          "data": {
            "image/png": "[encoded data removed]",
            "text/plain": [
              "<Figure size 576x396 with 1 Axes>"
            ]
          },
          "metadata": {
            "tags": []
          }
        }
      ]
    },
    {
      "metadata": {
        "id": "i_NH207LIrig",
        "colab_type": "code",
        "colab": {
          "base_uri": "https://localhost:8080/",
          "height": 689
        },
        "outputId": "3389984f-18fa-41de-b5c6-1b2c20b877ab"
      },
      "cell_type": "code",
      "source": [
        "# Листинг 6.39. Обучение и оценка модели на основе GRU\n",
        "\n",
        "from keras.models import Sequential\n",
        "from keras import layers\n",
        "from keras.optimizers import RMSprop\n",
        "\n",
        "model = Sequential()\n",
        "model.add(layers.GRU(32, input_shape=(None, float_data.shape[-1])))\n",
        "model.add(layers.Dense(1))\n",
        "\n",
        "model.compile(optimizer=RMSprop(), loss='mae')\n",
        "history = model.fit_generator(train_gen,\n",
        "                              steps_per_epoch=500,\n",
        "                              epochs=20,\n",
        "                              validation_data=val_gen,\n",
        "                              validation_steps=val_steps)"
      ],
      "execution_count": 41,
      "outputs": [
        {
          "output_type": "stream",
          "text": [
            "Epoch 1/20\n",
            "500/500 [==============================] - 107s 213ms/step - loss: 0.3039 - val_loss: 0.2749\n",
            "Epoch 2/20\n",
            "500/500 [==============================] - 106s 211ms/step - loss: 0.2838 - val_loss: 0.2699\n",
            "Epoch 3/20\n",
            "500/500 [==============================] - 106s 211ms/step - loss: 0.2771 - val_loss: 0.2729\n",
            "Epoch 4/20\n",
            "500/500 [==============================] - 105s 210ms/step - loss: 0.2713 - val_loss: 0.2774\n",
            "Epoch 5/20\n",
            "500/500 [==============================] - 105s 210ms/step - loss: 0.2680 - val_loss: 0.2846\n",
            "Epoch 6/20\n",
            "500/500 [==============================] - 106s 211ms/step - loss: 0.2643 - val_loss: 0.2720\n",
            "Epoch 7/20\n",
            "500/500 [==============================] - 105s 210ms/step - loss: 0.2587 - val_loss: 0.2707\n",
            "Epoch 8/20\n",
            "500/500 [==============================] - 105s 210ms/step - loss: 0.2530 - val_loss: 0.2713\n",
            "Epoch 9/20\n",
            "500/500 [==============================] - 105s 211ms/step - loss: 0.2484 - val_loss: 0.2834\n",
            "Epoch 10/20\n",
            "500/500 [==============================] - 105s 209ms/step - loss: 0.2445 - val_loss: 0.2877\n",
            "Epoch 11/20\n",
            "500/500 [==============================] - 105s 211ms/step - loss: 0.2406 - val_loss: 0.2784\n",
            "Epoch 12/20\n",
            "500/500 [==============================] - 105s 211ms/step - loss: 0.2340 - val_loss: 0.2823\n",
            "Epoch 13/20\n",
            "500/500 [==============================] - 105s 209ms/step - loss: 0.2335 - val_loss: 0.2861\n",
            "Epoch 14/20\n",
            "500/500 [==============================] - 105s 211ms/step - loss: 0.2293 - val_loss: 0.2856\n",
            "Epoch 15/20\n",
            "500/500 [==============================] - 105s 211ms/step - loss: 0.2240 - val_loss: 0.2822\n",
            "Epoch 16/20\n",
            "500/500 [==============================] - 105s 209ms/step - loss: 0.2213 - val_loss: 0.2862\n",
            "Epoch 17/20\n",
            "500/500 [==============================] - 105s 209ms/step - loss: 0.2169 - val_loss: 0.2859\n",
            "Epoch 18/20\n",
            "500/500 [==============================] - 105s 210ms/step - loss: 0.2155 - val_loss: 0.2912\n",
            "Epoch 19/20\n",
            "500/500 [==============================] - 105s 211ms/step - loss: 0.2123 - val_loss: 0.2919\n",
            "Epoch 20/20\n",
            "500/500 [==============================] - 105s 210ms/step - loss: 0.2094 - val_loss: 0.2901\n"
          ],
          "name": "stdout"
        }
      ]
    },
    {
      "metadata": {
        "id": "Kht7NidsDHXQ",
        "colab_type": "code",
        "colab": {
          "base_uri": "https://localhost:8080/",
          "height": 362
        },
        "outputId": "c6cc8b8f-eb52-4b30-f2bb-736bb1a382cd"
      },
      "cell_type": "code",
      "source": [
        "import matplotlib.pyplot as plt\n",
        "\n",
        "loss = history.history['loss']\n",
        "val_loss = history.history['val_loss']\n",
        "\n",
        "epochs = range(len(loss))\n",
        "\n",
        "plt.figure()\n",
        "\n",
        "plt.plot(epochs, loss, 'bo', label='Training loss')\n",
        "plt.plot(epochs, val_loss, 'b', label='Validation loss')\n",
        "plt.title('Training and validation loss')\n",
        "plt.legend()\n",
        "\n",
        "plt.show()"
      ],
      "execution_count": 42,
      "outputs": [
        {
          "output_type": "display_data",
          "data": {
            "image/png": "[encoded data removed]",
            "text/plain": [
              "<Figure size 576x396 with 1 Axes>"
            ]
          },
          "metadata": {
            "tags": []
          }
        }
      ]
    },
    {
      "metadata": {
        "id": "iB1lZC2ZDHdb",
        "colab_type": "code",
        "colab": {
          "base_uri": "https://localhost:8080/",
          "height": 994
        },
        "outputId": "baf347f6-f18c-4f3f-c603-88b45e0983f2"
      },
      "cell_type": "code",
      "source": [
        "# Листинг 6.40. Обучение и оценка модели на основе GRU\n",
        "# с регуляризацией прореживанием\n",
        "\n",
        "from keras.models import Sequential\n",
        "from keras import layers\n",
        "from keras.optimizers import RMSprop\n",
        "\n",
        "model = Sequential()\n",
        "model.add(layers.GRU(32,\n",
        "                     dropout=0.2,\n",
        "                     recurrent_dropout=0.2,\n",
        "                     input_shape=(None, float_data.shape[-1])))\n",
        "model.add(layers.Dense(1))\n",
        "\n",
        "model.compile(optimizer=RMSprop(), loss='mae')\n",
        "history = model.fit_generator(train_gen,\n",
        "                              steps_per_epoch=500,\n",
        "                              epochs=40,\n",
        "                              validation_data=val_gen,\n",
        "                              validation_steps=val_steps)\n"
      ],
      "execution_count": 0,
      "outputs": [
        {
          "output_type": "stream",
          "text": [
            "WARNING:tensorflow:From /usr/local/lib/python3.6/dist-packages/keras/backend/tensorflow_backend.py:3445: calling dropout (from tensorflow.python.ops.nn_ops) with keep_prob is deprecated and will be removed in a future version.\n",
            "Instructions for updating:\n",
            "Please use `rate` instead of `keep_prob`. Rate should be set to `rate = 1 - keep_prob`.\n",
            "Epoch 1/40\n",
            "500/500 [==============================] - 122s 244ms/step - loss: 0.3344 - val_loss: 0.2740\n",
            "Epoch 2/40\n",
            "500/500 [==============================] - 120s 241ms/step - loss: 0.3150 - val_loss: 0.2748\n",
            "Epoch 3/40\n",
            "500/500 [==============================] - 120s 240ms/step - loss: 0.3090 - val_loss: 0.2749\n",
            "Epoch 4/40\n",
            "500/500 [==============================] - 120s 240ms/step - loss: 0.3043 - val_loss: 0.2688\n",
            "Epoch 5/40\n",
            "500/500 [==============================] - 120s 241ms/step - loss: 0.3007 - val_loss: 0.2699\n",
            "Epoch 6/40\n",
            "500/500 [==============================] - 121s 242ms/step - loss: 0.2999 - val_loss: 0.2664\n",
            "Epoch 7/40\n",
            "500/500 [==============================] - 120s 241ms/step - loss: 0.2954 - val_loss: 0.2695\n",
            "Epoch 8/40\n",
            "500/500 [==============================] - 120s 240ms/step - loss: 0.2936 - val_loss: 0.2669\n",
            "Epoch 9/40\n",
            "500/500 [==============================] - 120s 240ms/step - loss: 0.2923 - val_loss: 0.2685\n",
            "Epoch 10/40\n",
            "500/500 [==============================] - 120s 241ms/step - loss: 0.2901 - val_loss: 0.2639\n",
            "Epoch 11/40\n",
            "500/500 [==============================] - 121s 242ms/step - loss: 0.2881 - val_loss: 0.2645\n",
            "Epoch 12/40\n",
            "500/500 [==============================] - 120s 240ms/step - loss: 0.2877 - val_loss: 0.2659\n",
            "Epoch 13/40\n",
            "500/500 [==============================] - 121s 241ms/step - loss: 0.2879 - val_loss: 0.2666\n",
            "Epoch 14/40\n",
            "500/500 [==============================] - 121s 241ms/step - loss: 0.2859 - val_loss: 0.2645\n",
            "Epoch 15/40\n",
            "500/500 [==============================] - 120s 241ms/step - loss: 0.2863 - val_loss: 0.2650\n",
            "Epoch 16/40\n",
            "500/500 [==============================] - 121s 242ms/step - loss: 0.2830 - val_loss: 0.2634\n",
            "Epoch 17/40\n",
            "500/500 [==============================] - 121s 241ms/step - loss: 0.2834 - val_loss: 0.2647\n",
            "Epoch 18/40\n",
            "500/500 [==============================] - 121s 241ms/step - loss: 0.2837 - val_loss: 0.2649\n",
            "Epoch 19/40\n",
            "500/500 [==============================] - 121s 242ms/step - loss: 0.2814 - val_loss: 0.2674\n",
            "Epoch 20/40\n",
            "500/500 [==============================] - 121s 242ms/step - loss: 0.2821 - val_loss: 0.2621\n",
            "Epoch 21/40\n",
            "500/500 [==============================] - 120s 241ms/step - loss: 0.2816 - val_loss: 0.2728\n",
            "Epoch 22/40\n",
            "500/500 [==============================] - 121s 242ms/step - loss: 0.2791 - val_loss: 0.2626\n",
            "Epoch 23/40\n",
            "500/500 [==============================] - 121s 241ms/step - loss: 0.2796 - val_loss: 0.2651\n",
            "Epoch 24/40\n",
            "500/500 [==============================] - 121s 242ms/step - loss: 0.2789 - val_loss: 0.2645\n",
            "Epoch 25/40\n",
            "500/500 [==============================] - 121s 242ms/step - loss: 0.2782 - val_loss: 0.2639\n",
            "Epoch 26/40\n",
            "500/500 [==============================] - 121s 242ms/step - loss: 0.2771 - val_loss: 0.2744\n",
            "Epoch 27/40\n",
            "499/500 [============================>.] - ETA: 0s - loss: 0.2767"
          ],
          "name": "stdout"
        }
      ]
    },
    {
      "metadata": {
        "id": "6DXByCwPDHjh",
        "colab_type": "code",
        "colab": {}
      },
      "cell_type": "code",
      "source": [
        "# Листинг 6.41. Обучение и оценка модели с несколькими слоями GRU\n",
        "# и с регуляризацией прореживанием\n",
        "\n",
        "from keras.models import Sequential\n",
        "from keras import layers\n",
        "from keras.optimizers import RMSprop\n",
        "\n",
        "model = Sequential()\n",
        "model.add(layers.GRU(32,\n",
        "                     dropout=0.1,\n",
        "                     recurrent_dropout=0.5,\n",
        "                     return_sequences=True,\n",
        "                     input_shape=(None, float_data.shape[-1])))\n",
        "\n",
        "model.add(layers.GRU(64, activation='relu',\n",
        "                     dropout=0.1, \n",
        "                     recurrent_dropout=0.5))\n",
        "\n",
        "model.add(layers.Dense(1))\n",
        "\n",
        "model.compile(optimizer=RMSprop(), loss='mae')\n",
        "history = model.fit_generator(train_gen,\n",
        "                              steps_per_epoch=500,\n",
        "                              epochs=40,\n",
        "                              validation_data=val_gen,\n",
        "                              validation_steps=val_steps)"
      ],
      "execution_count": 0,
      "outputs": []
    },
    {
      "metadata": {
        "id": "8UZlQPyNDHhF",
        "colab_type": "code",
        "colab": {}
      },
      "cell_type": "code",
      "source": [
        "# Листинг 6.42. Обучение и оценка LSTM на обращенных последовательностях\n",
        "\n",
        "from keras.datasets import imdb\n",
        "from keras.preprocessing import sequence\n",
        "from keras import layers\n",
        "from keras.models import Sequential\n",
        "\n",
        "# Number of words to consider as features\n",
        "max_features = 10000\n",
        "# Cut texts after this number of words (among top max_features most common words)\n",
        "maxlen = 500\n",
        "\n",
        "# Load data\n",
        "(x_train, y_train), (x_test, y_test) = imdb.load_data(num_words=max_features)\n",
        "\n",
        "# Reverse sequences\n",
        "x_train = [x[::-1] for x in x_train]\n",
        "x_test = [x[::-1] for x in x_test]\n",
        "\n",
        "# Pad sequences\n",
        "x_train = sequence.pad_sequences(x_train, maxlen=maxlen)\n",
        "x_test = sequence.pad_sequences(x_test, maxlen=maxlen)\n",
        "\n",
        "model = Sequential()\n",
        "model.add(layers.Embedding(max_features, 128))\n",
        "model.add(layers.LSTM(32))\n",
        "model.add(layers.Dense(1, activation='sigmoid'))\n",
        "\n",
        "model.compile(optimizer='rmsprop',\n",
        "              loss='binary_crossentropy',\n",
        "              metrics=['acc'])\n",
        "history = model.fit(x_train, y_train,\n",
        "                    epochs=10,\n",
        "                    batch_size=128,\n",
        "                    validation_split=0.2)"
      ],
      "execution_count": 0,
      "outputs": []
    },
    {
      "metadata": {
        "id": "usBRoQmzFZGK",
        "colab_type": "code",
        "colab": {
          "base_uri": "https://localhost:8080/",
          "height": 370
        },
        "outputId": "20d107ab-028a-4a3a-a1af-48238b756beb"
      },
      "cell_type": "code",
      "source": [
        "# Листинг 6.43. Обучение и оценка двунаправленной модели LSTM\n",
        "\n",
        "model = Sequential()\n",
        "model.add(layers.Embedding(max_features, 32))\n",
        "model.add(layers.Bidirectional(layers.LSTM(32)))\n",
        "model.add(layers.Dense(1, activation='sigmoid'))\n",
        "\n",
        "model.compile(optimizer='rmsprop', loss='binary_crossentropy', metrics=['acc'])\n",
        "history = model.fit(x_train, \n",
        "                    y_train, \n",
        "                    epochs=10, \n",
        "                    batch_size=128, \n",
        "                    validation_split=0.2\n",
        "                   )"
      ],
      "execution_count": 6,
      "outputs": [
        {
          "output_type": "stream",
          "text": [
            "Train on 20000 samples, validate on 5000 samples\n",
            "Epoch 1/10\n",
            "20000/20000 [==============================] - 149s 7ms/step - loss: 0.6096 - acc: 0.6762 - val_loss: 0.5640 - val_acc: 0.7260\n",
            "Epoch 2/10\n",
            "20000/20000 [==============================] - 151s 8ms/step - loss: 0.3813 - acc: 0.8457 - val_loss: 0.3557 - val_acc: 0.8532\n",
            "Epoch 3/10\n",
            "20000/20000 [==============================] - 151s 8ms/step - loss: 0.2811 - acc: 0.8926 - val_loss: 0.3065 - val_acc: 0.8824\n",
            "Epoch 4/10\n",
            "20000/20000 [==============================] - 151s 8ms/step - loss: 0.2384 - acc: 0.9140 - val_loss: 0.5600 - val_acc: 0.7804\n",
            "Epoch 5/10\n",
            "20000/20000 [==============================] - 151s 8ms/step - loss: 0.2098 - acc: 0.9244 - val_loss: 0.3476 - val_acc: 0.8808\n",
            "Epoch 6/10\n",
            "20000/20000 [==============================] - 151s 8ms/step - loss: 0.1894 - acc: 0.9335 - val_loss: 0.5000 - val_acc: 0.8470\n",
            "Epoch 7/10\n",
            "20000/20000 [==============================] - 152s 8ms/step - loss: 0.1721 - acc: 0.9405 - val_loss: 0.3491 - val_acc: 0.8632\n",
            "Epoch 8/10\n",
            "20000/20000 [==============================] - 151s 8ms/step - loss: 0.1509 - acc: 0.9491 - val_loss: 0.4371 - val_acc: 0.8718\n",
            "Epoch 9/10\n",
            "20000/20000 [==============================] - 150s 8ms/step - loss: 0.1392 - acc: 0.9543 - val_loss: 0.3608 - val_acc: 0.8678\n",
            "Epoch 10/10\n",
            "20000/20000 [==============================] - 151s 8ms/step - loss: 0.1302 - acc: 0.9575 - val_loss: 0.3951 - val_acc: 0.8354\n"
          ],
          "name": "stdout"
        }
      ]
    },
    {
      "metadata": {
        "id": "uJG5LvtBJnCW",
        "colab_type": "code",
        "colab": {}
      },
      "cell_type": "code",
      "source": [
        "# Листинг 6.44. Обучение двунаправленной модели GRU\n",
        "\n",
        "from keras.models import Sequential\n",
        "from keras import layers\n",
        "from keras.optimizers import RMSprop\n",
        "\n",
        "model = Sequential()\n",
        "model.add(layers.Bidirectional(\n",
        "    layers.GRU(32), input_shape=(None, float_data.shape[-1])))\n",
        "model.add(layers.Dense(1))\n",
        "\n",
        "model.compile(optimizer=RMSprop(), loss='mae')\n",
        "history = model.fit_generator(train_gen,\n",
        "                              steps_per_epoch=500,\n",
        "                              epochs=40,\n",
        "                              validation_data=val_gen,\n",
        "                              validation_steps=val_steps)"
      ],
      "execution_count": 0,
      "outputs": []
    },
    {
      "metadata": {
        "id": "6lmhgh9zRned",
        "colab_type": "text"
      },
      "cell_type": "markdown",
      "source": [
        "### 6.4. Обработка последовательностей с помощью сверточных нейронных сетей"
      ]
    },
    {
      "metadata": {
        "id": "dWwtj_9m_z5r",
        "colab_type": "text"
      },
      "cell_type": "markdown",
      "source": [
        "#### 1d CNN для отзывов IMDB"
      ]
    },
    {
      "metadata": {
        "id": "gVBh6232_w3D",
        "colab_type": "code",
        "colab": {
          "base_uri": "https://localhost:8080/",
          "height": 118
        },
        "outputId": "b2f34e2d-1395-44f0-dd49-8cf617afa1d5"
      },
      "cell_type": "code",
      "source": [
        "from keras.datasets import imdb\n",
        "from keras.preprocessing import sequence\n",
        "\n",
        "max_features = 10000  # number of words to consider as features\n",
        "max_len = 500  # cut texts after this number of words (among top max_features most common words)\n",
        "\n",
        "print('Loading data...')\n",
        "(x_train, y_train), (x_test, y_test) = imdb.load_data(num_words=max_features)\n",
        "print(len(x_train), 'train sequences')\n",
        "print(len(x_test), 'test sequences')\n",
        "\n",
        "print('Pad sequences (samples x time)')\n",
        "x_train = sequence.pad_sequences(x_train, maxlen=max_len)\n",
        "x_test = sequence.pad_sequences(x_test, maxlen=max_len)\n",
        "print('x_train shape:', x_train.shape)\n",
        "print('x_test shape:', x_test.shape)"
      ],
      "execution_count": 7,
      "outputs": [
        {
          "output_type": "stream",
          "text": [
            "Loading data...\n",
            "25000 train sequences\n",
            "25000 test sequences\n",
            "Pad sequences (samples x time)\n",
            "x_train shape: (25000, 500)\n",
            "x_test shape: (25000, 500)\n"
          ],
          "name": "stdout"
        }
      ]
    },
    {
      "metadata": {
        "id": "5bG15CFWJnYT",
        "colab_type": "code",
        "colab": {
          "base_uri": "https://localhost:8080/",
          "height": 759
        },
        "outputId": "3cb7af41-0b25-41c1-bf9d-961d609b121b"
      },
      "cell_type": "code",
      "source": [
        "# Листинг 6.46. Обучение и оценка простой одномерной сверточной сети на данных IMDB\n",
        "\n",
        "from keras.models import Sequential\n",
        "from keras import layers\n",
        "from keras.optimizers import RMSprop\n",
        "\n",
        "model = Sequential()\n",
        "model.add(layers.Embedding(max_features, 128, input_length=max_len))\n",
        "model.add(layers.Conv1D(32, 7, activation='relu'))\n",
        "model.add(layers.MaxPooling1D(5))\n",
        "model.add(layers.Conv1D(32, 7, activation='relu'))\n",
        "model.add(layers.GlobalMaxPooling1D())\n",
        "model.add(layers.Dense(1))\n",
        "\n",
        "model.summary()\n",
        "\n",
        "model.compile(optimizer=RMSprop(lr=1e-4),\n",
        "              loss='binary_crossentropy',\n",
        "              metrics=['acc'])\n",
        "history = model.fit(x_train, y_train,\n",
        "                    epochs=10,\n",
        "                    batch_size=128,\n",
        "                    validation_split=0.2)"
      ],
      "execution_count": 8,
      "outputs": [
        {
          "output_type": "stream",
          "text": [
            "_________________________________________________________________\n",
            "Layer (type)                 Output Shape              Param #   \n",
            "=================================================================\n",
            "embedding_7 (Embedding)      (None, 500, 128)          1280000   \n",
            "_________________________________________________________________\n",
            "conv1d_1 (Conv1D)            (None, 494, 32)           28704     \n",
            "_________________________________________________________________\n",
            "max_pooling1d_1 (MaxPooling1 (None, 98, 32)            0         \n",
            "_________________________________________________________________\n",
            "conv1d_2 (Conv1D)            (None, 92, 32)            7200      \n",
            "_________________________________________________________________\n",
            "global_max_pooling1d_1 (Glob (None, 32)                0         \n",
            "_________________________________________________________________\n",
            "dense_7 (Dense)              (None, 1)                 33        \n",
            "=================================================================\n",
            "Total params: 1,315,937\n",
            "Trainable params: 1,315,937\n",
            "Non-trainable params: 0\n",
            "_________________________________________________________________\n",
            "WARNING:tensorflow:From /usr/local/lib/python3.6/dist-packages/tensorflow/python/ops/math_grad.py:102: div (from tensorflow.python.ops.math_ops) is deprecated and will be removed in a future version.\n",
            "Instructions for updating:\n",
            "Deprecated in favor of operator or tf.math.divide.\n",
            "Train on 20000 samples, validate on 5000 samples\n",
            "Epoch 1/10\n",
            "20000/20000 [==============================] - 83s 4ms/step - loss: 0.8337 - acc: 0.5094 - val_loss: 0.6874 - val_acc: 0.5652\n",
            "Epoch 2/10\n",
            "20000/20000 [==============================] - 83s 4ms/step - loss: 0.6699 - acc: 0.6387 - val_loss: 0.6641 - val_acc: 0.6584\n",
            "Epoch 3/10\n",
            "20000/20000 [==============================] - 81s 4ms/step - loss: 0.6235 - acc: 0.7534 - val_loss: 0.6080 - val_acc: 0.7440\n",
            "Epoch 4/10\n",
            "20000/20000 [==============================] - 82s 4ms/step - loss: 0.5257 - acc: 0.8080 - val_loss: 0.4826 - val_acc: 0.8062\n",
            "Epoch 5/10\n",
            "20000/20000 [==============================] - 85s 4ms/step - loss: 0.4149 - acc: 0.8469 - val_loss: 0.4309 - val_acc: 0.8310\n",
            "Epoch 6/10\n",
            "20000/20000 [==============================] - 84s 4ms/step - loss: 0.3523 - acc: 0.8679 - val_loss: 0.4161 - val_acc: 0.8350\n",
            "Epoch 7/10\n",
            "20000/20000 [==============================] - 81s 4ms/step - loss: 0.3100 - acc: 0.8651 - val_loss: 0.4504 - val_acc: 0.8200\n",
            "Epoch 8/10\n",
            "20000/20000 [==============================] - 83s 4ms/step - loss: 0.2794 - acc: 0.8549 - val_loss: 0.4212 - val_acc: 0.8098\n",
            "Epoch 9/10\n",
            "20000/20000 [==============================] - 82s 4ms/step - loss: 0.2537 - acc: 0.8405 - val_loss: 0.4388 - val_acc: 0.7936\n",
            "Epoch 10/10\n",
            "20000/20000 [==============================] - 79s 4ms/step - loss: 0.2307 - acc: 0.8158 - val_loss: 0.4923 - val_acc: 0.7578\n"
          ],
          "name": "stdout"
        }
      ]
    },
    {
      "metadata": {
        "id": "-bhEQgPdJn-m",
        "colab_type": "code",
        "colab": {
          "base_uri": "https://localhost:8080/",
          "height": 706
        },
        "outputId": "898dc482-65e7-4dbe-c4b1-a681fcee4197"
      },
      "cell_type": "code",
      "source": [
        "import matplotlib.pyplot as plt\n",
        "\n",
        "acc = history.history['acc']\n",
        "val_acc = history.history['val_acc']\n",
        "loss = history.history['loss']\n",
        "val_loss = history.history['val_loss']\n",
        "\n",
        "epochs = range(len(acc))\n",
        "\n",
        "plt.plot(epochs, acc, 'bo', label='Training acc')\n",
        "plt.plot(epochs, val_acc, 'b', label='Validation acc')\n",
        "plt.title('Training and validation accuracy')\n",
        "plt.legend()\n",
        "\n",
        "plt.figure()\n",
        "\n",
        "plt.plot(epochs, loss, 'bo', label='Training loss')\n",
        "plt.plot(epochs, val_loss, 'b', label='Validation loss')\n",
        "plt.title('Training and validation loss')\n",
        "plt.legend()\n",
        "\n",
        "plt.show()"
      ],
      "execution_count": 9,
      "outputs": [
        {
          "output_type": "display_data",
          "data": {
            "image/png": "[encoded data removed]",
            "text/plain": [
              "<Figure size 576x396 with 1 Axes>"
            ]
          },
          "metadata": {
            "tags": []
          }
        },
        {
          "output_type": "display_data",
          "data": {
            "image/png": "[encoded data removed]",
            "text/plain": [
              "<Figure size 576x396 with 1 Axes>"
            ]
          },
          "metadata": {
            "tags": []
          }
        }
      ]
    },
    {
      "metadata": {
        "id": "T3CqBsa8Is5E",
        "colab_type": "text"
      },
      "cell_type": "markdown",
      "source": [
        "#### Обучение и оценка простой 1dCNN на данных из набора Jena"
      ]
    },
    {
      "metadata": {
        "id": "Yg3E67ybJn7f",
        "colab_type": "code",
        "colab": {}
      },
      "cell_type": "code",
      "source": [
        "# Листинг 6.47. Обучение и оценка простой одномерной сверточной сети на данных из набора Jena\n",
        "\n",
        "from keras.models import Sequential\n",
        "from keras import layers\n",
        "from keras.optimizers import RMSprop\n",
        "\n",
        "model = Sequential()\n",
        "model.add(layers.Conv1D(32, 5, activation='relu',\n",
        "                        input_shape=(None, float_data.shape[-1])))\n",
        "model.add(layers.MaxPooling1D(3))\n",
        "model.add(layers.Conv1D(32, 5, activation='relu'))\n",
        "model.add(layers.MaxPooling1D(3))\n",
        "model.add(layers.Conv1D(32, 5, activation='relu'))\n",
        "model.add(layers.GlobalMaxPooling1D())\n",
        "model.add(layers.Dense(1))\n",
        "\n",
        "model.compile(optimizer=RMSprop(), loss='mae')\n",
        "history = model.fit_generator(train_gen,\n",
        "                              steps_per_epoch=500,\n",
        "                              epochs=20,\n",
        "                              validation_data=val_gen,\n",
        "                              validation_steps=val_steps)"
      ],
      "execution_count": 0,
      "outputs": []
    },
    {
      "metadata": {
        "id": "b3H2waAqkSnD",
        "colab_type": "text"
      },
      "cell_type": "markdown",
      "source": [
        "#### Предсказания температуры. Модель, объединяющая одномерную сверточную основу и уровень GRU"
      ]
    },
    {
      "metadata": {
        "id": "Fbbrs8_dJn2_",
        "colab_type": "code",
        "colab": {}
      },
      "cell_type": "code",
      "source": [
        "# Листинг 6.48. Подготовка генераторов данных с высоким разрешением для набора данных Jena\n",
        "\n",
        "# This was previously set to 6 (one point per hour).\n",
        "# Now 3 (one point per 30 min).\n",
        "step = 3\n",
        "lookback = 720  # Unchanged\n",
        "delay = 144 # Unchanged\n",
        "\n",
        "train_gen = generator(float_data,\n",
        "                      lookback=lookback,\n",
        "                      delay=delay,\n",
        "                      min_index=0,\n",
        "                      max_index=200000,\n",
        "                      shuffle=True,\n",
        "                      step=step)\n",
        "val_gen = generator(float_data,\n",
        "                    lookback=lookback,\n",
        "                    delay=delay,\n",
        "                    min_index=200001,\n",
        "                    max_index=300000,\n",
        "                    step=step)\n",
        "test_gen = generator(float_data,\n",
        "                     lookback=lookback,\n",
        "                     delay=delay,\n",
        "                     min_index=300001,\n",
        "                     max_index=None,\n",
        "                     step=step)\n",
        "val_steps = (300000 - 200001 - lookback) // 128\n",
        "test_steps = (len(float_data) - 300001 - lookback) // 128"
      ],
      "execution_count": 0,
      "outputs": []
    },
    {
      "metadata": {
        "id": "F37kxFiUJnzi",
        "colab_type": "code",
        "colab": {}
      },
      "cell_type": "code",
      "source": [
        "# Листинг 6.49. Модель, объединяющая одномерную сверточную основу и уровень GRU\n",
        "model = Sequential()\n",
        "model.add(layers.Conv1D(32, 5, activation='relu',\n",
        "                        input_shape=(None, float_data.shape[-1])))\n",
        "model.add(layers.MaxPooling1D(3))\n",
        "model.add(layers.Conv1D(32, 5, activation='relu'))\n",
        "model.add(layers.GRU(32, dropout=0.1, recurrent_dropout=0.5))\n",
        "model.add(layers.Dense(1))\n",
        "\n",
        "model.summary()\n",
        "\n",
        "model.compile(optimizer=RMSprop(), loss='mae')\n",
        "history = model.fit_generator(train_gen,\n",
        "                              steps_per_epoch=500,\n",
        "                              epochs=20,\n",
        "                              validation_data=val_gen,\n",
        "                              validation_steps=val_steps)"
      ],
      "execution_count": 0,
      "outputs": []
    },
    {
      "metadata": {
        "id": "mNhzesFkJnvn",
        "colab_type": "code",
        "colab": {}
      },
      "cell_type": "code",
      "source": [
        ""
      ],
      "execution_count": 0,
      "outputs": []
    }
  ]
}